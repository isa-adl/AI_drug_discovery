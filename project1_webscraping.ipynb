{
 "cells": [
  {
   "cell_type": "markdown",
   "metadata": {},
   "source": [
    "# Project One - Webscraping \n",
    "## AI Startups in Biotech\n",
    "\n",
    "- In what therapeutic area are they mostly in? \n",
    "- Have more AI startups been founded in recent years/has it peaked already? \n",
    "- What indication are they treating? \n",
    "- What stage are they in?"
   ]
  },
  {
   "cell_type": "code",
   "execution_count": 1,
   "metadata": {},
   "outputs": [],
   "source": [
    "#importing packages\n",
    "import pandas as pd\n",
    "import numpy as np\n",
    "import seaborn as sns\n",
    "from matplotlib import pyplot as plt\n",
    "plt.style.use('ggplot')"
   ]
  },
  {
   "cell_type": "code",
   "execution_count": 2,
   "metadata": {},
   "outputs": [],
   "source": [
    "#so all DataFrame data is displayed\n",
    "pd.set_option('display.max_columns',None)\n",
    "pd.set_option('display.min_rows',0)\n",
    "pd.set_option('display.max_rows',100)"
   ]
  },
  {
   "cell_type": "markdown",
   "metadata": {},
   "source": [
    "### Dataset 1: Drugs in the AI in Drug Discovery Pipeline Dataset\n",
    "- data scraped from https://blog.benchsci.com/drugs-in-the-artificial-intelligence-in-drug-discovery-pipeline"
   ]
  },
  {
   "cell_type": "code",
   "execution_count": 3,
   "metadata": {
    "scrolled": true
   },
   "outputs": [
    {
     "data": {
      "text/html": [
       "<div>\n",
       "<style scoped>\n",
       "    .dataframe tbody tr th:only-of-type {\n",
       "        vertical-align: middle;\n",
       "    }\n",
       "\n",
       "    .dataframe tbody tr th {\n",
       "        vertical-align: top;\n",
       "    }\n",
       "\n",
       "    .dataframe thead th {\n",
       "        text-align: right;\n",
       "    }\n",
       "</style>\n",
       "<table border=\"1\" class=\"dataframe\">\n",
       "  <thead>\n",
       "    <tr style=\"text-align: right;\">\n",
       "      <th></th>\n",
       "      <th>company</th>\n",
       "      <th>drug</th>\n",
       "      <th>indication</th>\n",
       "      <th>stage</th>\n",
       "      <th>therapeutic_area</th>\n",
       "    </tr>\n",
       "  </thead>\n",
       "  <tbody>\n",
       "    <tr>\n",
       "      <th>0</th>\n",
       "      <td>Company</td>\n",
       "      <td>Drug</td>\n",
       "      <td>Indication</td>\n",
       "      <td>NaN</td>\n",
       "      <td>Therapeutic area</td>\n",
       "    </tr>\n",
       "    <tr>\n",
       "      <th>1</th>\n",
       "      <td>Acurastem</td>\n",
       "      <td>AS - 1</td>\n",
       "      <td>Amyotrophic lateral sclerosis and frontotempor...</td>\n",
       "      <td>Phase 3</td>\n",
       "      <td>Neurology</td>\n",
       "    </tr>\n",
       "    <tr>\n",
       "      <th>2</th>\n",
       "      <td>Pharnext</td>\n",
       "      <td>PXT3003</td>\n",
       "      <td>Charcot-Marie-Tooth disease type 1A adults</td>\n",
       "      <td>Phase 3</td>\n",
       "      <td>Neurology</td>\n",
       "    </tr>\n",
       "    <tr>\n",
       "      <th>3</th>\n",
       "      <td>Sunovion</td>\n",
       "      <td>SEP-363856</td>\n",
       "      <td>Schizophrenia</td>\n",
       "      <td>Phase 3</td>\n",
       "      <td>Neurology</td>\n",
       "    </tr>\n",
       "    <tr>\n",
       "      <th>4</th>\n",
       "      <td>AI Therapeutics</td>\n",
       "      <td>LAM–002</td>\n",
       "      <td>B-cell non-Hodgkin lymphoma (atezolizumab comb...</td>\n",
       "      <td>Phase 2</td>\n",
       "      <td>Oncology</td>\n",
       "    </tr>\n",
       "  </tbody>\n",
       "</table>\n",
       "</div>"
      ],
      "text/plain": [
       "           company        drug  \\\n",
       "0          Company        Drug   \n",
       "1        Acurastem      AS - 1   \n",
       "2         Pharnext     PXT3003   \n",
       "3         Sunovion  SEP-363856   \n",
       "4  AI Therapeutics     LAM–002   \n",
       "\n",
       "                                          indication    stage  \\\n",
       "0                                         Indication      NaN   \n",
       "1  Amyotrophic lateral sclerosis and frontotempor...  Phase 3   \n",
       "2         Charcot-Marie-Tooth disease type 1A adults  Phase 3   \n",
       "3                                      Schizophrenia  Phase 3   \n",
       "4  B-cell non-Hodgkin lymphoma (atezolizumab comb...  Phase 2   \n",
       "\n",
       "   therapeutic_area  \n",
       "0  Therapeutic area  \n",
       "1         Neurology  \n",
       "2         Neurology  \n",
       "3         Neurology  \n",
       "4          Oncology  "
      ]
     },
     "execution_count": 3,
     "metadata": {},
     "output_type": "execute_result"
    }
   ],
   "source": [
    "aidd_df=pd.read_csv('aidd.csv')\n",
    "aidd_df.head() #inspect first 5 rows"
   ]
  },
  {
   "cell_type": "markdown",
   "metadata": {},
   "source": [
    "- Needed to drop first index since it was duplicated in the CVS file\n",
    "- Drop function is nonmutating so I assigned it to a new DataFrame  "
   ]
  },
  {
   "cell_type": "code",
   "execution_count": 4,
   "metadata": {},
   "outputs": [
    {
     "name": "stdout",
     "output_type": "stream",
     "text": [
      "(262, 5)\n"
     ]
    },
    {
     "data": {
      "text/plain": [
       "count             262\n",
       "unique            117\n",
       "top       Undisclosed\n",
       "freq              115\n",
       "Name: drug, dtype: object"
      ]
     },
     "execution_count": 4,
     "metadata": {},
     "output_type": "execute_result"
    }
   ],
   "source": [
    "aidd_df2 = aidd_df.drop(aidd_df.index[[0]]).reset_index(drop=True) #drop = True so old index doesn't become a new column\n",
    "print(aidd_df2.shape) #checking the shape of df - 262 drugs\n",
    "aidd_df2.head()\n",
    "aidd_df2.drug.describe()"
   ]
  },
  {
   "cell_type": "markdown",
   "metadata": {},
   "source": [
    "### Dataset 2: 230 Startups Using AI in Drug Discovery\n",
    "- data scraped from https://blog.benchsci.com/startups-using-artificial-intelligence-in-drug-discovery"
   ]
  },
  {
   "cell_type": "code",
   "execution_count": 5,
   "metadata": {},
   "outputs": [
    {
     "name": "stdout",
     "output_type": "stream",
     "text": [
      "(230, 5)\n"
     ]
    },
    {
     "data": {
      "text/html": [
       "<div>\n",
       "<style scoped>\n",
       "    .dataframe tbody tr th:only-of-type {\n",
       "        vertical-align: middle;\n",
       "    }\n",
       "\n",
       "    .dataframe tbody tr th {\n",
       "        vertical-align: top;\n",
       "    }\n",
       "\n",
       "    .dataframe thead th {\n",
       "        text-align: right;\n",
       "    }\n",
       "</style>\n",
       "<table border=\"1\" class=\"dataframe\">\n",
       "  <thead>\n",
       "    <tr style=\"text-align: right;\">\n",
       "      <th></th>\n",
       "      <th>company</th>\n",
       "      <th>founded</th>\n",
       "      <th>headquarters</th>\n",
       "      <th>purpose</th>\n",
       "      <th>use</th>\n",
       "    </tr>\n",
       "  </thead>\n",
       "  <tbody>\n",
       "    <tr>\n",
       "      <th>0</th>\n",
       "      <td>3BIGS</td>\n",
       "      <td>2017</td>\n",
       "      <td>Suwon, Ch'ungch'ong-namdo, South Korea</td>\n",
       "      <td>Repurpose drugs for new indications</td>\n",
       "      <td>Discover relationships between diseases, targe...</td>\n",
       "    </tr>\n",
       "    <tr>\n",
       "      <th>1</th>\n",
       "      <td>Amplion</td>\n",
       "      <td>2013</td>\n",
       "      <td>Bend, Oregon, United States</td>\n",
       "      <td>Ensure an effective mix of biomarkers, establi...</td>\n",
       "      <td>Synthesize biomedical knowledge and biomarker ...</td>\n",
       "    </tr>\n",
       "    <tr>\n",
       "      <th>2</th>\n",
       "      <td>BioSymetrics</td>\n",
       "      <td>2015</td>\n",
       "      <td>New York, New York, United States</td>\n",
       "      <td>Integrate rapid analytics and machine learning...</td>\n",
       "      <td>Process raw phenotypic, imaging, drug, and gen...</td>\n",
       "    </tr>\n",
       "    <tr>\n",
       "      <th>3</th>\n",
       "      <td>Biorelate</td>\n",
       "      <td>2014</td>\n",
       "      <td>Oldham, Oldham, United Kingdom</td>\n",
       "      <td>Extract structured biological knowledge to pow...</td>\n",
       "      <td>Create curated databases from the analysis of ...</td>\n",
       "    </tr>\n",
       "    <tr>\n",
       "      <th>4</th>\n",
       "      <td>Causaly</td>\n",
       "      <td>2017</td>\n",
       "      <td>London, England, United Kingdom</td>\n",
       "      <td>Search for cause and effect relationships and ...</td>\n",
       "      <td>Read scientific articles and extract causal as...</td>\n",
       "    </tr>\n",
       "  </tbody>\n",
       "</table>\n",
       "</div>"
      ],
      "text/plain": [
       "        company  founded                            headquarters  \\\n",
       "0         3BIGS     2017  Suwon, Ch'ungch'ong-namdo, South Korea   \n",
       "1       Amplion     2013             Bend, Oregon, United States   \n",
       "2  BioSymetrics     2015       New York, New York, United States   \n",
       "3     Biorelate     2014          Oldham, Oldham, United Kingdom   \n",
       "4       Causaly     2017         London, England, United Kingdom   \n",
       "\n",
       "                                             purpose  \\\n",
       "0                Repurpose drugs for new indications   \n",
       "1  Ensure an effective mix of biomarkers, establi...   \n",
       "2  Integrate rapid analytics and machine learning...   \n",
       "3  Extract structured biological knowledge to pow...   \n",
       "4  Search for cause and effect relationships and ...   \n",
       "\n",
       "                                                 use  \n",
       "0  Discover relationships between diseases, targe...  \n",
       "1  Synthesize biomedical knowledge and biomarker ...  \n",
       "2  Process raw phenotypic, imaging, drug, and gen...  \n",
       "3  Create curated databases from the analysis of ...  \n",
       "4  Read scientific articles and extract causal as...  "
      ]
     },
     "execution_count": 5,
     "metadata": {},
     "output_type": "execute_result"
    }
   ],
   "source": [
    "ais_df = pd.read_csv('aistartups.csv')\n",
    "print(ais_df.shape) #checking the shape of df - 230 companies\n",
    "ais_df.head()"
   ]
  },
  {
   "cell_type": "markdown",
   "metadata": {},
   "source": [
    "### Exploring the Datasets\n",
    "#### Exploring Dataset 1: Drugs in the AI in Drug Discovery Pipeline Dataset\n"
   ]
  },
  {
   "cell_type": "code",
   "execution_count": 6,
   "metadata": {},
   "outputs": [
    {
     "data": {
      "text/plain": [
       "['company', 'drug', 'indication', 'stage', 'therapeutic_area']"
      ]
     },
     "execution_count": 6,
     "metadata": {},
     "output_type": "execute_result"
    }
   ],
   "source": [
    "aidd_df2.columns.tolist()"
   ]
  },
  {
   "cell_type": "code",
   "execution_count": 7,
   "metadata": {},
   "outputs": [
    {
     "data": {
      "text/plain": [
       "<matplotlib.axes._subplots.AxesSubplot at 0x1a17985890>"
      ]
     },
     "execution_count": 7,
     "metadata": {},
     "output_type": "execute_result"
    },
    {
     "data": {
      "image/png": "[encoded data removed]",
      "text/plain": [
       "<Figure size 432x288 with 1 Axes>"
      ]
     },
     "metadata": {},
     "output_type": "display_data"
    }
   ],
   "source": [
    "#Looking at the most stated indication\n",
    "ind_fig = aidd_df2.groupby('indication').filter(lambda x: x.shape[0] > 2)\n",
    "ind_fig['indication'].value_counts().plot(kind='bar',y='count', color='b')"
   ]
  },
  {
   "cell_type": "code",
   "execution_count": 8,
   "metadata": {},
   "outputs": [
    {
     "data": {
      "text/plain": [
       "Oncology                       108\n",
       "Neurology                       43\n",
       "Infectious disease              27\n",
       "Rare disease                    19\n",
       "Undisclosed                     15\n",
       "Metabolic disease               14\n",
       "Inflammation and immunology     11\n",
       "Cardiology                       7\n",
       "Fibrosis                         6\n",
       "Dermatology                      5\n",
       "Gastroenterology                 2\n",
       "Ophthalmology                    2\n",
       "Biogerontology                   1\n",
       "Respiratory                      1\n",
       "Hematology                       1\n",
       "Name: therapeutic_area, dtype: int64"
      ]
     },
     "execution_count": 8,
     "metadata": {},
     "output_type": "execute_result"
    }
   ],
   "source": [
    "aidd_df2['therapeutic_area'].value_counts()"
   ]
  },
  {
   "cell_type": "code",
   "execution_count": 9,
   "metadata": {},
   "outputs": [
    {
     "data": {
      "image/png": "[encoded data removed]",
      "text/plain": [
       "<Figure size 432x288 with 1 Axes>"
      ]
     },
     "metadata": {},
     "output_type": "display_data"
    }
   ],
   "source": [
    "#Looking at the spread of therapeutic area for the drugs\n",
    "ta_fig = aidd_df2.groupby('therapeutic_area').filter(lambda x: x.shape[0] > 5)\n",
    "ta_fig['therapeutic_area'].value_counts().sort_values(ascending=True).plot(kind='barh',y='count', color='b')\n",
    "plt.title('Therapeutic Area of Drugs in Drug Discovery Pipeline')\n",
    "plt.xlabel('Drug Count')\n",
    "plt.ylabel('Therapeutic Area')\n",
    "\n",
    "# def autolabel(rects):\n",
    "#     \"\"\"Attach a text label above each bar in *rects*, displaying its height.\"\"\"\n",
    "#     for rect in rects:\n",
    "#         length = rect.get_length()\n",
    "#         ax.annotate('{}'.format(length),\n",
    "#                     xy=(rect.get_x() + rect.get_width() / 2, height),\n",
    "#                     xytext=(0, 3),  # 3 points vertical offset\n",
    "#                     textcoords=\"offset points\",\n",
    "#                     ha='center', va='bottom')\n",
    "        \n",
    "plt.show()"
   ]
  },
  {
   "cell_type": "code",
   "execution_count": 10,
   "metadata": {
    "scrolled": true
   },
   "outputs": [
    {
     "data": {
      "text/plain": [
       "Oncology                       108\n",
       "Neurology                       43\n",
       "Infectious disease              27\n",
       "Rare disease                    19\n",
       "Undisclosed                     15\n",
       "Metabolic disease               14\n",
       "Inflammation and immunology     11\n",
       "Cardiology                       7\n",
       "Fibrosis                         6\n",
       "Dermatology                      5\n",
       "Gastroenterology                 2\n",
       "Ophthalmology                    2\n",
       "Biogerontology                   1\n",
       "Respiratory                      1\n",
       "Hematology                       1\n",
       "Name: therapeutic_area, dtype: int64"
      ]
     },
     "execution_count": 10,
     "metadata": {},
     "output_type": "execute_result"
    }
   ],
   "source": [
    "aidd_df2['therapeutic_area'].value_counts()"
   ]
  },
  {
   "cell_type": "code",
   "execution_count": 11,
   "metadata": {},
   "outputs": [
    {
     "data": {
      "image/png": "[encoded data removed]",
      "text/plain": [
       "<Figure size 432x288 with 1 Axes>"
      ]
     },
     "metadata": {},
     "output_type": "display_data"
    }
   ],
   "source": [
    "#Looking at the spread of stage of development for the drugs\n",
    "aidd_df2['stage'].value_counts().sort_values(ascending=True).plot(kind='barh',y='count', color='b')\n",
    "plt.title('Stage of Development of Drugs in Drug Discovery Pipeline')\n",
    "plt.xlabel('Drug Count')\n",
    "plt.ylabel('Stage of Development')\n",
    "plt.show()"
   ]
  },
  {
   "cell_type": "code",
   "execution_count": 12,
   "metadata": {
    "scrolled": false
   },
   "outputs": [
    {
     "data": {
      "text/plain": [
       "Preclinical    114\n",
       "Discovery      107\n",
       "Phase 1         20\n",
       "Phase 2         18\n",
       "Phase 3          3\n",
       "Name: stage, dtype: int64"
      ]
     },
     "execution_count": 12,
     "metadata": {},
     "output_type": "execute_result"
    }
   ],
   "source": [
    "aidd_df2['stage'].value_counts()"
   ]
  },
  {
   "cell_type": "code",
   "execution_count": 13,
   "metadata": {},
   "outputs": [
    {
     "data": {
      "text/plain": [
       "count             262\n",
       "unique              5\n",
       "top       Preclinical\n",
       "freq              114\n",
       "Name: stage, dtype: object"
      ]
     },
     "execution_count": 13,
     "metadata": {},
     "output_type": "execute_result"
    }
   ],
   "source": [
    "aidd_df2['stage'].describe()"
   ]
  },
  {
   "cell_type": "code",
   "execution_count": 14,
   "metadata": {},
   "outputs": [
    {
     "data": {
      "text/plain": [
       "0.4351145038167939"
      ]
     },
     "execution_count": 14,
     "metadata": {},
     "output_type": "execute_result"
    }
   ],
   "source": [
    "114/262"
   ]
  },
  {
   "cell_type": "markdown",
   "metadata": {},
   "source": [
    "#### Exploring Dataset 2: 230 Startups Using AI in Drug Discovery"
   ]
  },
  {
   "cell_type": "code",
   "execution_count": 15,
   "metadata": {},
   "outputs": [
    {
     "data": {
      "text/plain": [
       "['company', 'founded', 'headquarters', 'purpose', 'use']"
      ]
     },
     "execution_count": 15,
     "metadata": {},
     "output_type": "execute_result"
    }
   ],
   "source": [
    "ais_df.columns.tolist()"
   ]
  },
  {
   "cell_type": "code",
   "execution_count": 16,
   "metadata": {
    "scrolled": true
   },
   "outputs": [
    {
     "data": {
      "text/html": [
       "<div>\n",
       "<style scoped>\n",
       "    .dataframe tbody tr th:only-of-type {\n",
       "        vertical-align: middle;\n",
       "    }\n",
       "\n",
       "    .dataframe tbody tr th {\n",
       "        vertical-align: top;\n",
       "    }\n",
       "\n",
       "    .dataframe thead th {\n",
       "        text-align: right;\n",
       "    }\n",
       "</style>\n",
       "<table border=\"1\" class=\"dataframe\">\n",
       "  <thead>\n",
       "    <tr style=\"text-align: right;\">\n",
       "      <th></th>\n",
       "      <th>company</th>\n",
       "      <th>founded</th>\n",
       "      <th>headquarters</th>\n",
       "      <th>purpose</th>\n",
       "      <th>use</th>\n",
       "    </tr>\n",
       "  </thead>\n",
       "  <tbody>\n",
       "    <tr>\n",
       "      <th>0</th>\n",
       "      <td>3BIGS</td>\n",
       "      <td>2017</td>\n",
       "      <td>Suwon, Ch'ungch'ong-namdo, South Korea</td>\n",
       "      <td>Repurpose drugs for new indications</td>\n",
       "      <td>Discover relationships between diseases, targe...</td>\n",
       "    </tr>\n",
       "    <tr>\n",
       "      <th>1</th>\n",
       "      <td>Amplion</td>\n",
       "      <td>2013</td>\n",
       "      <td>Bend, Oregon, United States</td>\n",
       "      <td>Ensure an effective mix of biomarkers, establi...</td>\n",
       "      <td>Synthesize biomedical knowledge and biomarker ...</td>\n",
       "    </tr>\n",
       "    <tr>\n",
       "      <th>2</th>\n",
       "      <td>BioSymetrics</td>\n",
       "      <td>2015</td>\n",
       "      <td>New York, New York, United States</td>\n",
       "      <td>Integrate rapid analytics and machine learning...</td>\n",
       "      <td>Process raw phenotypic, imaging, drug, and gen...</td>\n",
       "    </tr>\n",
       "    <tr>\n",
       "      <th>3</th>\n",
       "      <td>Biorelate</td>\n",
       "      <td>2014</td>\n",
       "      <td>Oldham, Oldham, United Kingdom</td>\n",
       "      <td>Extract structured biological knowledge to pow...</td>\n",
       "      <td>Create curated databases from the analysis of ...</td>\n",
       "    </tr>\n",
       "    <tr>\n",
       "      <th>4</th>\n",
       "      <td>Causaly</td>\n",
       "      <td>2017</td>\n",
       "      <td>London, England, United Kingdom</td>\n",
       "      <td>Search for cause and effect relationships and ...</td>\n",
       "      <td>Read scientific articles and extract causal as...</td>\n",
       "    </tr>\n",
       "  </tbody>\n",
       "</table>\n",
       "</div>"
      ],
      "text/plain": [
       "        company  founded                            headquarters  \\\n",
       "0         3BIGS     2017  Suwon, Ch'ungch'ong-namdo, South Korea   \n",
       "1       Amplion     2013             Bend, Oregon, United States   \n",
       "2  BioSymetrics     2015       New York, New York, United States   \n",
       "3     Biorelate     2014          Oldham, Oldham, United Kingdom   \n",
       "4       Causaly     2017         London, England, United Kingdom   \n",
       "\n",
       "                                             purpose  \\\n",
       "0                Repurpose drugs for new indications   \n",
       "1  Ensure an effective mix of biomarkers, establi...   \n",
       "2  Integrate rapid analytics and machine learning...   \n",
       "3  Extract structured biological knowledge to pow...   \n",
       "4  Search for cause and effect relationships and ...   \n",
       "\n",
       "                                                 use  \n",
       "0  Discover relationships between diseases, targe...  \n",
       "1  Synthesize biomedical knowledge and biomarker ...  \n",
       "2  Process raw phenotypic, imaging, drug, and gen...  \n",
       "3  Create curated databases from the analysis of ...  \n",
       "4  Read scientific articles and extract causal as...  "
      ]
     },
     "execution_count": 16,
     "metadata": {},
     "output_type": "execute_result"
    }
   ],
   "source": [
    "ais_df.head()"
   ]
  },
  {
   "cell_type": "code",
   "execution_count": 17,
   "metadata": {},
   "outputs": [],
   "source": [
    "# ais_df['founded'].value_counts()"
   ]
  },
  {
   "cell_type": "code",
   "execution_count": 18,
   "metadata": {},
   "outputs": [],
   "source": [
    "#ais_df['headquarters'].value_counts()"
   ]
  },
  {
   "cell_type": "markdown",
   "metadata": {},
   "source": [
    "##### Decided to separate out headquarters to City, State, Country to analyze the data by country"
   ]
  },
  {
   "cell_type": "code",
   "execution_count": 19,
   "metadata": {},
   "outputs": [
    {
     "data": {
      "text/plain": [
       "str"
      ]
     },
     "execution_count": 19,
     "metadata": {},
     "output_type": "execute_result"
    }
   ],
   "source": [
    "type(ais_df.head()['headquarters'][0])"
   ]
  },
  {
   "cell_type": "code",
   "execution_count": 20,
   "metadata": {},
   "outputs": [
    {
     "data": {
      "text/plain": [
       "\"Suwon, Ch'ungch'ong-namdo, South Korea\""
      ]
     },
     "execution_count": 20,
     "metadata": {},
     "output_type": "execute_result"
    }
   ],
   "source": [
    "ais_df.head()['headquarters'][0]"
   ]
  },
  {
   "cell_type": "code",
   "execution_count": 21,
   "metadata": {},
   "outputs": [
    {
     "data": {
      "text/html": [
       "<div>\n",
       "<style scoped>\n",
       "    .dataframe tbody tr th:only-of-type {\n",
       "        vertical-align: middle;\n",
       "    }\n",
       "\n",
       "    .dataframe tbody tr th {\n",
       "        vertical-align: top;\n",
       "    }\n",
       "\n",
       "    .dataframe thead th {\n",
       "        text-align: right;\n",
       "    }\n",
       "</style>\n",
       "<table border=\"1\" class=\"dataframe\">\n",
       "  <thead>\n",
       "    <tr style=\"text-align: right;\">\n",
       "      <th></th>\n",
       "      <th>company</th>\n",
       "      <th>founded</th>\n",
       "      <th>headquarters</th>\n",
       "      <th>purpose</th>\n",
       "      <th>use</th>\n",
       "      <th>City</th>\n",
       "      <th>State</th>\n",
       "      <th>Country</th>\n",
       "    </tr>\n",
       "  </thead>\n",
       "  <tbody>\n",
       "    <tr>\n",
       "      <th>0</th>\n",
       "      <td>3BIGS</td>\n",
       "      <td>2017</td>\n",
       "      <td>Suwon, Ch'ungch'ong-namdo, South Korea</td>\n",
       "      <td>Repurpose drugs for new indications</td>\n",
       "      <td>Discover relationships between diseases, targe...</td>\n",
       "      <td>Suwon</td>\n",
       "      <td>Ch'ungch'ong-namdo</td>\n",
       "      <td>South Korea</td>\n",
       "    </tr>\n",
       "    <tr>\n",
       "      <th>1</th>\n",
       "      <td>Amplion</td>\n",
       "      <td>2013</td>\n",
       "      <td>Bend, Oregon, United States</td>\n",
       "      <td>Ensure an effective mix of biomarkers, establi...</td>\n",
       "      <td>Synthesize biomedical knowledge and biomarker ...</td>\n",
       "      <td>Bend</td>\n",
       "      <td>Oregon</td>\n",
       "      <td>United States</td>\n",
       "    </tr>\n",
       "    <tr>\n",
       "      <th>2</th>\n",
       "      <td>BioSymetrics</td>\n",
       "      <td>2015</td>\n",
       "      <td>New York, New York, United States</td>\n",
       "      <td>Integrate rapid analytics and machine learning...</td>\n",
       "      <td>Process raw phenotypic, imaging, drug, and gen...</td>\n",
       "      <td>New York</td>\n",
       "      <td>New York</td>\n",
       "      <td>United States</td>\n",
       "    </tr>\n",
       "    <tr>\n",
       "      <th>3</th>\n",
       "      <td>Biorelate</td>\n",
       "      <td>2014</td>\n",
       "      <td>Oldham, Oldham, United Kingdom</td>\n",
       "      <td>Extract structured biological knowledge to pow...</td>\n",
       "      <td>Create curated databases from the analysis of ...</td>\n",
       "      <td>Oldham</td>\n",
       "      <td>Oldham</td>\n",
       "      <td>United Kingdom</td>\n",
       "    </tr>\n",
       "    <tr>\n",
       "      <th>4</th>\n",
       "      <td>Causaly</td>\n",
       "      <td>2017</td>\n",
       "      <td>London, England, United Kingdom</td>\n",
       "      <td>Search for cause and effect relationships and ...</td>\n",
       "      <td>Read scientific articles and extract causal as...</td>\n",
       "      <td>London</td>\n",
       "      <td>England</td>\n",
       "      <td>United Kingdom</td>\n",
       "    </tr>\n",
       "  </tbody>\n",
       "</table>\n",
       "</div>"
      ],
      "text/plain": [
       "        company  founded                            headquarters  \\\n",
       "0         3BIGS     2017  Suwon, Ch'ungch'ong-namdo, South Korea   \n",
       "1       Amplion     2013             Bend, Oregon, United States   \n",
       "2  BioSymetrics     2015       New York, New York, United States   \n",
       "3     Biorelate     2014          Oldham, Oldham, United Kingdom   \n",
       "4       Causaly     2017         London, England, United Kingdom   \n",
       "\n",
       "                                             purpose  \\\n",
       "0                Repurpose drugs for new indications   \n",
       "1  Ensure an effective mix of biomarkers, establi...   \n",
       "2  Integrate rapid analytics and machine learning...   \n",
       "3  Extract structured biological knowledge to pow...   \n",
       "4  Search for cause and effect relationships and ...   \n",
       "\n",
       "                                                 use      City  \\\n",
       "0  Discover relationships between diseases, targe...     Suwon   \n",
       "1  Synthesize biomedical knowledge and biomarker ...      Bend   \n",
       "2  Process raw phenotypic, imaging, drug, and gen...  New York   \n",
       "3  Create curated databases from the analysis of ...    Oldham   \n",
       "4  Read scientific articles and extract causal as...    London   \n",
       "\n",
       "                State         Country  \n",
       "0  Ch'ungch'ong-namdo     South Korea  \n",
       "1              Oregon   United States  \n",
       "2            New York   United States  \n",
       "3              Oldham  United Kingdom  \n",
       "4             England  United Kingdom  "
      ]
     },
     "execution_count": 21,
     "metadata": {},
     "output_type": "execute_result"
    }
   ],
   "source": [
    "ais_df[['City',\"State\",'Country']] = ais_df['headquarters'].str.split(\", \",expand=True) \n",
    "\n",
    "ais_df.head()"
   ]
  },
  {
   "cell_type": "markdown",
   "metadata": {},
   "source": [
    "### Merged Datesets to create test DataFrame\n",
    "- There are 35 unique companies in the Drug dataset \n",
    "- I combined it with the startup dataset 2 (230 companies) so we would know more about the companies in the drug dataset 1\n",
    "- 34 companies were shared between the datasets"
   ]
  },
  {
   "cell_type": "code",
   "execution_count": 22,
   "metadata": {},
   "outputs": [
    {
     "data": {
      "text/plain": [
       "230"
      ]
     },
     "execution_count": 22,
     "metadata": {},
     "output_type": "execute_result"
    }
   ],
   "source": [
    "len(ais_df.company.unique())"
   ]
  },
  {
   "cell_type": "code",
   "execution_count": 23,
   "metadata": {
    "scrolled": true
   },
   "outputs": [
    {
     "data": {
      "text/plain": [
       "35"
      ]
     },
     "execution_count": 23,
     "metadata": {},
     "output_type": "execute_result"
    }
   ],
   "source": [
    "len(aidd_df2.company.unique())"
   ]
  },
  {
   "cell_type": "code",
   "execution_count": 24,
   "metadata": {},
   "outputs": [
    {
     "data": {
      "text/plain": [
       "261"
      ]
     },
     "execution_count": 24,
     "metadata": {},
     "output_type": "execute_result"
    }
   ],
   "source": [
    "#Merged to find more info on drugs \n",
    "test = pd.merge(ais_df, aidd_df2, on = 'company')\n",
    "test.shape[0]"
   ]
  },
  {
   "cell_type": "code",
   "execution_count": 25,
   "metadata": {},
   "outputs": [
    {
     "data": {
      "text/plain": [
       "34"
      ]
     },
     "execution_count": 25,
     "metadata": {},
     "output_type": "execute_result"
    }
   ],
   "source": [
    "len(test.company.unique()) #34 unique companies "
   ]
  },
  {
   "cell_type": "code",
   "execution_count": 26,
   "metadata": {},
   "outputs": [
    {
     "data": {
      "text/html": [
       "<div>\n",
       "<style scoped>\n",
       "    .dataframe tbody tr th:only-of-type {\n",
       "        vertical-align: middle;\n",
       "    }\n",
       "\n",
       "    .dataframe tbody tr th {\n",
       "        vertical-align: top;\n",
       "    }\n",
       "\n",
       "    .dataframe thead th {\n",
       "        text-align: right;\n",
       "    }\n",
       "</style>\n",
       "<table border=\"1\" class=\"dataframe\">\n",
       "  <thead>\n",
       "    <tr style=\"text-align: right;\">\n",
       "      <th></th>\n",
       "      <th>company</th>\n",
       "      <th>founded</th>\n",
       "      <th>headquarters</th>\n",
       "      <th>purpose</th>\n",
       "      <th>use</th>\n",
       "      <th>City</th>\n",
       "      <th>State</th>\n",
       "      <th>Country</th>\n",
       "      <th>drug</th>\n",
       "      <th>indication</th>\n",
       "      <th>stage</th>\n",
       "      <th>therapeutic_area</th>\n",
       "    </tr>\n",
       "  </thead>\n",
       "  <tbody>\n",
       "    <tr>\n",
       "      <th>0</th>\n",
       "      <td>Acurastem</td>\n",
       "      <td>2016</td>\n",
       "      <td>Monrovia, California, United States</td>\n",
       "      <td>Discover drugs for neurodenerative diseases, i...</td>\n",
       "      <td>Analyze data from sources including patient st...</td>\n",
       "      <td>Monrovia</td>\n",
       "      <td>California</td>\n",
       "      <td>United States</td>\n",
       "      <td>AS - 1</td>\n",
       "      <td>Amyotrophic lateral sclerosis and frontotempor...</td>\n",
       "      <td>Phase 3</td>\n",
       "      <td>Neurology</td>\n",
       "    </tr>\n",
       "    <tr>\n",
       "      <th>1</th>\n",
       "      <td>Acurastem</td>\n",
       "      <td>2016</td>\n",
       "      <td>Monrovia, California, United States</td>\n",
       "      <td>Discover drugs for neurodenerative diseases, i...</td>\n",
       "      <td>Analyze data from sources including patient st...</td>\n",
       "      <td>Monrovia</td>\n",
       "      <td>California</td>\n",
       "      <td>United States</td>\n",
       "      <td>AS - 3</td>\n",
       "      <td>Amyotrophic lateral sclerosis</td>\n",
       "      <td>Discovery</td>\n",
       "      <td>Neurology</td>\n",
       "    </tr>\n",
       "    <tr>\n",
       "      <th>2</th>\n",
       "      <td>Acurastem</td>\n",
       "      <td>2016</td>\n",
       "      <td>Monrovia, California, United States</td>\n",
       "      <td>Discover drugs for neurodenerative diseases, i...</td>\n",
       "      <td>Analyze data from sources including patient st...</td>\n",
       "      <td>Monrovia</td>\n",
       "      <td>California</td>\n",
       "      <td>United States</td>\n",
       "      <td>AS - 2</td>\n",
       "      <td>Amyotrophic lateral sclerosis</td>\n",
       "      <td>Discovery</td>\n",
       "      <td>Neurology</td>\n",
       "    </tr>\n",
       "    <tr>\n",
       "      <th>3</th>\n",
       "      <td>Acurastem</td>\n",
       "      <td>2016</td>\n",
       "      <td>Monrovia, California, United States</td>\n",
       "      <td>Discover drugs for neurodenerative diseases, i...</td>\n",
       "      <td>Analyze data from sources including patient st...</td>\n",
       "      <td>Monrovia</td>\n",
       "      <td>California</td>\n",
       "      <td>United States</td>\n",
       "      <td>AS - 1</td>\n",
       "      <td>Neurodegenerative diseases</td>\n",
       "      <td>Discovery</td>\n",
       "      <td>Neurology</td>\n",
       "    </tr>\n",
       "    <tr>\n",
       "      <th>4</th>\n",
       "      <td>Acurastem</td>\n",
       "      <td>2016</td>\n",
       "      <td>Monrovia, California, United States</td>\n",
       "      <td>Discover drugs for neurodenerative diseases, i...</td>\n",
       "      <td>Analyze data from sources including patient st...</td>\n",
       "      <td>Monrovia</td>\n",
       "      <td>California</td>\n",
       "      <td>United States</td>\n",
       "      <td>AS - 1</td>\n",
       "      <td>Anti-viral</td>\n",
       "      <td>Discovery</td>\n",
       "      <td>Infectious disease</td>\n",
       "    </tr>\n",
       "  </tbody>\n",
       "</table>\n",
       "</div>"
      ],
      "text/plain": [
       "     company  founded                         headquarters  \\\n",
       "0  Acurastem     2016  Monrovia, California, United States   \n",
       "1  Acurastem     2016  Monrovia, California, United States   \n",
       "2  Acurastem     2016  Monrovia, California, United States   \n",
       "3  Acurastem     2016  Monrovia, California, United States   \n",
       "4  Acurastem     2016  Monrovia, California, United States   \n",
       "\n",
       "                                             purpose  \\\n",
       "0  Discover drugs for neurodenerative diseases, i...   \n",
       "1  Discover drugs for neurodenerative diseases, i...   \n",
       "2  Discover drugs for neurodenerative diseases, i...   \n",
       "3  Discover drugs for neurodenerative diseases, i...   \n",
       "4  Discover drugs for neurodenerative diseases, i...   \n",
       "\n",
       "                                                 use      City       State  \\\n",
       "0  Analyze data from sources including patient st...  Monrovia  California   \n",
       "1  Analyze data from sources including patient st...  Monrovia  California   \n",
       "2  Analyze data from sources including patient st...  Monrovia  California   \n",
       "3  Analyze data from sources including patient st...  Monrovia  California   \n",
       "4  Analyze data from sources including patient st...  Monrovia  California   \n",
       "\n",
       "         Country    drug                                         indication  \\\n",
       "0  United States  AS - 1  Amyotrophic lateral sclerosis and frontotempor...   \n",
       "1  United States  AS - 3                      Amyotrophic lateral sclerosis   \n",
       "2  United States  AS - 2                      Amyotrophic lateral sclerosis   \n",
       "3  United States  AS - 1                         Neurodegenerative diseases   \n",
       "4  United States  AS - 1                                         Anti-viral   \n",
       "\n",
       "       stage    therapeutic_area  \n",
       "0    Phase 3           Neurology  \n",
       "1  Discovery           Neurology  \n",
       "2  Discovery           Neurology  \n",
       "3  Discovery           Neurology  \n",
       "4  Discovery  Infectious disease  "
      ]
     },
     "execution_count": 26,
     "metadata": {},
     "output_type": "execute_result"
    }
   ],
   "source": [
    "test.head(5) "
   ]
  },
  {
   "cell_type": "code",
   "execution_count": 27,
   "metadata": {},
   "outputs": [
    {
     "data": {
      "text/plain": [
       "0"
      ]
     },
     "execution_count": 27,
     "metadata": {},
     "output_type": "execute_result"
    }
   ],
   "source": [
    "test['City'].isnull().values.sum()"
   ]
  },
  {
   "cell_type": "code",
   "execution_count": 28,
   "metadata": {},
   "outputs": [
    {
     "data": {
      "text/plain": [
       "array(['Acurastem', 'Pharnext', 'Sunovion', 'AI Therapeutics', 'Berg',\n",
       "       'BioXcel Therapeutics', 'BlackThorn Therapeutics', 'Globavir',\n",
       "       'Lantern Pharma', 'SOM Biotech', 'Adagene',\n",
       "       'Cotinga Pharmaceuticals', 'Evaxion Biotech', 'Exscientia',\n",
       "       'Gritstone Oncology', 'Pharos iBT', 'Recursion Pharmaceuticals',\n",
       "       'Vaxine', 'Alphanosos', 'Auransa', 'Biovista', 'CaroCure',\n",
       "       'Cloud Pharmaceuticals', 'Collaborations Pharma', 'Coral Genomics',\n",
       "       'Deep Genomics', 'Healx', 'Neon Therapeutics', 'Reverie Labs',\n",
       "       'Standigm', 'TwoXAR', 'A2A Pharmaceuticals', 'Schrödinger',\n",
       "       'Sirenas', 'X-37'], dtype=object)"
      ]
     },
     "execution_count": 28,
     "metadata": {},
     "output_type": "execute_result"
    }
   ],
   "source": [
    "aidd_df2.company.unique()"
   ]
  },
  {
   "cell_type": "code",
   "execution_count": 29,
   "metadata": {},
   "outputs": [
    {
     "data": {
      "text/plain": [
       "array(['Acurastem', 'BioXcel Therapeutics', 'Biovista', 'Healx',\n",
       "       'Lantern Pharma', 'Pharnext', 'Recursion Pharmaceuticals',\n",
       "       'A2A Pharmaceuticals', 'AI Therapeutics', 'Adagene', 'Alphanosos',\n",
       "       'Auransa', 'Berg', 'BlackThorn Therapeutics', 'CaroCure',\n",
       "       'Cloud Pharmaceuticals', 'Collaborations Pharma',\n",
       "       'Cotinga Pharmaceuticals', 'Deep Genomics', 'Evaxion Biotech',\n",
       "       'Exscientia', 'Globavir', 'Gritstone Oncology',\n",
       "       'Neon Therapeutics', 'Pharos iBT', 'SOM Biotech', 'Sirenas',\n",
       "       'Standigm', 'TwoXAR', 'Vaxine', 'X-37', 'Coral Genomics',\n",
       "       'Reverie Labs', 'Schrödinger'], dtype=object)"
      ]
     },
     "execution_count": 29,
     "metadata": {},
     "output_type": "execute_result"
    }
   ],
   "source": [
    "test.company.unique()"
   ]
  },
  {
   "cell_type": "code",
   "execution_count": 30,
   "metadata": {},
   "outputs": [
    {
     "data": {
      "text/plain": [
       "['company', 'drug', 'indication', 'stage', 'therapeutic_area']"
      ]
     },
     "execution_count": 30,
     "metadata": {},
     "output_type": "execute_result"
    }
   ],
   "source": [
    "aidd_df2.columns.tolist()"
   ]
  },
  {
   "cell_type": "code",
   "execution_count": 31,
   "metadata": {},
   "outputs": [
    {
     "data": {
      "text/plain": [
       "['company',\n",
       " 'founded',\n",
       " 'headquarters',\n",
       " 'purpose',\n",
       " 'use',\n",
       " 'City',\n",
       " 'State',\n",
       " 'Country']"
      ]
     },
     "execution_count": 31,
     "metadata": {},
     "output_type": "execute_result"
    }
   ],
   "source": [
    "ais_df.columns.tolist()"
   ]
  },
  {
   "cell_type": "code",
   "execution_count": 32,
   "metadata": {},
   "outputs": [
    {
     "data": {
      "text/plain": [
       "['company',\n",
       " 'founded',\n",
       " 'headquarters',\n",
       " 'purpose',\n",
       " 'use',\n",
       " 'City',\n",
       " 'State',\n",
       " 'Country',\n",
       " 'drug',\n",
       " 'indication',\n",
       " 'stage',\n",
       " 'therapeutic_area']"
      ]
     },
     "execution_count": 32,
     "metadata": {},
     "output_type": "execute_result"
    }
   ],
   "source": [
    "test.columns.tolist()"
   ]
  },
  {
   "cell_type": "code",
   "execution_count": 33,
   "metadata": {},
   "outputs": [
    {
     "data": {
      "text/plain": [
       "'Charcot-Marie-Tooth disease type 1A adults'"
      ]
     },
     "execution_count": 33,
     "metadata": {},
     "output_type": "execute_result"
    }
   ],
   "source": [
    "aidd_df2.head()['indication'][1] #unique to each drug - good use for NLP"
   ]
  },
  {
   "cell_type": "code",
   "execution_count": 34,
   "metadata": {},
   "outputs": [
    {
     "data": {
      "text/plain": [
       "'Ensure an effective mix of biomarkers, establish differentiation, recruit the right patients, and identify the best companion diagnostic opportunities'"
      ]
     },
     "execution_count": 34,
     "metadata": {},
     "output_type": "execute_result"
    }
   ],
   "source": [
    "ais_df.head()['purpose'][1] #unique to each company - good use for NLP"
   ]
  },
  {
   "cell_type": "markdown",
   "metadata": {},
   "source": [
    "### Exploring countries list in Dataset 2 with 230 startups"
   ]
  },
  {
   "cell_type": "code",
   "execution_count": 35,
   "metadata": {},
   "outputs": [
    {
     "data": {
      "text/html": [
       "<div>\n",
       "<style scoped>\n",
       "    .dataframe tbody tr th:only-of-type {\n",
       "        vertical-align: middle;\n",
       "    }\n",
       "\n",
       "    .dataframe tbody tr th {\n",
       "        vertical-align: top;\n",
       "    }\n",
       "\n",
       "    .dataframe thead th {\n",
       "        text-align: right;\n",
       "    }\n",
       "</style>\n",
       "<table border=\"1\" class=\"dataframe\">\n",
       "  <thead>\n",
       "    <tr style=\"text-align: right;\">\n",
       "      <th></th>\n",
       "      <th>Country</th>\n",
       "    </tr>\n",
       "  </thead>\n",
       "  <tbody>\n",
       "    <tr>\n",
       "      <th>United States</th>\n",
       "      <td>126</td>\n",
       "    </tr>\n",
       "    <tr>\n",
       "      <th>United Kingdom</th>\n",
       "      <td>26</td>\n",
       "    </tr>\n",
       "    <tr>\n",
       "      <th>Canada</th>\n",
       "      <td>16</td>\n",
       "    </tr>\n",
       "    <tr>\n",
       "      <th>France</th>\n",
       "      <td>15</td>\n",
       "    </tr>\n",
       "    <tr>\n",
       "      <th>China</th>\n",
       "      <td>7</td>\n",
       "    </tr>\n",
       "    <tr>\n",
       "      <th>South Korea</th>\n",
       "      <td>6</td>\n",
       "    </tr>\n",
       "    <tr>\n",
       "      <th>Germany</th>\n",
       "      <td>4</td>\n",
       "    </tr>\n",
       "    <tr>\n",
       "      <th>Spain</th>\n",
       "      <td>3</td>\n",
       "    </tr>\n",
       "    <tr>\n",
       "      <th>Singapore</th>\n",
       "      <td>3</td>\n",
       "    </tr>\n",
       "    <tr>\n",
       "      <th>Israel</th>\n",
       "      <td>3</td>\n",
       "    </tr>\n",
       "    <tr>\n",
       "      <th>Hungary</th>\n",
       "      <td>2</td>\n",
       "    </tr>\n",
       "    <tr>\n",
       "      <th>Poland</th>\n",
       "      <td>2</td>\n",
       "    </tr>\n",
       "    <tr>\n",
       "      <th>Ireland</th>\n",
       "      <td>2</td>\n",
       "    </tr>\n",
       "    <tr>\n",
       "      <th>India</th>\n",
       "      <td>2</td>\n",
       "    </tr>\n",
       "    <tr>\n",
       "      <th>Australia</th>\n",
       "      <td>2</td>\n",
       "    </tr>\n",
       "    <tr>\n",
       "      <th>Austria</th>\n",
       "      <td>2</td>\n",
       "    </tr>\n",
       "    <tr>\n",
       "      <th>The Netherlands</th>\n",
       "      <td>1</td>\n",
       "    </tr>\n",
       "    <tr>\n",
       "      <th>Denmark</th>\n",
       "      <td>1</td>\n",
       "    </tr>\n",
       "    <tr>\n",
       "      <th>Bulgaria</th>\n",
       "      <td>1</td>\n",
       "    </tr>\n",
       "    <tr>\n",
       "      <th>Japan</th>\n",
       "      <td>1</td>\n",
       "    </tr>\n",
       "    <tr>\n",
       "      <th>Hong Kong</th>\n",
       "      <td>1</td>\n",
       "    </tr>\n",
       "    <tr>\n",
       "      <th>Switzerland</th>\n",
       "      <td>1</td>\n",
       "    </tr>\n",
       "    <tr>\n",
       "      <th>Italy</th>\n",
       "      <td>1</td>\n",
       "    </tr>\n",
       "    <tr>\n",
       "      <th>Norway</th>\n",
       "      <td>1</td>\n",
       "    </tr>\n",
       "    <tr>\n",
       "      <th>Finland</th>\n",
       "      <td>1</td>\n",
       "    </tr>\n",
       "  </tbody>\n",
       "</table>\n",
       "</div>"
      ],
      "text/plain": [
       "                 Country\n",
       "United States        126\n",
       "United Kingdom        26\n",
       "Canada                16\n",
       "France                15\n",
       "China                  7\n",
       "South Korea            6\n",
       "Germany                4\n",
       "Spain                  3\n",
       "Singapore              3\n",
       "Israel                 3\n",
       "Hungary                2\n",
       "Poland                 2\n",
       "Ireland                2\n",
       "India                  2\n",
       "Australia              2\n",
       "Austria                2\n",
       "The Netherlands        1\n",
       "Denmark                1\n",
       "Bulgaria               1\n",
       "Japan                  1\n",
       "Hong Kong              1\n",
       "Switzerland            1\n",
       "Italy                  1\n",
       "Norway                 1\n",
       "Finland                1"
      ]
     },
     "execution_count": 35,
     "metadata": {},
     "output_type": "execute_result"
    }
   ],
   "source": [
    "pd.DataFrame(ais_df['Country'].value_counts())"
   ]
  },
  {
   "cell_type": "code",
   "execution_count": 36,
   "metadata": {},
   "outputs": [
    {
     "data": {
      "image/png": "[encoded data removed]",
      "text/plain": [
       "<Figure size 432x288 with 1 Axes>"
      ]
     },
     "metadata": {},
     "output_type": "display_data"
    }
   ],
   "source": [
    "#Filtering for top 5 countries with startups \n",
    "ais_dfig = ais_df.groupby('Country').filter(lambda x: x.shape[0] > 6)\n",
    "ais_dfig['Country'].value_counts().sort_values(ascending=True).plot(kind='barh',y='count', color='b')\n",
    "plt.title('Top 5 Countries with the most Startups')\n",
    "plt.xlabel('Startup Count')\n",
    "plt.ylabel('Country of HQ')\n",
    "plt.show()"
   ]
  },
  {
   "cell_type": "code",
   "execution_count": 37,
   "metadata": {},
   "outputs": [
    {
     "data": {
      "text/plain": [
       "<matplotlib.axes._subplots.AxesSubplot at 0x1a1858e2d0>"
      ]
     },
     "execution_count": 37,
     "metadata": {},
     "output_type": "execute_result"
    },
    {
     "data": {
      "image/png": "[encoded data removed]",
      "text/plain": [
       "<Figure size 432x288 with 1 Axes>"
      ]
     },
     "metadata": {},
     "output_type": "display_data"
    }
   ],
   "source": [
    "#Bar graph of number of companies founded each year\n",
    "ais_df['founded'].value_counts().plot(kind='bar',y='count', color='b')"
   ]
  },
  {
   "cell_type": "code",
   "execution_count": 38,
   "metadata": {
    "scrolled": false
   },
   "outputs": [
    {
     "data": {
      "text/html": [
       "<div>\n",
       "<style scoped>\n",
       "    .dataframe tbody tr th:only-of-type {\n",
       "        vertical-align: middle;\n",
       "    }\n",
       "\n",
       "    .dataframe tbody tr th {\n",
       "        vertical-align: top;\n",
       "    }\n",
       "\n",
       "    .dataframe thead th {\n",
       "        text-align: right;\n",
       "    }\n",
       "</style>\n",
       "<table border=\"1\" class=\"dataframe\">\n",
       "  <thead>\n",
       "    <tr style=\"text-align: right;\">\n",
       "      <th></th>\n",
       "      <th></th>\n",
       "      <th>founded</th>\n",
       "    </tr>\n",
       "    <tr>\n",
       "      <th>Country</th>\n",
       "      <th>founded</th>\n",
       "      <th></th>\n",
       "    </tr>\n",
       "  </thead>\n",
       "  <tbody>\n",
       "    <tr>\n",
       "      <th rowspan=\"9\" valign=\"top\">Canada</th>\n",
       "      <th>2015</th>\n",
       "      <td>4</td>\n",
       "    </tr>\n",
       "    <tr>\n",
       "      <th>2017</th>\n",
       "      <td>3</td>\n",
       "    </tr>\n",
       "    <tr>\n",
       "      <th>2018</th>\n",
       "      <td>2</td>\n",
       "    </tr>\n",
       "    <tr>\n",
       "      <th>2019</th>\n",
       "      <td>2</td>\n",
       "    </tr>\n",
       "    <tr>\n",
       "      <th>2010</th>\n",
       "      <td>1</td>\n",
       "    </tr>\n",
       "    <tr>\n",
       "      <th>2012</th>\n",
       "      <td>1</td>\n",
       "    </tr>\n",
       "    <tr>\n",
       "      <th>2013</th>\n",
       "      <td>1</td>\n",
       "    </tr>\n",
       "    <tr>\n",
       "      <th>2014</th>\n",
       "      <td>1</td>\n",
       "    </tr>\n",
       "    <tr>\n",
       "      <th>2016</th>\n",
       "      <td>1</td>\n",
       "    </tr>\n",
       "    <tr>\n",
       "      <th rowspan=\"6\" valign=\"top\">China</th>\n",
       "      <th>2017</th>\n",
       "      <td>2</td>\n",
       "    </tr>\n",
       "    <tr>\n",
       "      <th>2011</th>\n",
       "      <td>1</td>\n",
       "    </tr>\n",
       "    <tr>\n",
       "      <th>2015</th>\n",
       "      <td>1</td>\n",
       "    </tr>\n",
       "    <tr>\n",
       "      <th>2016</th>\n",
       "      <td>1</td>\n",
       "    </tr>\n",
       "    <tr>\n",
       "      <th>2018</th>\n",
       "      <td>1</td>\n",
       "    </tr>\n",
       "    <tr>\n",
       "      <th>2019</th>\n",
       "      <td>1</td>\n",
       "    </tr>\n",
       "    <tr>\n",
       "      <th rowspan=\"10\" valign=\"top\">France</th>\n",
       "      <th>2013</th>\n",
       "      <td>2</td>\n",
       "    </tr>\n",
       "    <tr>\n",
       "      <th>2014</th>\n",
       "      <td>2</td>\n",
       "    </tr>\n",
       "    <tr>\n",
       "      <th>2015</th>\n",
       "      <td>2</td>\n",
       "    </tr>\n",
       "    <tr>\n",
       "      <th>2016</th>\n",
       "      <td>2</td>\n",
       "    </tr>\n",
       "    <tr>\n",
       "      <th>2019</th>\n",
       "      <td>2</td>\n",
       "    </tr>\n",
       "    <tr>\n",
       "      <th>2003</th>\n",
       "      <td>1</td>\n",
       "    </tr>\n",
       "    <tr>\n",
       "      <th>2007</th>\n",
       "      <td>1</td>\n",
       "    </tr>\n",
       "    <tr>\n",
       "      <th>2010</th>\n",
       "      <td>1</td>\n",
       "    </tr>\n",
       "    <tr>\n",
       "      <th>2011</th>\n",
       "      <td>1</td>\n",
       "    </tr>\n",
       "    <tr>\n",
       "      <th>2017</th>\n",
       "      <td>1</td>\n",
       "    </tr>\n",
       "    <tr>\n",
       "      <th rowspan=\"14\" valign=\"top\">United Kingdom</th>\n",
       "      <th>2012</th>\n",
       "      <td>5</td>\n",
       "    </tr>\n",
       "    <tr>\n",
       "      <th>2017</th>\n",
       "      <td>4</td>\n",
       "    </tr>\n",
       "    <tr>\n",
       "      <th>2016</th>\n",
       "      <td>3</td>\n",
       "    </tr>\n",
       "    <tr>\n",
       "      <th>2018</th>\n",
       "      <td>3</td>\n",
       "    </tr>\n",
       "    <tr>\n",
       "      <th>2014</th>\n",
       "      <td>2</td>\n",
       "    </tr>\n",
       "    <tr>\n",
       "      <th>1999</th>\n",
       "      <td>1</td>\n",
       "    </tr>\n",
       "    <tr>\n",
       "      <th>2001</th>\n",
       "      <td>1</td>\n",
       "    </tr>\n",
       "    <tr>\n",
       "      <th>2003</th>\n",
       "      <td>1</td>\n",
       "    </tr>\n",
       "    <tr>\n",
       "      <th>2006</th>\n",
       "      <td>1</td>\n",
       "    </tr>\n",
       "    <tr>\n",
       "      <th>2009</th>\n",
       "      <td>1</td>\n",
       "    </tr>\n",
       "    <tr>\n",
       "      <th>2010</th>\n",
       "      <td>1</td>\n",
       "    </tr>\n",
       "    <tr>\n",
       "      <th>2011</th>\n",
       "      <td>1</td>\n",
       "    </tr>\n",
       "    <tr>\n",
       "      <th>2013</th>\n",
       "      <td>1</td>\n",
       "    </tr>\n",
       "    <tr>\n",
       "      <th>2015</th>\n",
       "      <td>1</td>\n",
       "    </tr>\n",
       "    <tr>\n",
       "      <th rowspan=\"20\" valign=\"top\">United States</th>\n",
       "      <th>2017</th>\n",
       "      <td>21</td>\n",
       "    </tr>\n",
       "    <tr>\n",
       "      <th>2016</th>\n",
       "      <td>20</td>\n",
       "    </tr>\n",
       "    <tr>\n",
       "      <th>2015</th>\n",
       "      <td>17</td>\n",
       "    </tr>\n",
       "    <tr>\n",
       "      <th>2018</th>\n",
       "      <td>13</td>\n",
       "    </tr>\n",
       "    <tr>\n",
       "      <th>2014</th>\n",
       "      <td>12</td>\n",
       "    </tr>\n",
       "    <tr>\n",
       "      <th>2012</th>\n",
       "      <td>8</td>\n",
       "    </tr>\n",
       "    <tr>\n",
       "      <th>2013</th>\n",
       "      <td>7</td>\n",
       "    </tr>\n",
       "    <tr>\n",
       "      <th>2019</th>\n",
       "      <td>7</td>\n",
       "    </tr>\n",
       "    <tr>\n",
       "      <th>2011</th>\n",
       "      <td>5</td>\n",
       "    </tr>\n",
       "    <tr>\n",
       "      <th>2009</th>\n",
       "      <td>4</td>\n",
       "    </tr>\n",
       "    <tr>\n",
       "      <th>2008</th>\n",
       "      <td>3</td>\n",
       "    </tr>\n",
       "    <tr>\n",
       "      <th>1990</th>\n",
       "      <td>1</td>\n",
       "    </tr>\n",
       "    <tr>\n",
       "      <th>1999</th>\n",
       "      <td>1</td>\n",
       "    </tr>\n",
       "    <tr>\n",
       "      <th>2000</th>\n",
       "      <td>1</td>\n",
       "    </tr>\n",
       "    <tr>\n",
       "      <th>2002</th>\n",
       "      <td>1</td>\n",
       "    </tr>\n",
       "    <tr>\n",
       "      <th>2005</th>\n",
       "      <td>1</td>\n",
       "    </tr>\n",
       "    <tr>\n",
       "      <th>2006</th>\n",
       "      <td>1</td>\n",
       "    </tr>\n",
       "    <tr>\n",
       "      <th>2007</th>\n",
       "      <td>1</td>\n",
       "    </tr>\n",
       "    <tr>\n",
       "      <th>2010</th>\n",
       "      <td>1</td>\n",
       "    </tr>\n",
       "    <tr>\n",
       "      <th>2020</th>\n",
       "      <td>1</td>\n",
       "    </tr>\n",
       "  </tbody>\n",
       "</table>\n",
       "</div>"
      ],
      "text/plain": [
       "                        founded\n",
       "Country        founded         \n",
       "Canada         2015           4\n",
       "               2017           3\n",
       "               2018           2\n",
       "               2019           2\n",
       "               2010           1\n",
       "               2012           1\n",
       "               2013           1\n",
       "               2014           1\n",
       "               2016           1\n",
       "China          2017           2\n",
       "               2011           1\n",
       "               2015           1\n",
       "               2016           1\n",
       "               2018           1\n",
       "               2019           1\n",
       "France         2013           2\n",
       "               2014           2\n",
       "               2015           2\n",
       "               2016           2\n",
       "               2019           2\n",
       "               2003           1\n",
       "               2007           1\n",
       "               2010           1\n",
       "               2011           1\n",
       "               2017           1\n",
       "United Kingdom 2012           5\n",
       "               2017           4\n",
       "               2016           3\n",
       "               2018           3\n",
       "               2014           2\n",
       "               1999           1\n",
       "               2001           1\n",
       "               2003           1\n",
       "               2006           1\n",
       "               2009           1\n",
       "               2010           1\n",
       "               2011           1\n",
       "               2013           1\n",
       "               2015           1\n",
       "United States  2017          21\n",
       "               2016          20\n",
       "               2015          17\n",
       "               2018          13\n",
       "               2014          12\n",
       "               2012           8\n",
       "               2013           7\n",
       "               2019           7\n",
       "               2011           5\n",
       "               2009           4\n",
       "               2008           3\n",
       "               1990           1\n",
       "               1999           1\n",
       "               2000           1\n",
       "               2002           1\n",
       "               2005           1\n",
       "               2006           1\n",
       "               2007           1\n",
       "               2010           1\n",
       "               2020           1"
      ]
     },
     "execution_count": 38,
     "metadata": {},
     "output_type": "execute_result"
    }
   ],
   "source": [
    "# Created new DataFrame for top 5 countries sorted by year of founding\n",
    "cf = pd.DataFrame(ais_dfig.groupby('Country')['founded'].value_counts())\n",
    "cf"
   ]
  },
  {
   "cell_type": "markdown",
   "metadata": {},
   "source": [
    "### Creating a graph of startups founded by year separated in each top 5 countries"
   ]
  },
  {
   "cell_type": "code",
   "execution_count": 39,
   "metadata": {},
   "outputs": [
    {
     "data": {
      "text/html": [
       "<div>\n",
       "<style scoped>\n",
       "    .dataframe tbody tr th:only-of-type {\n",
       "        vertical-align: middle;\n",
       "    }\n",
       "\n",
       "    .dataframe tbody tr th {\n",
       "        vertical-align: top;\n",
       "    }\n",
       "\n",
       "    .dataframe thead th {\n",
       "        text-align: right;\n",
       "    }\n",
       "</style>\n",
       "<table border=\"1\" class=\"dataframe\">\n",
       "  <thead>\n",
       "    <tr style=\"text-align: right;\">\n",
       "      <th></th>\n",
       "      <th>Country</th>\n",
       "      <th>Year Founded</th>\n",
       "      <th>Count</th>\n",
       "    </tr>\n",
       "  </thead>\n",
       "  <tbody>\n",
       "    <tr>\n",
       "      <th>1</th>\n",
       "      <td>United States</td>\n",
       "      <td>2013</td>\n",
       "      <td>1</td>\n",
       "    </tr>\n",
       "    <tr>\n",
       "      <th>2</th>\n",
       "      <td>United States</td>\n",
       "      <td>2015</td>\n",
       "      <td>1</td>\n",
       "    </tr>\n",
       "    <tr>\n",
       "      <th>3</th>\n",
       "      <td>United Kingdom</td>\n",
       "      <td>2014</td>\n",
       "      <td>1</td>\n",
       "    </tr>\n",
       "    <tr>\n",
       "      <th>4</th>\n",
       "      <td>United Kingdom</td>\n",
       "      <td>2017</td>\n",
       "      <td>1</td>\n",
       "    </tr>\n",
       "    <tr>\n",
       "      <th>5</th>\n",
       "      <td>United States</td>\n",
       "      <td>2012</td>\n",
       "      <td>1</td>\n",
       "    </tr>\n",
       "    <tr>\n",
       "      <th>6</th>\n",
       "      <td>United States</td>\n",
       "      <td>2013</td>\n",
       "      <td>1</td>\n",
       "    </tr>\n",
       "    <tr>\n",
       "      <th>7</th>\n",
       "      <td>France</td>\n",
       "      <td>2014</td>\n",
       "      <td>1</td>\n",
       "    </tr>\n",
       "    <tr>\n",
       "      <th>9</th>\n",
       "      <td>United States</td>\n",
       "      <td>2017</td>\n",
       "      <td>1</td>\n",
       "    </tr>\n",
       "    <tr>\n",
       "      <th>10</th>\n",
       "      <td>United States</td>\n",
       "      <td>2015</td>\n",
       "      <td>1</td>\n",
       "    </tr>\n",
       "    <tr>\n",
       "      <th>11</th>\n",
       "      <td>United States</td>\n",
       "      <td>2017</td>\n",
       "      <td>1</td>\n",
       "    </tr>\n",
       "    <tr>\n",
       "      <th>13</th>\n",
       "      <td>United Kingdom</td>\n",
       "      <td>2017</td>\n",
       "      <td>1</td>\n",
       "    </tr>\n",
       "    <tr>\n",
       "      <th>14</th>\n",
       "      <td>United States</td>\n",
       "      <td>2017</td>\n",
       "      <td>1</td>\n",
       "    </tr>\n",
       "    <tr>\n",
       "      <th>16</th>\n",
       "      <td>United States</td>\n",
       "      <td>2014</td>\n",
       "      <td>1</td>\n",
       "    </tr>\n",
       "    <tr>\n",
       "      <th>18</th>\n",
       "      <td>United States</td>\n",
       "      <td>2018</td>\n",
       "      <td>1</td>\n",
       "    </tr>\n",
       "    <tr>\n",
       "      <th>19</th>\n",
       "      <td>United Kingdom</td>\n",
       "      <td>2001</td>\n",
       "      <td>1</td>\n",
       "    </tr>\n",
       "    <tr>\n",
       "      <th>20</th>\n",
       "      <td>Canada</td>\n",
       "      <td>2010</td>\n",
       "      <td>1</td>\n",
       "    </tr>\n",
       "    <tr>\n",
       "      <th>22</th>\n",
       "      <td>China</td>\n",
       "      <td>2016</td>\n",
       "      <td>1</td>\n",
       "    </tr>\n",
       "    <tr>\n",
       "      <th>23</th>\n",
       "      <td>France</td>\n",
       "      <td>2013</td>\n",
       "      <td>1</td>\n",
       "    </tr>\n",
       "    <tr>\n",
       "      <th>24</th>\n",
       "      <td>United States</td>\n",
       "      <td>2018</td>\n",
       "      <td>1</td>\n",
       "    </tr>\n",
       "    <tr>\n",
       "      <th>25</th>\n",
       "      <td>United States</td>\n",
       "      <td>2016</td>\n",
       "      <td>1</td>\n",
       "    </tr>\n",
       "    <tr>\n",
       "      <th>27</th>\n",
       "      <td>United States</td>\n",
       "      <td>2019</td>\n",
       "      <td>1</td>\n",
       "    </tr>\n",
       "    <tr>\n",
       "      <th>28</th>\n",
       "      <td>United States</td>\n",
       "      <td>2017</td>\n",
       "      <td>1</td>\n",
       "    </tr>\n",
       "    <tr>\n",
       "      <th>29</th>\n",
       "      <td>United States</td>\n",
       "      <td>2008</td>\n",
       "      <td>1</td>\n",
       "    </tr>\n",
       "    <tr>\n",
       "      <th>30</th>\n",
       "      <td>United States</td>\n",
       "      <td>2016</td>\n",
       "      <td>1</td>\n",
       "    </tr>\n",
       "    <tr>\n",
       "      <th>31</th>\n",
       "      <td>United Kingdom</td>\n",
       "      <td>2012</td>\n",
       "      <td>1</td>\n",
       "    </tr>\n",
       "    <tr>\n",
       "      <th>32</th>\n",
       "      <td>China</td>\n",
       "      <td>2018</td>\n",
       "      <td>1</td>\n",
       "    </tr>\n",
       "    <tr>\n",
       "      <th>33</th>\n",
       "      <td>United States</td>\n",
       "      <td>2012</td>\n",
       "      <td>1</td>\n",
       "    </tr>\n",
       "    <tr>\n",
       "      <th>34</th>\n",
       "      <td>United States</td>\n",
       "      <td>2016</td>\n",
       "      <td>1</td>\n",
       "    </tr>\n",
       "    <tr>\n",
       "      <th>35</th>\n",
       "      <td>United States</td>\n",
       "      <td>2013</td>\n",
       "      <td>1</td>\n",
       "    </tr>\n",
       "    <tr>\n",
       "      <th>37</th>\n",
       "      <td>United Kingdom</td>\n",
       "      <td>2016</td>\n",
       "      <td>1</td>\n",
       "    </tr>\n",
       "    <tr>\n",
       "      <th>39</th>\n",
       "      <td>United States</td>\n",
       "      <td>2009</td>\n",
       "      <td>1</td>\n",
       "    </tr>\n",
       "    <tr>\n",
       "      <th>42</th>\n",
       "      <td>United States</td>\n",
       "      <td>2011</td>\n",
       "      <td>1</td>\n",
       "    </tr>\n",
       "    <tr>\n",
       "      <th>43</th>\n",
       "      <td>United States</td>\n",
       "      <td>2015</td>\n",
       "      <td>1</td>\n",
       "    </tr>\n",
       "    <tr>\n",
       "      <th>44</th>\n",
       "      <td>Canada</td>\n",
       "      <td>2017</td>\n",
       "      <td>1</td>\n",
       "    </tr>\n",
       "    <tr>\n",
       "      <th>45</th>\n",
       "      <td>United Kingdom</td>\n",
       "      <td>2018</td>\n",
       "      <td>1</td>\n",
       "    </tr>\n",
       "    <tr>\n",
       "      <th>46</th>\n",
       "      <td>United States</td>\n",
       "      <td>2016</td>\n",
       "      <td>1</td>\n",
       "    </tr>\n",
       "    <tr>\n",
       "      <th>47</th>\n",
       "      <td>United Kingdom</td>\n",
       "      <td>2018</td>\n",
       "      <td>1</td>\n",
       "    </tr>\n",
       "    <tr>\n",
       "      <th>48</th>\n",
       "      <td>United Kingdom</td>\n",
       "      <td>2018</td>\n",
       "      <td>1</td>\n",
       "    </tr>\n",
       "    <tr>\n",
       "      <th>49</th>\n",
       "      <td>Canada</td>\n",
       "      <td>2016</td>\n",
       "      <td>1</td>\n",
       "    </tr>\n",
       "    <tr>\n",
       "      <th>50</th>\n",
       "      <td>United States</td>\n",
       "      <td>2019</td>\n",
       "      <td>1</td>\n",
       "    </tr>\n",
       "    <tr>\n",
       "      <th>51</th>\n",
       "      <td>France</td>\n",
       "      <td>2003</td>\n",
       "      <td>1</td>\n",
       "    </tr>\n",
       "    <tr>\n",
       "      <th>52</th>\n",
       "      <td>United States</td>\n",
       "      <td>2005</td>\n",
       "      <td>1</td>\n",
       "    </tr>\n",
       "    <tr>\n",
       "      <th>53</th>\n",
       "      <td>United States</td>\n",
       "      <td>2017</td>\n",
       "      <td>1</td>\n",
       "    </tr>\n",
       "    <tr>\n",
       "      <th>55</th>\n",
       "      <td>United States</td>\n",
       "      <td>2016</td>\n",
       "      <td>1</td>\n",
       "    </tr>\n",
       "    <tr>\n",
       "      <th>56</th>\n",
       "      <td>United States</td>\n",
       "      <td>2009</td>\n",
       "      <td>1</td>\n",
       "    </tr>\n",
       "    <tr>\n",
       "      <th>58</th>\n",
       "      <td>United States</td>\n",
       "      <td>2015</td>\n",
       "      <td>1</td>\n",
       "    </tr>\n",
       "    <tr>\n",
       "      <th>60</th>\n",
       "      <td>United States</td>\n",
       "      <td>2018</td>\n",
       "      <td>1</td>\n",
       "    </tr>\n",
       "    <tr>\n",
       "      <th>62</th>\n",
       "      <td>United States</td>\n",
       "      <td>2009</td>\n",
       "      <td>1</td>\n",
       "    </tr>\n",
       "    <tr>\n",
       "      <th>63</th>\n",
       "      <td>United States</td>\n",
       "      <td>2002</td>\n",
       "      <td>1</td>\n",
       "    </tr>\n",
       "    <tr>\n",
       "      <th>64</th>\n",
       "      <td>United States</td>\n",
       "      <td>2014</td>\n",
       "      <td>1</td>\n",
       "    </tr>\n",
       "    <tr>\n",
       "      <th>...</th>\n",
       "      <td>...</td>\n",
       "      <td>...</td>\n",
       "      <td>...</td>\n",
       "    </tr>\n",
       "    <tr>\n",
       "      <th>173</th>\n",
       "      <td>United Kingdom</td>\n",
       "      <td>2015</td>\n",
       "      <td>1</td>\n",
       "    </tr>\n",
       "    <tr>\n",
       "      <th>174</th>\n",
       "      <td>Canada</td>\n",
       "      <td>2019</td>\n",
       "      <td>1</td>\n",
       "    </tr>\n",
       "    <tr>\n",
       "      <th>175</th>\n",
       "      <td>France</td>\n",
       "      <td>2017</td>\n",
       "      <td>1</td>\n",
       "    </tr>\n",
       "    <tr>\n",
       "      <th>178</th>\n",
       "      <td>United States</td>\n",
       "      <td>2007</td>\n",
       "      <td>1</td>\n",
       "    </tr>\n",
       "    <tr>\n",
       "      <th>181</th>\n",
       "      <td>United Kingdom</td>\n",
       "      <td>2016</td>\n",
       "      <td>1</td>\n",
       "    </tr>\n",
       "    <tr>\n",
       "      <th>183</th>\n",
       "      <td>Canada</td>\n",
       "      <td>2017</td>\n",
       "      <td>1</td>\n",
       "    </tr>\n",
       "    <tr>\n",
       "      <th>184</th>\n",
       "      <td>United States</td>\n",
       "      <td>1990</td>\n",
       "      <td>1</td>\n",
       "    </tr>\n",
       "    <tr>\n",
       "      <th>185</th>\n",
       "      <td>United States</td>\n",
       "      <td>2011</td>\n",
       "      <td>1</td>\n",
       "    </tr>\n",
       "    <tr>\n",
       "      <th>186</th>\n",
       "      <td>United States</td>\n",
       "      <td>2015</td>\n",
       "      <td>1</td>\n",
       "    </tr>\n",
       "    <tr>\n",
       "      <th>187</th>\n",
       "      <td>Canada</td>\n",
       "      <td>2015</td>\n",
       "      <td>1</td>\n",
       "    </tr>\n",
       "    <tr>\n",
       "      <th>188</th>\n",
       "      <td>United Kingdom</td>\n",
       "      <td>2012</td>\n",
       "      <td>1</td>\n",
       "    </tr>\n",
       "    <tr>\n",
       "      <th>189</th>\n",
       "      <td>United Kingdom</td>\n",
       "      <td>2016</td>\n",
       "      <td>1</td>\n",
       "    </tr>\n",
       "    <tr>\n",
       "      <th>190</th>\n",
       "      <td>United States</td>\n",
       "      <td>2011</td>\n",
       "      <td>1</td>\n",
       "    </tr>\n",
       "    <tr>\n",
       "      <th>191</th>\n",
       "      <td>United States</td>\n",
       "      <td>2010</td>\n",
       "      <td>1</td>\n",
       "    </tr>\n",
       "    <tr>\n",
       "      <th>192</th>\n",
       "      <td>United States</td>\n",
       "      <td>2012</td>\n",
       "      <td>1</td>\n",
       "    </tr>\n",
       "    <tr>\n",
       "      <th>193</th>\n",
       "      <td>United Kingdom</td>\n",
       "      <td>2011</td>\n",
       "      <td>1</td>\n",
       "    </tr>\n",
       "    <tr>\n",
       "      <th>194</th>\n",
       "      <td>United States</td>\n",
       "      <td>2017</td>\n",
       "      <td>1</td>\n",
       "    </tr>\n",
       "    <tr>\n",
       "      <th>195</th>\n",
       "      <td>United States</td>\n",
       "      <td>2000</td>\n",
       "      <td>1</td>\n",
       "    </tr>\n",
       "    <tr>\n",
       "      <th>196</th>\n",
       "      <td>United States</td>\n",
       "      <td>2017</td>\n",
       "      <td>1</td>\n",
       "    </tr>\n",
       "    <tr>\n",
       "      <th>197</th>\n",
       "      <td>France</td>\n",
       "      <td>2015</td>\n",
       "      <td>1</td>\n",
       "    </tr>\n",
       "    <tr>\n",
       "      <th>199</th>\n",
       "      <td>United States</td>\n",
       "      <td>2016</td>\n",
       "      <td>1</td>\n",
       "    </tr>\n",
       "    <tr>\n",
       "      <th>200</th>\n",
       "      <td>Canada</td>\n",
       "      <td>2018</td>\n",
       "      <td>1</td>\n",
       "    </tr>\n",
       "    <tr>\n",
       "      <th>201</th>\n",
       "      <td>United States</td>\n",
       "      <td>2012</td>\n",
       "      <td>1</td>\n",
       "    </tr>\n",
       "    <tr>\n",
       "      <th>202</th>\n",
       "      <td>United States</td>\n",
       "      <td>2016</td>\n",
       "      <td>1</td>\n",
       "    </tr>\n",
       "    <tr>\n",
       "      <th>203</th>\n",
       "      <td>United Kingdom</td>\n",
       "      <td>2010</td>\n",
       "      <td>1</td>\n",
       "    </tr>\n",
       "    <tr>\n",
       "      <th>204</th>\n",
       "      <td>United Kingdom</td>\n",
       "      <td>2009</td>\n",
       "      <td>1</td>\n",
       "    </tr>\n",
       "    <tr>\n",
       "      <th>205</th>\n",
       "      <td>United States</td>\n",
       "      <td>2015</td>\n",
       "      <td>1</td>\n",
       "    </tr>\n",
       "    <tr>\n",
       "      <th>206</th>\n",
       "      <td>United States</td>\n",
       "      <td>2017</td>\n",
       "      <td>1</td>\n",
       "    </tr>\n",
       "    <tr>\n",
       "      <th>207</th>\n",
       "      <td>France</td>\n",
       "      <td>2016</td>\n",
       "      <td>1</td>\n",
       "    </tr>\n",
       "    <tr>\n",
       "      <th>208</th>\n",
       "      <td>United States</td>\n",
       "      <td>2014</td>\n",
       "      <td>1</td>\n",
       "    </tr>\n",
       "    <tr>\n",
       "      <th>209</th>\n",
       "      <td>United States</td>\n",
       "      <td>2016</td>\n",
       "      <td>1</td>\n",
       "    </tr>\n",
       "    <tr>\n",
       "      <th>210</th>\n",
       "      <td>United States</td>\n",
       "      <td>2014</td>\n",
       "      <td>1</td>\n",
       "    </tr>\n",
       "    <tr>\n",
       "      <th>211</th>\n",
       "      <td>United States</td>\n",
       "      <td>2015</td>\n",
       "      <td>1</td>\n",
       "    </tr>\n",
       "    <tr>\n",
       "      <th>212</th>\n",
       "      <td>United States</td>\n",
       "      <td>2009</td>\n",
       "      <td>1</td>\n",
       "    </tr>\n",
       "    <tr>\n",
       "      <th>213</th>\n",
       "      <td>United States</td>\n",
       "      <td>2016</td>\n",
       "      <td>1</td>\n",
       "    </tr>\n",
       "    <tr>\n",
       "      <th>214</th>\n",
       "      <td>United States</td>\n",
       "      <td>2015</td>\n",
       "      <td>1</td>\n",
       "    </tr>\n",
       "    <tr>\n",
       "      <th>215</th>\n",
       "      <td>United States</td>\n",
       "      <td>2015</td>\n",
       "      <td>1</td>\n",
       "    </tr>\n",
       "    <tr>\n",
       "      <th>216</th>\n",
       "      <td>United States</td>\n",
       "      <td>2016</td>\n",
       "      <td>1</td>\n",
       "    </tr>\n",
       "    <tr>\n",
       "      <th>217</th>\n",
       "      <td>Canada</td>\n",
       "      <td>2015</td>\n",
       "      <td>1</td>\n",
       "    </tr>\n",
       "    <tr>\n",
       "      <th>218</th>\n",
       "      <td>United States</td>\n",
       "      <td>2012</td>\n",
       "      <td>1</td>\n",
       "    </tr>\n",
       "    <tr>\n",
       "      <th>219</th>\n",
       "      <td>France</td>\n",
       "      <td>2010</td>\n",
       "      <td>1</td>\n",
       "    </tr>\n",
       "    <tr>\n",
       "      <th>221</th>\n",
       "      <td>France</td>\n",
       "      <td>2015</td>\n",
       "      <td>1</td>\n",
       "    </tr>\n",
       "    <tr>\n",
       "      <th>222</th>\n",
       "      <td>United States</td>\n",
       "      <td>2017</td>\n",
       "      <td>1</td>\n",
       "    </tr>\n",
       "    <tr>\n",
       "      <th>223</th>\n",
       "      <td>Canada</td>\n",
       "      <td>2015</td>\n",
       "      <td>1</td>\n",
       "    </tr>\n",
       "    <tr>\n",
       "      <th>224</th>\n",
       "      <td>United States</td>\n",
       "      <td>2018</td>\n",
       "      <td>1</td>\n",
       "    </tr>\n",
       "    <tr>\n",
       "      <th>225</th>\n",
       "      <td>United States</td>\n",
       "      <td>2016</td>\n",
       "      <td>1</td>\n",
       "    </tr>\n",
       "    <tr>\n",
       "      <th>226</th>\n",
       "      <td>China</td>\n",
       "      <td>2017</td>\n",
       "      <td>1</td>\n",
       "    </tr>\n",
       "    <tr>\n",
       "      <th>227</th>\n",
       "      <td>United States</td>\n",
       "      <td>2014</td>\n",
       "      <td>1</td>\n",
       "    </tr>\n",
       "    <tr>\n",
       "      <th>228</th>\n",
       "      <td>United States</td>\n",
       "      <td>2013</td>\n",
       "      <td>1</td>\n",
       "    </tr>\n",
       "    <tr>\n",
       "      <th>229</th>\n",
       "      <td>United States</td>\n",
       "      <td>2017</td>\n",
       "      <td>1</td>\n",
       "    </tr>\n",
       "  </tbody>\n",
       "</table>\n",
       "<p>190 rows × 3 columns</p>\n",
       "</div>"
      ],
      "text/plain": [
       "            Country  Year Founded  Count\n",
       "1     United States          2013      1\n",
       "2     United States          2015      1\n",
       "3    United Kingdom          2014      1\n",
       "4    United Kingdom          2017      1\n",
       "5     United States          2012      1\n",
       "6     United States          2013      1\n",
       "7            France          2014      1\n",
       "9     United States          2017      1\n",
       "10    United States          2015      1\n",
       "11    United States          2017      1\n",
       "13   United Kingdom          2017      1\n",
       "14    United States          2017      1\n",
       "16    United States          2014      1\n",
       "18    United States          2018      1\n",
       "19   United Kingdom          2001      1\n",
       "20           Canada          2010      1\n",
       "22            China          2016      1\n",
       "23           France          2013      1\n",
       "24    United States          2018      1\n",
       "25    United States          2016      1\n",
       "27    United States          2019      1\n",
       "28    United States          2017      1\n",
       "29    United States          2008      1\n",
       "30    United States          2016      1\n",
       "31   United Kingdom          2012      1\n",
       "32            China          2018      1\n",
       "33    United States          2012      1\n",
       "34    United States          2016      1\n",
       "35    United States          2013      1\n",
       "37   United Kingdom          2016      1\n",
       "39    United States          2009      1\n",
       "42    United States          2011      1\n",
       "43    United States          2015      1\n",
       "44           Canada          2017      1\n",
       "45   United Kingdom          2018      1\n",
       "46    United States          2016      1\n",
       "47   United Kingdom          2018      1\n",
       "48   United Kingdom          2018      1\n",
       "49           Canada          2016      1\n",
       "50    United States          2019      1\n",
       "51           France          2003      1\n",
       "52    United States          2005      1\n",
       "53    United States          2017      1\n",
       "55    United States          2016      1\n",
       "56    United States          2009      1\n",
       "58    United States          2015      1\n",
       "60    United States          2018      1\n",
       "62    United States          2009      1\n",
       "63    United States          2002      1\n",
       "64    United States          2014      1\n",
       "..              ...           ...    ...\n",
       "173  United Kingdom          2015      1\n",
       "174          Canada          2019      1\n",
       "175          France          2017      1\n",
       "178   United States          2007      1\n",
       "181  United Kingdom          2016      1\n",
       "183          Canada          2017      1\n",
       "184   United States          1990      1\n",
       "185   United States          2011      1\n",
       "186   United States          2015      1\n",
       "187          Canada          2015      1\n",
       "188  United Kingdom          2012      1\n",
       "189  United Kingdom          2016      1\n",
       "190   United States          2011      1\n",
       "191   United States          2010      1\n",
       "192   United States          2012      1\n",
       "193  United Kingdom          2011      1\n",
       "194   United States          2017      1\n",
       "195   United States          2000      1\n",
       "196   United States          2017      1\n",
       "197          France          2015      1\n",
       "199   United States          2016      1\n",
       "200          Canada          2018      1\n",
       "201   United States          2012      1\n",
       "202   United States          2016      1\n",
       "203  United Kingdom          2010      1\n",
       "204  United Kingdom          2009      1\n",
       "205   United States          2015      1\n",
       "206   United States          2017      1\n",
       "207          France          2016      1\n",
       "208   United States          2014      1\n",
       "209   United States          2016      1\n",
       "210   United States          2014      1\n",
       "211   United States          2015      1\n",
       "212   United States          2009      1\n",
       "213   United States          2016      1\n",
       "214   United States          2015      1\n",
       "215   United States          2015      1\n",
       "216   United States          2016      1\n",
       "217          Canada          2015      1\n",
       "218   United States          2012      1\n",
       "219          France          2010      1\n",
       "221          France          2015      1\n",
       "222   United States          2017      1\n",
       "223          Canada          2015      1\n",
       "224   United States          2018      1\n",
       "225   United States          2016      1\n",
       "226           China          2017      1\n",
       "227   United States          2014      1\n",
       "228   United States          2013      1\n",
       "229   United States          2017      1\n",
       "\n",
       "[190 rows x 3 columns]"
      ]
     },
     "execution_count": 39,
     "metadata": {},
     "output_type": "execute_result"
    }
   ],
   "source": [
    "cf2 = pd.DataFrame({'Country' : ais_dfig['Country'], 'Year Founded' : ais_dfig['founded']})\n",
    "cf2[\"Count\"] = 1\n",
    "cf2"
   ]
  },
  {
   "cell_type": "code",
   "execution_count": 40,
   "metadata": {},
   "outputs": [
    {
     "data": {
      "text/plain": [
       "<seaborn.axisgrid.FacetGrid at 0x1a187406d0>"
      ]
     },
     "execution_count": 40,
     "metadata": {},
     "output_type": "execute_result"
    },
    {
     "data": {
      "image/png": "[encoded data removed]",
      "text/plain": [
       "<Figure size 476.25x360 with 1 Axes>"
      ]
     },
     "metadata": {},
     "output_type": "display_data"
    }
   ],
   "source": [
    "sns.lmplot(\"Year Founded\", \"Count\", cf2, hue=\"Country\")"
   ]
  },
  {
   "cell_type": "markdown",
   "metadata": {},
   "source": [
    "#### Question: How many startsup where founded in each top 5 countries each year \n",
    "- step 1: filter df by values of column "
   ]
  },
  {
   "cell_type": "code",
   "execution_count": 41,
   "metadata": {
    "scrolled": false
   },
   "outputs": [
    {
     "data": {
      "text/html": [
       "<div>\n",
       "<style scoped>\n",
       "    .dataframe tbody tr th:only-of-type {\n",
       "        vertical-align: middle;\n",
       "    }\n",
       "\n",
       "    .dataframe tbody tr th {\n",
       "        vertical-align: top;\n",
       "    }\n",
       "\n",
       "    .dataframe thead th {\n",
       "        text-align: right;\n",
       "    }\n",
       "</style>\n",
       "<table border=\"1\" class=\"dataframe\">\n",
       "  <thead>\n",
       "    <tr style=\"text-align: right;\">\n",
       "      <th></th>\n",
       "      <th>0</th>\n",
       "      <th>1</th>\n",
       "    </tr>\n",
       "  </thead>\n",
       "  <tbody>\n",
       "    <tr>\n",
       "      <th>0</th>\n",
       "      <td>1990</td>\n",
       "      <td>184    United States\n",
       "Name: Country, dtype: object</td>\n",
       "    </tr>\n",
       "    <tr>\n",
       "      <th>1</th>\n",
       "      <td>1999</td>\n",
       "      <td>67      United States\n",
       "101    United Kingdom\n",
       "Na...</td>\n",
       "    </tr>\n",
       "    <tr>\n",
       "      <th>2</th>\n",
       "      <td>2000</td>\n",
       "      <td>195    United States\n",
       "Name: Country, dtype: object</td>\n",
       "    </tr>\n",
       "    <tr>\n",
       "      <th>3</th>\n",
       "      <td>2001</td>\n",
       "      <td>19    United Kingdom\n",
       "Name: Country, dtype: object</td>\n",
       "    </tr>\n",
       "    <tr>\n",
       "      <th>4</th>\n",
       "      <td>2002</td>\n",
       "      <td>63    United States\n",
       "Name: Country, dtype: object</td>\n",
       "    </tr>\n",
       "    <tr>\n",
       "      <th>5</th>\n",
       "      <td>2003</td>\n",
       "      <td>51             France\n",
       "155    United Kingdom\n",
       "Na...</td>\n",
       "    </tr>\n",
       "    <tr>\n",
       "      <th>6</th>\n",
       "      <td>2005</td>\n",
       "      <td>52    United States\n",
       "Name: Country, dtype: object</td>\n",
       "    </tr>\n",
       "    <tr>\n",
       "      <th>7</th>\n",
       "      <td>2006</td>\n",
       "      <td>90      United States\n",
       "158    United Kingdom\n",
       "Na...</td>\n",
       "    </tr>\n",
       "    <tr>\n",
       "      <th>8</th>\n",
       "      <td>2007</td>\n",
       "      <td>73            France\n",
       "178    United States\n",
       "Name...</td>\n",
       "    </tr>\n",
       "    <tr>\n",
       "      <th>9</th>\n",
       "      <td>2008</td>\n",
       "      <td>29     United States\n",
       "86     United States\n",
       "133 ...</td>\n",
       "    </tr>\n",
       "    <tr>\n",
       "      <th>10</th>\n",
       "      <td>2009</td>\n",
       "      <td>39      United States\n",
       "56      United States\n",
       "62...</td>\n",
       "    </tr>\n",
       "    <tr>\n",
       "      <th>11</th>\n",
       "      <td>2010</td>\n",
       "      <td>20             Canada\n",
       "191     United States\n",
       "20...</td>\n",
       "    </tr>\n",
       "    <tr>\n",
       "      <th>12</th>\n",
       "      <td>2011</td>\n",
       "      <td>42      United States\n",
       "80              China\n",
       "11...</td>\n",
       "    </tr>\n",
       "    <tr>\n",
       "      <th>13</th>\n",
       "      <td>2012</td>\n",
       "      <td>5       United States\n",
       "31     United Kingdom\n",
       "33...</td>\n",
       "    </tr>\n",
       "    <tr>\n",
       "      <th>14</th>\n",
       "      <td>2013</td>\n",
       "      <td>1       United States\n",
       "6       United States\n",
       "23...</td>\n",
       "    </tr>\n",
       "    <tr>\n",
       "      <th>15</th>\n",
       "      <td>2014</td>\n",
       "      <td>3      United Kingdom\n",
       "7              France\n",
       "16...</td>\n",
       "    </tr>\n",
       "    <tr>\n",
       "      <th>16</th>\n",
       "      <td>2015</td>\n",
       "      <td>2       United States\n",
       "10      United States\n",
       "43...</td>\n",
       "    </tr>\n",
       "    <tr>\n",
       "      <th>17</th>\n",
       "      <td>2016</td>\n",
       "      <td>22              China\n",
       "25      United States\n",
       "30...</td>\n",
       "    </tr>\n",
       "    <tr>\n",
       "      <th>18</th>\n",
       "      <td>2017</td>\n",
       "      <td>4      United Kingdom\n",
       "9       United States\n",
       "11...</td>\n",
       "    </tr>\n",
       "    <tr>\n",
       "      <th>19</th>\n",
       "      <td>2018</td>\n",
       "      <td>18      United States\n",
       "24      United States\n",
       "32...</td>\n",
       "    </tr>\n",
       "    <tr>\n",
       "      <th>20</th>\n",
       "      <td>2019</td>\n",
       "      <td>27     United States\n",
       "50     United States\n",
       "70  ...</td>\n",
       "    </tr>\n",
       "    <tr>\n",
       "      <th>21</th>\n",
       "      <td>2020</td>\n",
       "      <td>136    United States\n",
       "Name: Country, dtype: object</td>\n",
       "    </tr>\n",
       "  </tbody>\n",
       "</table>\n",
       "</div>"
      ],
      "text/plain": [
       "       0                                                  1\n",
       "0   1990  184    United States\n",
       "Name: Country, dtype: object\n",
       "1   1999  67      United States\n",
       "101    United Kingdom\n",
       "Na...\n",
       "2   2000  195    United States\n",
       "Name: Country, dtype: object\n",
       "3   2001  19    United Kingdom\n",
       "Name: Country, dtype: object\n",
       "4   2002   63    United States\n",
       "Name: Country, dtype: object\n",
       "5   2003  51             France\n",
       "155    United Kingdom\n",
       "Na...\n",
       "6   2005   52    United States\n",
       "Name: Country, dtype: object\n",
       "7   2006  90      United States\n",
       "158    United Kingdom\n",
       "Na...\n",
       "8   2007  73            France\n",
       "178    United States\n",
       "Name...\n",
       "9   2008  29     United States\n",
       "86     United States\n",
       "133 ...\n",
       "10  2009  39      United States\n",
       "56      United States\n",
       "62...\n",
       "11  2010  20             Canada\n",
       "191     United States\n",
       "20...\n",
       "12  2011  42      United States\n",
       "80              China\n",
       "11...\n",
       "13  2012  5       United States\n",
       "31     United Kingdom\n",
       "33...\n",
       "14  2013  1       United States\n",
       "6       United States\n",
       "23...\n",
       "15  2014  3      United Kingdom\n",
       "7              France\n",
       "16...\n",
       "16  2015  2       United States\n",
       "10      United States\n",
       "43...\n",
       "17  2016  22              China\n",
       "25      United States\n",
       "30...\n",
       "18  2017  4      United Kingdom\n",
       "9       United States\n",
       "11...\n",
       "19  2018  18      United States\n",
       "24      United States\n",
       "32...\n",
       "20  2019  27     United States\n",
       "50     United States\n",
       "70  ...\n",
       "21  2020  136    United States\n",
       "Name: Country, dtype: object"
      ]
     },
     "execution_count": 41,
     "metadata": {},
     "output_type": "execute_result"
    }
   ],
   "source": [
    "cf2.columns.tolist()\n",
    "pd.DataFrame(cf2.groupby('Year Founded')['Country'])"
   ]
  },
  {
   "cell_type": "code",
   "execution_count": 42,
   "metadata": {},
   "outputs": [
    {
     "name": "stdout",
     "output_type": "stream",
     "text": [
      "(126, 8)\n"
     ]
    },
    {
     "data": {
      "text/plain": [
       "2017    21\n",
       "2016    20\n",
       "2015    17\n",
       "2018    13\n",
       "2014    12\n",
       "2012     8\n",
       "2013     7\n",
       "2019     7\n",
       "2011     5\n",
       "2009     4\n",
       "2008     3\n",
       "2020     1\n",
       "2002     1\n",
       "1999     1\n",
       "2000     1\n",
       "2010     1\n",
       "2005     1\n",
       "2006     1\n",
       "2007     1\n",
       "1990     1\n",
       "Name: founded, dtype: int64"
      ]
     },
     "execution_count": 42,
     "metadata": {},
     "output_type": "execute_result"
    },
    {
     "data": {
      "image/png": "[encoded data removed]",
      "text/plain": [
       "<Figure size 432x288 with 1 Axes>"
      ]
     },
     "metadata": {},
     "output_type": "display_data"
    }
   ],
   "source": [
    "is_USA = ais_df['Country']=='United States'\n",
    "ais_us = ais_df[is_USA]\n",
    "print(ais_us.shape)\n",
    "ais_us.head()\n",
    "ais_us.founded.value_counts().sort_values(ascending=True).plot(kind='bar', color='b')\n",
    "ais_us.founded.value_counts()"
   ]
  },
  {
   "cell_type": "code",
   "execution_count": 43,
   "metadata": {},
   "outputs": [
    {
     "name": "stdout",
     "output_type": "stream",
     "text": [
      "(15, 8)\n"
     ]
    },
    {
     "data": {
      "text/plain": [
       "<matplotlib.axes._subplots.AxesSubplot at 0x1a18ac5750>"
      ]
     },
     "execution_count": 43,
     "metadata": {},
     "output_type": "execute_result"
    },
    {
     "data": {
      "image/png": "[encoded data removed]",
      "text/plain": [
       "<Figure size 432x288 with 1 Axes>"
      ]
     },
     "metadata": {},
     "output_type": "display_data"
    }
   ],
   "source": [
    "is_FR = ais_df['Country']=='France'\n",
    "ais_FR = ais_df[is_FR]\n",
    "print(ais_FR.shape)\n",
    "ais_FR.head()\n",
    "ais_FR.founded.value_counts().sort_values(ascending=True).plot(kind='bar', color='b')"
   ]
  },
  {
   "cell_type": "code",
   "execution_count": 44,
   "metadata": {},
   "outputs": [
    {
     "data": {
      "text/plain": [
       "2017    21\n",
       "2016    20\n",
       "2015    17\n",
       "2018    13\n",
       "2014    12\n",
       "2012     8\n",
       "2013     7\n",
       "2019     7\n",
       "2011     5\n",
       "2009     4\n",
       "2008     3\n",
       "2020     1\n",
       "2002     1\n",
       "1999     1\n",
       "2000     1\n",
       "2010     1\n",
       "2005     1\n",
       "2006     1\n",
       "2007     1\n",
       "1990     1\n",
       "Name: founded, dtype: int64"
      ]
     },
     "execution_count": 44,
     "metadata": {},
     "output_type": "execute_result"
    }
   ],
   "source": [
    "ais_us.founded.value_counts()"
   ]
  },
  {
   "cell_type": "code",
   "execution_count": 45,
   "metadata": {},
   "outputs": [
    {
     "data": {
      "text/plain": [
       "United States     126\n",
       "United Kingdom     26\n",
       "Canada             16\n",
       "France             15\n",
       "China               7\n",
       "Name: Country, dtype: int64"
      ]
     },
     "execution_count": 45,
     "metadata": {},
     "output_type": "execute_result"
    }
   ],
   "source": [
    "ais_dfig['Country'].value_counts()\n",
    "\n",
    "# is_FR = ais_df['Country']=='France'\n",
    "# ais_FR = ais_df[is_FR]"
   ]
  },
  {
   "cell_type": "code",
   "execution_count": 46,
   "metadata": {},
   "outputs": [],
   "source": [
    "is_UK = ais_df['Country']=='United Kingdom'\n",
    "ais_UK = ais_df[is_UK]\n",
    "is_Canada = ais_df['Country']=='Canada'\n",
    "ais_Canada = ais_df[is_Canada]\n",
    "is_China = ais_df['Country']=='China'\n",
    "ais_China = ais_df[is_China]"
   ]
  },
  {
   "cell_type": "code",
   "execution_count": 47,
   "metadata": {},
   "outputs": [],
   "source": [
    "#new DataFrame of number of startups founded in each country indexed by year\n",
    "new_df=pd.DataFrame({'USA': ais_us.founded.value_counts(),'United Kingdom':ais_UK.founded.value_counts(), \\\n",
    "                     'Canada': ais_Canada.founded.value_counts(),'France': ais_FR.founded.value_counts(),'China': ais_China.founded.value_counts()})"
   ]
  },
  {
   "cell_type": "code",
   "execution_count": 48,
   "metadata": {},
   "outputs": [
    {
     "data": {
      "text/html": [
       "<div>\n",
       "<style scoped>\n",
       "    .dataframe tbody tr th:only-of-type {\n",
       "        vertical-align: middle;\n",
       "    }\n",
       "\n",
       "    .dataframe tbody tr th {\n",
       "        vertical-align: top;\n",
       "    }\n",
       "\n",
       "    .dataframe thead th {\n",
       "        text-align: right;\n",
       "    }\n",
       "</style>\n",
       "<table border=\"1\" class=\"dataframe\">\n",
       "  <thead>\n",
       "    <tr style=\"text-align: right;\">\n",
       "      <th></th>\n",
       "      <th>Year</th>\n",
       "      <th>USA</th>\n",
       "      <th>United Kingdom</th>\n",
       "      <th>Canada</th>\n",
       "      <th>France</th>\n",
       "      <th>China</th>\n",
       "    </tr>\n",
       "  </thead>\n",
       "  <tbody>\n",
       "    <tr>\n",
       "      <th>1990</th>\n",
       "      <td>1990</td>\n",
       "      <td>1.0</td>\n",
       "      <td>NaN</td>\n",
       "      <td>NaN</td>\n",
       "      <td>NaN</td>\n",
       "      <td>NaN</td>\n",
       "    </tr>\n",
       "    <tr>\n",
       "      <th>1999</th>\n",
       "      <td>1999</td>\n",
       "      <td>1.0</td>\n",
       "      <td>1.0</td>\n",
       "      <td>NaN</td>\n",
       "      <td>NaN</td>\n",
       "      <td>NaN</td>\n",
       "    </tr>\n",
       "    <tr>\n",
       "      <th>2000</th>\n",
       "      <td>2000</td>\n",
       "      <td>1.0</td>\n",
       "      <td>NaN</td>\n",
       "      <td>NaN</td>\n",
       "      <td>NaN</td>\n",
       "      <td>NaN</td>\n",
       "    </tr>\n",
       "    <tr>\n",
       "      <th>2001</th>\n",
       "      <td>2001</td>\n",
       "      <td>NaN</td>\n",
       "      <td>1.0</td>\n",
       "      <td>NaN</td>\n",
       "      <td>NaN</td>\n",
       "      <td>NaN</td>\n",
       "    </tr>\n",
       "    <tr>\n",
       "      <th>2002</th>\n",
       "      <td>2002</td>\n",
       "      <td>1.0</td>\n",
       "      <td>NaN</td>\n",
       "      <td>NaN</td>\n",
       "      <td>NaN</td>\n",
       "      <td>NaN</td>\n",
       "    </tr>\n",
       "    <tr>\n",
       "      <th>2003</th>\n",
       "      <td>2003</td>\n",
       "      <td>NaN</td>\n",
       "      <td>1.0</td>\n",
       "      <td>NaN</td>\n",
       "      <td>1.0</td>\n",
       "      <td>NaN</td>\n",
       "    </tr>\n",
       "    <tr>\n",
       "      <th>2005</th>\n",
       "      <td>2005</td>\n",
       "      <td>1.0</td>\n",
       "      <td>NaN</td>\n",
       "      <td>NaN</td>\n",
       "      <td>NaN</td>\n",
       "      <td>NaN</td>\n",
       "    </tr>\n",
       "    <tr>\n",
       "      <th>2006</th>\n",
       "      <td>2006</td>\n",
       "      <td>1.0</td>\n",
       "      <td>1.0</td>\n",
       "      <td>NaN</td>\n",
       "      <td>NaN</td>\n",
       "      <td>NaN</td>\n",
       "    </tr>\n",
       "    <tr>\n",
       "      <th>2007</th>\n",
       "      <td>2007</td>\n",
       "      <td>1.0</td>\n",
       "      <td>NaN</td>\n",
       "      <td>NaN</td>\n",
       "      <td>1.0</td>\n",
       "      <td>NaN</td>\n",
       "    </tr>\n",
       "    <tr>\n",
       "      <th>2008</th>\n",
       "      <td>2008</td>\n",
       "      <td>3.0</td>\n",
       "      <td>NaN</td>\n",
       "      <td>NaN</td>\n",
       "      <td>NaN</td>\n",
       "      <td>NaN</td>\n",
       "    </tr>\n",
       "    <tr>\n",
       "      <th>2009</th>\n",
       "      <td>2009</td>\n",
       "      <td>4.0</td>\n",
       "      <td>1.0</td>\n",
       "      <td>NaN</td>\n",
       "      <td>NaN</td>\n",
       "      <td>NaN</td>\n",
       "    </tr>\n",
       "    <tr>\n",
       "      <th>2010</th>\n",
       "      <td>2010</td>\n",
       "      <td>1.0</td>\n",
       "      <td>1.0</td>\n",
       "      <td>1.0</td>\n",
       "      <td>1.0</td>\n",
       "      <td>NaN</td>\n",
       "    </tr>\n",
       "    <tr>\n",
       "      <th>2011</th>\n",
       "      <td>2011</td>\n",
       "      <td>5.0</td>\n",
       "      <td>1.0</td>\n",
       "      <td>NaN</td>\n",
       "      <td>1.0</td>\n",
       "      <td>1.0</td>\n",
       "    </tr>\n",
       "    <tr>\n",
       "      <th>2012</th>\n",
       "      <td>2012</td>\n",
       "      <td>8.0</td>\n",
       "      <td>5.0</td>\n",
       "      <td>1.0</td>\n",
       "      <td>NaN</td>\n",
       "      <td>NaN</td>\n",
       "    </tr>\n",
       "    <tr>\n",
       "      <th>2013</th>\n",
       "      <td>2013</td>\n",
       "      <td>7.0</td>\n",
       "      <td>1.0</td>\n",
       "      <td>1.0</td>\n",
       "      <td>2.0</td>\n",
       "      <td>NaN</td>\n",
       "    </tr>\n",
       "    <tr>\n",
       "      <th>2014</th>\n",
       "      <td>2014</td>\n",
       "      <td>12.0</td>\n",
       "      <td>2.0</td>\n",
       "      <td>1.0</td>\n",
       "      <td>2.0</td>\n",
       "      <td>NaN</td>\n",
       "    </tr>\n",
       "    <tr>\n",
       "      <th>2015</th>\n",
       "      <td>2015</td>\n",
       "      <td>17.0</td>\n",
       "      <td>1.0</td>\n",
       "      <td>4.0</td>\n",
       "      <td>2.0</td>\n",
       "      <td>1.0</td>\n",
       "    </tr>\n",
       "    <tr>\n",
       "      <th>2016</th>\n",
       "      <td>2016</td>\n",
       "      <td>20.0</td>\n",
       "      <td>3.0</td>\n",
       "      <td>1.0</td>\n",
       "      <td>2.0</td>\n",
       "      <td>1.0</td>\n",
       "    </tr>\n",
       "    <tr>\n",
       "      <th>2017</th>\n",
       "      <td>2017</td>\n",
       "      <td>21.0</td>\n",
       "      <td>4.0</td>\n",
       "      <td>3.0</td>\n",
       "      <td>1.0</td>\n",
       "      <td>2.0</td>\n",
       "    </tr>\n",
       "    <tr>\n",
       "      <th>2018</th>\n",
       "      <td>2018</td>\n",
       "      <td>13.0</td>\n",
       "      <td>3.0</td>\n",
       "      <td>2.0</td>\n",
       "      <td>NaN</td>\n",
       "      <td>1.0</td>\n",
       "    </tr>\n",
       "    <tr>\n",
       "      <th>2019</th>\n",
       "      <td>2019</td>\n",
       "      <td>7.0</td>\n",
       "      <td>NaN</td>\n",
       "      <td>2.0</td>\n",
       "      <td>2.0</td>\n",
       "      <td>1.0</td>\n",
       "    </tr>\n",
       "    <tr>\n",
       "      <th>2020</th>\n",
       "      <td>2020</td>\n",
       "      <td>1.0</td>\n",
       "      <td>NaN</td>\n",
       "      <td>NaN</td>\n",
       "      <td>NaN</td>\n",
       "      <td>NaN</td>\n",
       "    </tr>\n",
       "  </tbody>\n",
       "</table>\n",
       "</div>"
      ],
      "text/plain": [
       "      Year   USA  United Kingdom  Canada  France  China\n",
       "1990  1990   1.0             NaN     NaN     NaN    NaN\n",
       "1999  1999   1.0             1.0     NaN     NaN    NaN\n",
       "2000  2000   1.0             NaN     NaN     NaN    NaN\n",
       "2001  2001   NaN             1.0     NaN     NaN    NaN\n",
       "2002  2002   1.0             NaN     NaN     NaN    NaN\n",
       "2003  2003   NaN             1.0     NaN     1.0    NaN\n",
       "2005  2005   1.0             NaN     NaN     NaN    NaN\n",
       "2006  2006   1.0             1.0     NaN     NaN    NaN\n",
       "2007  2007   1.0             NaN     NaN     1.0    NaN\n",
       "2008  2008   3.0             NaN     NaN     NaN    NaN\n",
       "2009  2009   4.0             1.0     NaN     NaN    NaN\n",
       "2010  2010   1.0             1.0     1.0     1.0    NaN\n",
       "2011  2011   5.0             1.0     NaN     1.0    1.0\n",
       "2012  2012   8.0             5.0     1.0     NaN    NaN\n",
       "2013  2013   7.0             1.0     1.0     2.0    NaN\n",
       "2014  2014  12.0             2.0     1.0     2.0    NaN\n",
       "2015  2015  17.0             1.0     4.0     2.0    1.0\n",
       "2016  2016  20.0             3.0     1.0     2.0    1.0\n",
       "2017  2017  21.0             4.0     3.0     1.0    2.0\n",
       "2018  2018  13.0             3.0     2.0     NaN    1.0\n",
       "2019  2019   7.0             NaN     2.0     2.0    1.0\n",
       "2020  2020   1.0             NaN     NaN     NaN    NaN"
      ]
     },
     "execution_count": 48,
     "metadata": {},
     "output_type": "execute_result"
    }
   ],
   "source": [
    "#Add Year as index\n",
    "new_df=pd.DataFrame({'Year': new_df.index, 'USA': ais_us.founded.value_counts(),'United Kingdom':ais_UK.founded.value_counts(), \\\n",
    "                     'Canada': ais_Canada.founded.value_counts(),'France': ais_FR.founded.value_counts(),'China': ais_China.founded.value_counts()})\n",
    "new_df"
   ]
  },
  {
   "cell_type": "code",
   "execution_count": 49,
   "metadata": {
    "scrolled": true
   },
   "outputs": [
    {
     "data": {
      "text/plain": [
       "Text(0.5, 0.98, 'How many startups founded each year by Country?')"
      ]
     },
     "execution_count": 49,
     "metadata": {},
     "output_type": "execute_result"
    },
    {
     "data": {
      "image/png": "[encoded data removed]",
      "text/plain": [
       "<Figure size 432x288 with 5 Axes>"
      ]
     },
     "metadata": {},
     "output_type": "display_data"
    }
   ],
   "source": [
    "#Found this was to have side by side graphs of the above data\n",
    "plt.style.use('seaborn-darkgrid')\n",
    " \n",
    "# create a color palette\n",
    "palette = plt.get_cmap('Set1')\n",
    " \n",
    "# multiple line plot\n",
    "num=0\n",
    "for column in new_df.drop('Year', axis=1):\n",
    "    num+=1\n",
    " \n",
    "    # Find the right spot on the plot\n",
    "    plt.subplot(3,3, num)\n",
    "    plt.subplots_adjust(left=None, bottom=.5, right=2, top=2, wspace=1, hspace=1)\n",
    "\n",
    "    \n",
    "    # Plot the lineplot\n",
    "    plt.plot(new_df['Year'], new_df[column], marker='', color=palette(num), alpha=0.9, label=column)\n",
    " \n",
    "    # Same limits for everybody!\n",
    "    plt.xlim(2005,2019)\n",
    "    plt.ylim(0,25)\n",
    " \n",
    "    # Not ticks everywhere\n",
    "#     if num in range(7) :\n",
    "#         plt.tick_params(labelbottom='off')\n",
    "#     if num not in [1,4,7] :\n",
    "#         plt.tick_params(labelleft='off')\n",
    " \n",
    "    # Add title\n",
    "    plt.title(column, loc='left', fontsize=12, fontweight=0, color=palette(num) )\n",
    " \n",
    "# general title\n",
    "plt.suptitle(\"How many startups founded each year by Country?\", fontsize=13, fontweight=0, color='black', style='italic')\n",
    " \n",
    "# # Axis title\n",
    "# plt.xlabel('Year', ha='center', va='center')\n",
    "# plt.ylabel('Number of Startups', ha='center', va='center', rotation='vertical')\n",
    "# plt.show()\n",
    "# plt.text(.0001,.0001, 'Year', ha='center', va='center')\n",
    "# plt.text(0.06, 0.5, 'Note', ha='center', va='center', rotation='vertical')\n",
    "# plt.text"
   ]
  },
  {
   "cell_type": "code",
   "execution_count": 50,
   "metadata": {},
   "outputs": [],
   "source": [
    "noUS_df = pd.DataFrame({'United Kingdom':ais_UK.founded.value_counts(), \\\n",
    "                     'Canada': ais_Canada.founded.value_counts(),'France': ais_FR.founded.value_counts(),'China': ais_China.founded.value_counts()})"
   ]
  },
  {
   "cell_type": "code",
   "execution_count": 51,
   "metadata": {},
   "outputs": [
    {
     "data": {
      "text/html": [
       "<div>\n",
       "<style scoped>\n",
       "    .dataframe tbody tr th:only-of-type {\n",
       "        vertical-align: middle;\n",
       "    }\n",
       "\n",
       "    .dataframe tbody tr th {\n",
       "        vertical-align: top;\n",
       "    }\n",
       "\n",
       "    .dataframe thead th {\n",
       "        text-align: right;\n",
       "    }\n",
       "</style>\n",
       "<table border=\"1\" class=\"dataframe\">\n",
       "  <thead>\n",
       "    <tr style=\"text-align: right;\">\n",
       "      <th></th>\n",
       "      <th>Year</th>\n",
       "      <th>United Kingdom</th>\n",
       "      <th>Canada</th>\n",
       "      <th>France</th>\n",
       "      <th>China</th>\n",
       "    </tr>\n",
       "  </thead>\n",
       "  <tbody>\n",
       "    <tr>\n",
       "      <th>1999</th>\n",
       "      <td>1999</td>\n",
       "      <td>1.0</td>\n",
       "      <td>NaN</td>\n",
       "      <td>NaN</td>\n",
       "      <td>NaN</td>\n",
       "    </tr>\n",
       "    <tr>\n",
       "      <th>2001</th>\n",
       "      <td>2001</td>\n",
       "      <td>1.0</td>\n",
       "      <td>NaN</td>\n",
       "      <td>NaN</td>\n",
       "      <td>NaN</td>\n",
       "    </tr>\n",
       "    <tr>\n",
       "      <th>2003</th>\n",
       "      <td>2003</td>\n",
       "      <td>1.0</td>\n",
       "      <td>NaN</td>\n",
       "      <td>1.0</td>\n",
       "      <td>NaN</td>\n",
       "    </tr>\n",
       "    <tr>\n",
       "      <th>2006</th>\n",
       "      <td>2006</td>\n",
       "      <td>1.0</td>\n",
       "      <td>NaN</td>\n",
       "      <td>NaN</td>\n",
       "      <td>NaN</td>\n",
       "    </tr>\n",
       "    <tr>\n",
       "      <th>2007</th>\n",
       "      <td>2007</td>\n",
       "      <td>NaN</td>\n",
       "      <td>NaN</td>\n",
       "      <td>1.0</td>\n",
       "      <td>NaN</td>\n",
       "    </tr>\n",
       "    <tr>\n",
       "      <th>2009</th>\n",
       "      <td>2009</td>\n",
       "      <td>1.0</td>\n",
       "      <td>NaN</td>\n",
       "      <td>NaN</td>\n",
       "      <td>NaN</td>\n",
       "    </tr>\n",
       "    <tr>\n",
       "      <th>2010</th>\n",
       "      <td>2010</td>\n",
       "      <td>1.0</td>\n",
       "      <td>1.0</td>\n",
       "      <td>1.0</td>\n",
       "      <td>NaN</td>\n",
       "    </tr>\n",
       "    <tr>\n",
       "      <th>2011</th>\n",
       "      <td>2011</td>\n",
       "      <td>1.0</td>\n",
       "      <td>NaN</td>\n",
       "      <td>1.0</td>\n",
       "      <td>1.0</td>\n",
       "    </tr>\n",
       "    <tr>\n",
       "      <th>2012</th>\n",
       "      <td>2012</td>\n",
       "      <td>5.0</td>\n",
       "      <td>1.0</td>\n",
       "      <td>NaN</td>\n",
       "      <td>NaN</td>\n",
       "    </tr>\n",
       "    <tr>\n",
       "      <th>2013</th>\n",
       "      <td>2013</td>\n",
       "      <td>1.0</td>\n",
       "      <td>1.0</td>\n",
       "      <td>2.0</td>\n",
       "      <td>NaN</td>\n",
       "    </tr>\n",
       "    <tr>\n",
       "      <th>2014</th>\n",
       "      <td>2014</td>\n",
       "      <td>2.0</td>\n",
       "      <td>1.0</td>\n",
       "      <td>2.0</td>\n",
       "      <td>NaN</td>\n",
       "    </tr>\n",
       "    <tr>\n",
       "      <th>2015</th>\n",
       "      <td>2015</td>\n",
       "      <td>1.0</td>\n",
       "      <td>4.0</td>\n",
       "      <td>2.0</td>\n",
       "      <td>1.0</td>\n",
       "    </tr>\n",
       "    <tr>\n",
       "      <th>2016</th>\n",
       "      <td>2016</td>\n",
       "      <td>3.0</td>\n",
       "      <td>1.0</td>\n",
       "      <td>2.0</td>\n",
       "      <td>1.0</td>\n",
       "    </tr>\n",
       "    <tr>\n",
       "      <th>2017</th>\n",
       "      <td>2017</td>\n",
       "      <td>4.0</td>\n",
       "      <td>3.0</td>\n",
       "      <td>1.0</td>\n",
       "      <td>2.0</td>\n",
       "    </tr>\n",
       "    <tr>\n",
       "      <th>2018</th>\n",
       "      <td>2018</td>\n",
       "      <td>3.0</td>\n",
       "      <td>2.0</td>\n",
       "      <td>NaN</td>\n",
       "      <td>1.0</td>\n",
       "    </tr>\n",
       "    <tr>\n",
       "      <th>2019</th>\n",
       "      <td>2019</td>\n",
       "      <td>NaN</td>\n",
       "      <td>2.0</td>\n",
       "      <td>2.0</td>\n",
       "      <td>1.0</td>\n",
       "    </tr>\n",
       "  </tbody>\n",
       "</table>\n",
       "</div>"
      ],
      "text/plain": [
       "      Year  United Kingdom  Canada  France  China\n",
       "1999  1999             1.0     NaN     NaN    NaN\n",
       "2001  2001             1.0     NaN     NaN    NaN\n",
       "2003  2003             1.0     NaN     1.0    NaN\n",
       "2006  2006             1.0     NaN     NaN    NaN\n",
       "2007  2007             NaN     NaN     1.0    NaN\n",
       "2009  2009             1.0     NaN     NaN    NaN\n",
       "2010  2010             1.0     1.0     1.0    NaN\n",
       "2011  2011             1.0     NaN     1.0    1.0\n",
       "2012  2012             5.0     1.0     NaN    NaN\n",
       "2013  2013             1.0     1.0     2.0    NaN\n",
       "2014  2014             2.0     1.0     2.0    NaN\n",
       "2015  2015             1.0     4.0     2.0    1.0\n",
       "2016  2016             3.0     1.0     2.0    1.0\n",
       "2017  2017             4.0     3.0     1.0    2.0\n",
       "2018  2018             3.0     2.0     NaN    1.0\n",
       "2019  2019             NaN     2.0     2.0    1.0"
      ]
     },
     "execution_count": 51,
     "metadata": {},
     "output_type": "execute_result"
    }
   ],
   "source": [
    "#add year as index\n",
    "noUS_df = pd.DataFrame({'Year': noUS_df.index, 'United Kingdom':ais_UK.founded.value_counts(), \\\n",
    "                     'Canada': ais_Canada.founded.value_counts(),'France': ais_FR.founded.value_counts(),'China': ais_China.founded.value_counts()})\n",
    "\n",
    "noUS_df"
   ]
  },
  {
   "cell_type": "code",
   "execution_count": 52,
   "metadata": {
    "scrolled": true
   },
   "outputs": [
    {
     "data": {
      "image/png": "[encoded data removed]",
      "text/plain": [
       "<Figure size 432x288 with 4 Axes>"
      ]
     },
     "metadata": {},
     "output_type": "display_data"
    }
   ],
   "source": [
    "plt.style.use('seaborn-darkgrid')\n",
    " \n",
    "# create a color palette\n",
    "palette = plt.get_cmap('Set1')\n",
    " \n",
    "# multiple line plot\n",
    "num=0\n",
    "for column in noUS_df.drop('Year', axis=1):\n",
    "    num+=1\n",
    " \n",
    "    # Find the right spot on the plot\n",
    "    plt.subplot(2,2, num)\n",
    "    plt.subplots_adjust(wspace=.5, hspace=.5)\n",
    "\n",
    " \n",
    "    # Plot the lineplot\n",
    "    plt.plot(noUS_df['Year'], noUS_df[column], marker='', color=palette(num), alpha=0.9, label=column)\n",
    " \n",
    "    # Same limits for everybody!\n",
    "    plt.xlim(2005,2019)\n",
    "    plt.ylim(0,6)\n",
    " \n",
    "    # Not ticks everywhere\n",
    "#     if num in range(7) :\n",
    "#         plt.tick_params(labelbottom='off')\n",
    "#     if num not in [1,4,7] :\n",
    "#         plt.tick_params(labelleft='off')\n",
    " \n",
    "    # Add title\n",
    "    plt.title(column, loc='left', fontsize=12, fontweight=0, color=palette(num) )\n",
    " \n",
    "# general title\n",
    "plt.suptitle(\"How many startups founded each year by Country?\", fontsize=13, fontweight=0, color='black', style='italic')\n",
    " \n",
    "# # Axis title\n",
    "# plt.text(.01, .01, 'Time', ha='center', va='center')\n",
    "# plt.text(0.06, 0.5, 'Note', ha='center', va='center', rotation='vertical')\n",
    "\n",
    "# fig = plt.figure()\n",
    "# fig, axes = plt.subplots(nrows=2, ncols=2)\n",
    "\n",
    "plt.show()\n",
    "# plt.text"
   ]
  },
  {
   "cell_type": "code",
   "execution_count": 53,
   "metadata": {},
   "outputs": [
    {
     "data": {
      "text/plain": [
       "['company',\n",
       " 'founded',\n",
       " 'headquarters',\n",
       " 'purpose',\n",
       " 'use',\n",
       " 'City',\n",
       " 'State',\n",
       " 'Country',\n",
       " 'drug',\n",
       " 'indication',\n",
       " 'stage',\n",
       " 'therapeutic_area']"
      ]
     },
     "execution_count": 53,
     "metadata": {},
     "output_type": "execute_result"
    }
   ],
   "source": [
    "test.columns.tolist()"
   ]
  },
  {
   "cell_type": "code",
   "execution_count": 71,
   "metadata": {},
   "outputs": [
    {
     "data": {
      "text/plain": [
       "Undisclosed                          115\n",
       "COTI-2                                 6\n",
       "BPM31510                               5\n",
       "AS - 1                                 4\n",
       "PHI-101                                4\n",
       "W17P367                                4\n",
       "BXCL501                                4\n",
       "BXCL701                                3\n",
       "LAM–002                                3\n",
       "GBV006                                 2\n",
       "NEO-PTC-01                             2\n",
       "PXT3003                                2\n",
       "PXT864                                 2\n",
       "NEO-STC-01                             2\n",
       "W8P276                                 2\n",
       "Undisclosed metnase                    1\n",
       "CCP5                                   1\n",
       "LP-300                                 1\n",
       "EVX-B3                                 1\n",
       "Undisclosed RIG-I agonist              1\n",
       "BPM31543                               1\n",
       "CCP1                                   1\n",
       "Undisclosed AMPK activator             1\n",
       "LAM–003                                1\n",
       "W9P154                                 1\n",
       "BPM13292                               1\n",
       "AS - 2                                 1\n",
       "BPM19211                               1\n",
       "CCP3-2                                 1\n",
       "BVA501                                 1\n",
       "BPM27983                               1\n",
       "Undisclosed STING inhibitor            1\n",
       "RL055                                  1\n",
       "AS - 3                                 1\n",
       "BVA201                                 1\n",
       "SLATE                                  1\n",
       "Undisclosed PLA2                       1\n",
       "BVA601                                 1\n",
       "DG11P1                                 1\n",
       "SDGR2                                  1\n",
       "DSP-1181                               1\n",
       "BTRX-335140                            1\n",
       "BPM21211                               1\n",
       "Undisclosed eIF4e                      1\n",
       "Undisclosed PDHK2                      1\n",
       "EVX-B1                                 1\n",
       "W7P9                                   1\n",
       "EVX-BX                                 1\n",
       "CCP4                                   1\n",
       "LAM–004                                1\n",
       "                                    ... \n",
       "Undisclosed immunotherapy              1\n",
       "EVX-03                                 1\n",
       "CCP2                                   1\n",
       "DGP12P1                                1\n",
       "SOM1201                                1\n",
       "ADG104                                 1\n",
       "ADG116                                 1\n",
       "CCP3-5                                 1\n",
       "EVX-02                                 1\n",
       "SDGR3                                  1\n",
       "Undisclosed DNA polymerase B           1\n",
       "TCRs                                   1\n",
       "Undisclosed IGF                        1\n",
       "Bispecific mAb                         1\n",
       "BTRX-323511                            1\n",
       "SOM0226                                1\n",
       "Undisclosed PKR                        1\n",
       "Undisclosed ZAP-70 inhibitor           1\n",
       "SOM3355                                1\n",
       "Undisclosed JAK3 selective             1\n",
       "LP-184                                 1\n",
       "LP-100                                 1\n",
       "Undisclosed SHP2 inhibitor             1\n",
       "GRANITE                                1\n",
       "CCP3-4                                 1\n",
       "AGD126 SAFEbody                        1\n",
       "Undisclosed cGAS antagonist            1\n",
       "Undisclosed dengue NS3                 1\n",
       "AF03                                   1\n",
       "BVA101                                 1\n",
       "Undisclosed SAFEbody                   1\n",
       "PHI-301                                1\n",
       "Undisclosed α1 anti-trypsin            1\n",
       "ADG106                                 1\n",
       "SDGR1                                  1\n",
       "COTI-219                               1\n",
       "Undisclosed PIM 3 inhibitor            1\n",
       "Undisclosed PD-1                       1\n",
       "Undisclosed serpins                    1\n",
       "PHI-201                                1\n",
       "BVA202                                 1\n",
       "BPM79741                               1\n",
       "Undisclosed factor XIIa inhibitor      1\n",
       "SOM0777                                1\n",
       "SOM0208                                1\n",
       "RL316                                  1\n",
       "SOM1311                                1\n",
       "LAM-002                                1\n",
       "EVX-B2                                 1\n",
       "LAM–001                                1\n",
       "Name: drug, Length: 116, dtype: int64"
      ]
     },
     "execution_count": 71,
     "metadata": {},
     "output_type": "execute_result"
    }
   ],
   "source": [
    "test.drug.value_counts()"
   ]
  },
  {
   "cell_type": "code",
   "execution_count": 54,
   "metadata": {},
   "outputs": [
    {
     "data": {
      "text/plain": [
       "<matplotlib.axes._subplots.AxesSubplot at 0x1a18bb6510>"
      ]
     },
     "execution_count": 54,
     "metadata": {},
     "output_type": "execute_result"
    },
    {
     "data": {
      "image/png": "[encoded data removed]",
      "text/plain": [
       "<Figure size 432x288 with 1 Axes>"
      ]
     },
     "metadata": {},
     "output_type": "display_data"
    }
   ],
   "source": [
    "test_fig = test.groupby('Country').filter(lambda x: x.shape[0] > 15)\n",
    "test_fig.groupby('founded')['Country'].value_counts().sort_values(ascending=True).plot.bar()"
   ]
  },
  {
   "cell_type": "code",
   "execution_count": 55,
   "metadata": {},
   "outputs": [
    {
     "data": {
      "text/plain": [
       "Country         therapeutic_area           \n",
       "Australia       Infectious disease              1\n",
       "Canada          Metabolic disease               2\n",
       "                Ophthalmology                   1\n",
       "China           Undisclosed                     5\n",
       "                Oncology                        1\n",
       "Denmark         Infectious disease              4\n",
       "                Oncology                        3\n",
       "France          Infectious disease              5\n",
       "                Neurology                       4\n",
       "                Dermatology                     3\n",
       "                Oncology                        1\n",
       "India           Oncology                        6\n",
       "                Infectious disease              2\n",
       "                Cardiology                      1\n",
       "South Korea     Oncology                       15\n",
       "                Metabolic disease               5\n",
       "                Neurology                       5\n",
       "                Fibrosis                        1\n",
       "                Infectious disease              1\n",
       "                Inflammation and immunology     1\n",
       "Spain           Rare disease                    4\n",
       "                Neurology                       1\n",
       "                Oncology                        1\n",
       "United Kingdom  Oncology                       13\n",
       "                Rare disease                   10\n",
       "                Inflammation and immunology     3\n",
       "                Neurology                       3\n",
       "                Fibrosis                        1\n",
       "                Infectious disease              1\n",
       "                Respiratory                     1\n",
       "United States   Oncology                       68\n",
       "                Neurology                      29\n",
       "                Infectious disease             13\n",
       "                Undisclosed                    10\n",
       "                Inflammation and immunology     7\n",
       "                Metabolic disease               7\n",
       "                Cardiology                      6\n",
       "                Rare disease                    5\n",
       "                Fibrosis                        4\n",
       "                Dermatology                     2\n",
       "                Gastroenterology                2\n",
       "                Biogerontology                  1\n",
       "                Hematology                      1\n",
       "                Ophthalmology                   1\n",
       "Name: therapeutic_area, dtype: int64"
      ]
     },
     "execution_count": 55,
     "metadata": {},
     "output_type": "execute_result"
    }
   ],
   "source": [
    "test.groupby('Country')['therapeutic_area'].value_counts()"
   ]
  },
  {
   "cell_type": "code",
   "execution_count": 81,
   "metadata": {},
   "outputs": [
    {
     "data": {
      "text/plain": [
       "261"
      ]
     },
     "execution_count": 81,
     "metadata": {},
     "output_type": "execute_result"
    }
   ],
   "source": [
    "sum(test['therapeutic_area'].value_counts())"
   ]
  },
  {
   "cell_type": "code",
   "execution_count": 78,
   "metadata": {},
   "outputs": [
    {
     "data": {
      "text/plain": [
       "41.0"
      ]
     },
     "execution_count": 78,
     "metadata": {},
     "output_type": "execute_result"
    }
   ],
   "source": [
    "round((test['therapeutic_area'].value_counts()[\"Oncology\"]/sum(test['therapeutic_area'].value_counts()))*100)"
   ]
  },
  {
   "cell_type": "code",
   "execution_count": 79,
   "metadata": {},
   "outputs": [
    {
     "data": {
      "text/plain": [
       "16.0"
      ]
     },
     "execution_count": 79,
     "metadata": {},
     "output_type": "execute_result"
    }
   ],
   "source": [
    "round((test['therapeutic_area'].value_counts()[\"Neurology\"]/sum(test['therapeutic_area'].value_counts()))*100)\n"
   ]
  },
  {
   "cell_type": "code",
   "execution_count": 80,
   "metadata": {},
   "outputs": [
    {
     "data": {
      "text/plain": [
       "10.0"
      ]
     },
     "execution_count": 80,
     "metadata": {},
     "output_type": "execute_result"
    }
   ],
   "source": [
    "round((test['therapeutic_area'].value_counts()[\"Infectious disease\"]/sum(test['therapeutic_area'].value_counts()))*100)\n"
   ]
  },
  {
   "cell_type": "code",
   "execution_count": 57,
   "metadata": {},
   "outputs": [],
   "source": [
    "Oncology = test['therapeutic_area']=='Oncology'\n",
    "test_o = test[Oncology]\n",
    "Neurology = test['therapeutic_area']=='Neurology'\n",
    "test_n = test[Neurology]\n",
    "Infectious = test['therapeutic_area']=='Infectious disease'\n",
    "test_i = test[Infectious]\n"
   ]
  },
  {
   "cell_type": "code",
   "execution_count": 58,
   "metadata": {},
   "outputs": [
    {
     "data": {
      "text/plain": [
       "United States     68\n",
       "South Korea       15\n",
       "United Kingdom    13\n",
       "India              6\n",
       "Denmark            3\n",
       "Spain              1\n",
       "China              1\n",
       "France             1\n",
       "Name: Country, dtype: int64"
      ]
     },
     "execution_count": 58,
     "metadata": {},
     "output_type": "execute_result"
    }
   ],
   "source": [
    "test_o.Country.value_counts()"
   ]
  },
  {
   "cell_type": "code",
   "execution_count": 59,
   "metadata": {},
   "outputs": [],
   "source": [
    "ta_df = pd.DataFrame({'Oncology':test_o.founded.value_counts(),'Neurology': test_n.founded.value_counts(), 'Infectious disease': test_i.founded.value_counts()})"
   ]
  },
  {
   "cell_type": "code",
   "execution_count": 60,
   "metadata": {},
   "outputs": [
    {
     "data": {
      "text/html": [
       "<div>\n",
       "<style scoped>\n",
       "    .dataframe tbody tr th:only-of-type {\n",
       "        vertical-align: middle;\n",
       "    }\n",
       "\n",
       "    .dataframe tbody tr th {\n",
       "        vertical-align: top;\n",
       "    }\n",
       "\n",
       "    .dataframe thead th {\n",
       "        text-align: right;\n",
       "    }\n",
       "</style>\n",
       "<table border=\"1\" class=\"dataframe\">\n",
       "  <thead>\n",
       "    <tr style=\"text-align: right;\">\n",
       "      <th></th>\n",
       "      <th>Year</th>\n",
       "      <th>Oncology</th>\n",
       "      <th>Neurology</th>\n",
       "      <th>Infectious disease</th>\n",
       "    </tr>\n",
       "  </thead>\n",
       "  <tbody>\n",
       "    <tr>\n",
       "      <th>1990</th>\n",
       "      <td>1990</td>\n",
       "      <td>5.0</td>\n",
       "      <td>NaN</td>\n",
       "      <td>NaN</td>\n",
       "    </tr>\n",
       "    <tr>\n",
       "      <th>1999</th>\n",
       "      <td>1999</td>\n",
       "      <td>10.0</td>\n",
       "      <td>7.0</td>\n",
       "      <td>1.0</td>\n",
       "    </tr>\n",
       "    <tr>\n",
       "      <th>2002</th>\n",
       "      <td>2002</td>\n",
       "      <td>NaN</td>\n",
       "      <td>NaN</td>\n",
       "      <td>1.0</td>\n",
       "    </tr>\n",
       "    <tr>\n",
       "      <th>2006</th>\n",
       "      <td>2006</td>\n",
       "      <td>8.0</td>\n",
       "      <td>5.0</td>\n",
       "      <td>NaN</td>\n",
       "    </tr>\n",
       "    <tr>\n",
       "      <th>2007</th>\n",
       "      <td>2007</td>\n",
       "      <td>NaN</td>\n",
       "      <td>4.0</td>\n",
       "      <td>NaN</td>\n",
       "    </tr>\n",
       "    <tr>\n",
       "      <th>2008</th>\n",
       "      <td>2008</td>\n",
       "      <td>3.0</td>\n",
       "      <td>NaN</td>\n",
       "      <td>4.0</td>\n",
       "    </tr>\n",
       "    <tr>\n",
       "      <th>2009</th>\n",
       "      <td>2009</td>\n",
       "      <td>1.0</td>\n",
       "      <td>1.0</td>\n",
       "      <td>NaN</td>\n",
       "    </tr>\n",
       "    <tr>\n",
       "      <th>2011</th>\n",
       "      <td>2011</td>\n",
       "      <td>1.0</td>\n",
       "      <td>NaN</td>\n",
       "      <td>2.0</td>\n",
       "    </tr>\n",
       "    <tr>\n",
       "      <th>2012</th>\n",
       "      <td>2012</td>\n",
       "      <td>5.0</td>\n",
       "      <td>2.0</td>\n",
       "      <td>NaN</td>\n",
       "    </tr>\n",
       "    <tr>\n",
       "      <th>2013</th>\n",
       "      <td>2013</td>\n",
       "      <td>10.0</td>\n",
       "      <td>5.0</td>\n",
       "      <td>1.0</td>\n",
       "    </tr>\n",
       "    <tr>\n",
       "      <th>2014</th>\n",
       "      <td>2014</td>\n",
       "      <td>21.0</td>\n",
       "      <td>2.0</td>\n",
       "      <td>6.0</td>\n",
       "    </tr>\n",
       "    <tr>\n",
       "      <th>2015</th>\n",
       "      <td>2015</td>\n",
       "      <td>17.0</td>\n",
       "      <td>8.0</td>\n",
       "      <td>8.0</td>\n",
       "    </tr>\n",
       "    <tr>\n",
       "      <th>2016</th>\n",
       "      <td>2016</td>\n",
       "      <td>13.0</td>\n",
       "      <td>4.0</td>\n",
       "      <td>2.0</td>\n",
       "    </tr>\n",
       "    <tr>\n",
       "      <th>2017</th>\n",
       "      <td>2017</td>\n",
       "      <td>12.0</td>\n",
       "      <td>4.0</td>\n",
       "      <td>2.0</td>\n",
       "    </tr>\n",
       "    <tr>\n",
       "      <th>2019</th>\n",
       "      <td>2019</td>\n",
       "      <td>2.0</td>\n",
       "      <td>NaN</td>\n",
       "      <td>NaN</td>\n",
       "    </tr>\n",
       "  </tbody>\n",
       "</table>\n",
       "</div>"
      ],
      "text/plain": [
       "      Year  Oncology  Neurology  Infectious disease\n",
       "1990  1990       5.0        NaN                 NaN\n",
       "1999  1999      10.0        7.0                 1.0\n",
       "2002  2002       NaN        NaN                 1.0\n",
       "2006  2006       8.0        5.0                 NaN\n",
       "2007  2007       NaN        4.0                 NaN\n",
       "2008  2008       3.0        NaN                 4.0\n",
       "2009  2009       1.0        1.0                 NaN\n",
       "2011  2011       1.0        NaN                 2.0\n",
       "2012  2012       5.0        2.0                 NaN\n",
       "2013  2013      10.0        5.0                 1.0\n",
       "2014  2014      21.0        2.0                 6.0\n",
       "2015  2015      17.0        8.0                 8.0\n",
       "2016  2016      13.0        4.0                 2.0\n",
       "2017  2017      12.0        4.0                 2.0\n",
       "2019  2019       2.0        NaN                 NaN"
      ]
     },
     "execution_count": 60,
     "metadata": {},
     "output_type": "execute_result"
    }
   ],
   "source": [
    "#add Year as index\n",
    "ta_df = pd.DataFrame({'Year':ta_df.index, 'Oncology':test_o.founded.value_counts(),'Neurology': test_n.founded.value_counts(), 'Infectious disease': test_i.founded.value_counts()})\n",
    "ta_df"
   ]
  },
  {
   "cell_type": "code",
   "execution_count": 61,
   "metadata": {},
   "outputs": [
    {
     "data": {
      "text/plain": [
       "<function matplotlib.pyplot.text(x, y, s, fontdict=None, withdash=<deprecated parameter>, **kwargs)>"
      ]
     },
     "execution_count": 61,
     "metadata": {},
     "output_type": "execute_result"
    },
    {
     "data": {
      "image/png": "[encoded data removed]",
      "text/plain": [
       "<Figure size 432x288 with 3 Axes>"
      ]
     },
     "metadata": {},
     "output_type": "display_data"
    }
   ],
   "source": [
    "plt.style.use('seaborn-darkgrid')\n",
    " \n",
    "# create a color palette\n",
    "palette = plt.get_cmap('Set1')\n",
    " \n",
    "# multiple line plot\n",
    "num=0\n",
    "for column in ta_df.drop('Year', axis=1):\n",
    "    num+=1\n",
    " \n",
    "    # Find the right spot on the plot\n",
    "    plt.subplot(2,2, num)\n",
    "    plt.subplots_adjust(wspace=.5, hspace=.5)\n",
    "\n",
    "    # Plot the lineplot\n",
    "    plt.plot(ta_df['Year'], ta_df[column], marker='', color=palette(num), alpha=0.9, label=column)\n",
    " \n",
    "    # Same limits for everybody!\n",
    "    plt.xlim(2005,2019)\n",
    "    plt.ylim(0,25)\n",
    " \n",
    "    # Not ticks everywhere\n",
    "#     if num in range(7) :\n",
    "#         plt.tick_params(labelbottom='off')\n",
    "#     if num not in [1,4,7] :\n",
    "#         plt.tick_params(labelleft='off')\n",
    " \n",
    "    # Add title\n",
    "    plt.title(column, loc='left', fontsize=12, fontweight=0, color=palette(num) )\n",
    " \n",
    "# general title\n",
    "plt.suptitle(\"Therapeutic area by Year\", fontsize=13, fontweight=0, color='black', style='italic')\n",
    " \n",
    "# # Axis title\n",
    "# plt.text(0.5, 0.02, 'Time', ha='center', va='center')\n",
    "# plt.text(0.06, 0.5, 'Note', ha='center', va='center', rotation='vertical')\n",
    "plt.text"
   ]
  },
  {
   "cell_type": "code",
   "execution_count": 62,
   "metadata": {},
   "outputs": [],
   "source": [
    "ta_country = pd.DataFrame({'Oncology':test_o.Country.value_counts(),'Neurology': test_n.Country.value_counts(), 'Infectious disease': test_i.Country.value_counts()})"
   ]
  },
  {
   "cell_type": "code",
   "execution_count": 63,
   "metadata": {},
   "outputs": [
    {
     "data": {
      "text/html": [
       "<div>\n",
       "<style scoped>\n",
       "    .dataframe tbody tr th:only-of-type {\n",
       "        vertical-align: middle;\n",
       "    }\n",
       "\n",
       "    .dataframe tbody tr th {\n",
       "        vertical-align: top;\n",
       "    }\n",
       "\n",
       "    .dataframe thead th {\n",
       "        text-align: right;\n",
       "    }\n",
       "</style>\n",
       "<table border=\"1\" class=\"dataframe\">\n",
       "  <thead>\n",
       "    <tr style=\"text-align: right;\">\n",
       "      <th></th>\n",
       "      <th>Country</th>\n",
       "      <th>Oncology</th>\n",
       "      <th>Neurology</th>\n",
       "      <th>Infectious disease</th>\n",
       "    </tr>\n",
       "  </thead>\n",
       "  <tbody>\n",
       "    <tr>\n",
       "      <th>Australia</th>\n",
       "      <td>Australia</td>\n",
       "      <td>NaN</td>\n",
       "      <td>NaN</td>\n",
       "      <td>1.0</td>\n",
       "    </tr>\n",
       "    <tr>\n",
       "      <th>China</th>\n",
       "      <td>China</td>\n",
       "      <td>1.0</td>\n",
       "      <td>NaN</td>\n",
       "      <td>NaN</td>\n",
       "    </tr>\n",
       "    <tr>\n",
       "      <th>Denmark</th>\n",
       "      <td>Denmark</td>\n",
       "      <td>3.0</td>\n",
       "      <td>NaN</td>\n",
       "      <td>4.0</td>\n",
       "    </tr>\n",
       "    <tr>\n",
       "      <th>France</th>\n",
       "      <td>France</td>\n",
       "      <td>1.0</td>\n",
       "      <td>4.0</td>\n",
       "      <td>5.0</td>\n",
       "    </tr>\n",
       "    <tr>\n",
       "      <th>India</th>\n",
       "      <td>India</td>\n",
       "      <td>6.0</td>\n",
       "      <td>NaN</td>\n",
       "      <td>2.0</td>\n",
       "    </tr>\n",
       "    <tr>\n",
       "      <th>South Korea</th>\n",
       "      <td>South Korea</td>\n",
       "      <td>15.0</td>\n",
       "      <td>5.0</td>\n",
       "      <td>1.0</td>\n",
       "    </tr>\n",
       "    <tr>\n",
       "      <th>Spain</th>\n",
       "      <td>Spain</td>\n",
       "      <td>1.0</td>\n",
       "      <td>1.0</td>\n",
       "      <td>NaN</td>\n",
       "    </tr>\n",
       "    <tr>\n",
       "      <th>United Kingdom</th>\n",
       "      <td>United Kingdom</td>\n",
       "      <td>13.0</td>\n",
       "      <td>3.0</td>\n",
       "      <td>1.0</td>\n",
       "    </tr>\n",
       "    <tr>\n",
       "      <th>United States</th>\n",
       "      <td>United States</td>\n",
       "      <td>68.0</td>\n",
       "      <td>29.0</td>\n",
       "      <td>13.0</td>\n",
       "    </tr>\n",
       "  </tbody>\n",
       "</table>\n",
       "</div>"
      ],
      "text/plain": [
       "                       Country  Oncology  Neurology  Infectious disease\n",
       "Australia            Australia       NaN        NaN                 1.0\n",
       "China                    China       1.0        NaN                 NaN\n",
       "Denmark                Denmark       3.0        NaN                 4.0\n",
       "France                  France       1.0        4.0                 5.0\n",
       "India                    India       6.0        NaN                 2.0\n",
       "South Korea        South Korea      15.0        5.0                 1.0\n",
       "Spain                    Spain       1.0        1.0                 NaN\n",
       "United Kingdom  United Kingdom      13.0        3.0                 1.0\n",
       "United States    United States      68.0       29.0                13.0"
      ]
     },
     "execution_count": 63,
     "metadata": {},
     "output_type": "execute_result"
    }
   ],
   "source": [
    "#Add country as index\n",
    "ta_country = pd.DataFrame({'Country':ta_country.index,'Oncology':test_o.Country.value_counts(),'Neurology': test_n.Country.value_counts(), 'Infectious disease': test_i.Country.value_counts()})\n",
    "ta_country"
   ]
  },
  {
   "cell_type": "code",
   "execution_count": 64,
   "metadata": {},
   "outputs": [
    {
     "data": {
      "image/png": "[encoded data removed]",
      "text/plain": [
       "<Figure size 432x288 with 1 Axes>"
      ]
     },
     "metadata": {},
     "output_type": "display_data"
    }
   ],
   "source": [
    "ta_country.plot.barh()\n",
    "plt.title('Startups in top 3 therapeutic areas by Country')\n",
    "plt.xlabel('Startups in top 3 therapeutic areas')\n",
    "plt.ylabel('Country')\n",
    "plt.show()"
   ]
  },
  {
   "cell_type": "markdown",
   "metadata": {},
   "source": [
    "### Word Cloud \n",
    "- show common words used in purpose statements"
   ]
  },
  {
   "cell_type": "code",
   "execution_count": 65,
   "metadata": {},
   "outputs": [],
   "source": [
    "from wordcloud import WordCloud"
   ]
  },
  {
   "cell_type": "code",
   "execution_count": 66,
   "metadata": {},
   "outputs": [
    {
     "data": {
      "text/plain": [
       "<wordcloud.wordcloud.WordCloud at 0x1a18fa4910>"
      ]
     },
     "execution_count": 66,
     "metadata": {},
     "output_type": "execute_result"
    }
   ],
   "source": [
    "wc = WordCloud(background_color=\"white\", max_words=2000, width=800, height=400,  collocations=False)\n",
    "# generate word cloud\n",
    "wc.generate(' '.join(ais_df['purpose']))"
   ]
  },
  {
   "cell_type": "code",
   "execution_count": 67,
   "metadata": {},
   "outputs": [],
   "source": [
    "import matplotlib.pyplot as plt\n",
    "%matplotlib inline"
   ]
  },
  {
   "cell_type": "code",
   "execution_count": 68,
   "metadata": {},
   "outputs": [
    {
     "data": {
      "image/png": "[encoded data removed]",
      "text/plain": [
       "<Figure size 864x432 with 1 Axes>"
      ]
     },
     "metadata": {
      "needs_background": "light"
     },
     "output_type": "display_data"
    }
   ],
   "source": [
    "# show\n",
    "plt.figure(figsize=(12, 6))\n",
    "plt.imshow(wc, interpolation='bilinear')\n",
    "plt.axis(\"off\")\n",
    "plt.show()"
   ]
  },
  {
   "cell_type": "code",
   "execution_count": 96,
   "metadata": {},
   "outputs": [
    {
     "data": {
      "text/plain": [
       "Text(0.5, 1.0, 'Countries w. most startups by Year Founded')"
      ]
     },
     "execution_count": 96,
     "metadata": {},
     "output_type": "execute_result"
    },
    {
     "data": {
      "image/png": "[encoded data removed]",
      "text/plain": [
       "<Figure size 432x288 with 1 Axes>"
      ]
     },
     "metadata": {
      "needs_background": "light"
     },
     "output_type": "display_data"
    }
   ],
   "source": [
    "ais_dfig = ais_dfig[['Country', 'founded']]\n",
    "ais_dfig.boxplot(by='Country', column='founded')\n",
    "plt.ylabel('founded')\n",
    "plt.title('Countries w. most startups by Year Founded')"
   ]
  },
  {
   "cell_type": "code",
   "execution_count": 97,
   "metadata": {},
   "outputs": [
    {
     "data": {
      "text/plain": [
       "Text(0, 0.5, 'Year startup was founded')"
      ]
     },
     "execution_count": 97,
     "metadata": {},
     "output_type": "execute_result"
    },
    {
     "data": {
      "image/png": "[encoded data removed]",
      "text/plain": [
       "<Figure size 432x288 with 1 Axes>"
      ]
     },
     "metadata": {
      "needs_background": "light"
     },
     "output_type": "display_data"
    }
   ],
   "source": [
    "sns.boxplot(x='Country', y='founded', data=ais_dfig)\n",
    "plt.title('Countries w. most startups by Year Founded')\n",
    "plt.ylabel('Year startup was founded')"
   ]
  },
  {
   "cell_type": "code",
   "execution_count": 98,
   "metadata": {},
   "outputs": [
    {
     "data": {
      "text/plain": [
       "(array([ 1.,  0.,  0.,  5.,  5.,  6., 15., 39., 83., 76.]),\n",
       " array([1990., 1993., 1996., 1999., 2002., 2005., 2008., 2011., 2014.,\n",
       "        2017., 2020.]),\n",
       " <a list of 10 Patch objects>)"
      ]
     },
     "execution_count": 98,
     "metadata": {},
     "output_type": "execute_result"
    },
    {
     "data": {
      "image/png": "[encoded data removed]",
      "text/plain": [
       "<Figure size 432x288 with 1 Axes>"
      ]
     },
     "metadata": {
      "needs_background": "light"
     },
     "output_type": "display_data"
    }
   ],
   "source": [
    "plt.hist(ais_df['founded'], bins = 10)\n",
    "plt."
   ]
  },
  {
   "cell_type": "code",
   "execution_count": null,
   "metadata": {},
   "outputs": [],
   "source": []
  }
 ],
 "metadata": {
  "kernelspec": {
   "display_name": "Python 3",
   "language": "python",
   "name": "python3"
  },
  "language_info": {
   "codemirror_mode": {
    "name": "ipython",
    "version": 3
   },
   "file_extension": ".py",
   "mimetype": "text/x-python",
   "name": "python",
   "nbconvert_exporter": "python",
   "pygments_lexer": "ipython3",
   "version": "3.7.6"
  }
 },
 "nbformat": 4,
 "nbformat_minor": 4
}
