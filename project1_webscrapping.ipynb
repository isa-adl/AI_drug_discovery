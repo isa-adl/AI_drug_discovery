{
 "cells": [
  {
   "cell_type": "markdown",
   "metadata": {},
   "source": [
    "# Project One - Webscrapping \n",
    "## AI Startups in Biotech\n",
    "\n",
    "- In what therapeutic area are they mostly in? \n",
    "- Have more AI startups been founded in recent years/has it peaked already? \n",
    "- What indication are they treating? \n",
    "- What stage are they in?"
   ]
  },
  {
   "cell_type": "code",
   "execution_count": 1,
   "metadata": {},
   "outputs": [],
   "source": [
    "#importing packages\n",
    "import pandas as pd\n",
    "import numpy as np\n",
    "from matplotlib import pyplot as plt\n",
    "plt.style.use('ggplot')"
   ]
  },
  {
   "cell_type": "code",
   "execution_count": 2,
   "metadata": {},
   "outputs": [],
   "source": [
    "pd.set_option('display.max_columns',None)\n",
    "pd.set_option('display.min_rows',0)\n",
    "pd.set_option('display.max_rows',100)"
   ]
  },
  {
   "cell_type": "code",
   "execution_count": 3,
   "metadata": {
    "scrolled": true
   },
   "outputs": [
    {
     "data": {
      "text/html": [
       "<div>\n",
       "<style scoped>\n",
       "    .dataframe tbody tr th:only-of-type {\n",
       "        vertical-align: middle;\n",
       "    }\n",
       "\n",
       "    .dataframe tbody tr th {\n",
       "        vertical-align: top;\n",
       "    }\n",
       "\n",
       "    .dataframe thead th {\n",
       "        text-align: right;\n",
       "    }\n",
       "</style>\n",
       "<table border=\"1\" class=\"dataframe\">\n",
       "  <thead>\n",
       "    <tr style=\"text-align: right;\">\n",
       "      <th></th>\n",
       "      <th>company</th>\n",
       "      <th>drug</th>\n",
       "      <th>indication</th>\n",
       "      <th>stage</th>\n",
       "      <th>therapeutic_area</th>\n",
       "    </tr>\n",
       "  </thead>\n",
       "  <tbody>\n",
       "    <tr>\n",
       "      <th>0</th>\n",
       "      <td>Company</td>\n",
       "      <td>Drug</td>\n",
       "      <td>Indication</td>\n",
       "      <td>NaN</td>\n",
       "      <td>Therapeutic area</td>\n",
       "    </tr>\n",
       "    <tr>\n",
       "      <th>1</th>\n",
       "      <td>Acurastem</td>\n",
       "      <td>AS - 1</td>\n",
       "      <td>Amyotrophic lateral sclerosis and frontotempor...</td>\n",
       "      <td>Phase 3</td>\n",
       "      <td>Neurology</td>\n",
       "    </tr>\n",
       "    <tr>\n",
       "      <th>2</th>\n",
       "      <td>Pharnext</td>\n",
       "      <td>PXT3003</td>\n",
       "      <td>Charcot-Marie-Tooth disease type 1A adults</td>\n",
       "      <td>Phase 3</td>\n",
       "      <td>Neurology</td>\n",
       "    </tr>\n",
       "    <tr>\n",
       "      <th>3</th>\n",
       "      <td>Sunovion</td>\n",
       "      <td>SEP-363856</td>\n",
       "      <td>Schizophrenia</td>\n",
       "      <td>Phase 3</td>\n",
       "      <td>Neurology</td>\n",
       "    </tr>\n",
       "    <tr>\n",
       "      <th>4</th>\n",
       "      <td>AI Therapeutics</td>\n",
       "      <td>LAM–002</td>\n",
       "      <td>B-cell non-Hodgkin lymphoma (atezolizumab comb...</td>\n",
       "      <td>Phase 2</td>\n",
       "      <td>Oncology</td>\n",
       "    </tr>\n",
       "  </tbody>\n",
       "</table>\n",
       "</div>"
      ],
      "text/plain": [
       "           company        drug  \\\n",
       "0          Company        Drug   \n",
       "1        Acurastem      AS - 1   \n",
       "2         Pharnext     PXT3003   \n",
       "3         Sunovion  SEP-363856   \n",
       "4  AI Therapeutics     LAM–002   \n",
       "\n",
       "                                          indication    stage  \\\n",
       "0                                         Indication      NaN   \n",
       "1  Amyotrophic lateral sclerosis and frontotempor...  Phase 3   \n",
       "2         Charcot-Marie-Tooth disease type 1A adults  Phase 3   \n",
       "3                                      Schizophrenia  Phase 3   \n",
       "4  B-cell non-Hodgkin lymphoma (atezolizumab comb...  Phase 2   \n",
       "\n",
       "   therapeutic_area  \n",
       "0  Therapeutic area  \n",
       "1         Neurology  \n",
       "2         Neurology  \n",
       "3         Neurology  \n",
       "4          Oncology  "
      ]
     },
     "execution_count": 3,
     "metadata": {},
     "output_type": "execute_result"
    }
   ],
   "source": [
    "aidd_df=pd.read_csv('aidd.csv')\n",
    "aidd_df.head()"
   ]
  },
  {
   "cell_type": "markdown",
   "metadata": {},
   "source": [
    "- Needed to drop first index since it was duplicated in the CVS file\n",
    "- Drop function is nonmutating so I assigned it to a new DataFrame"
   ]
  },
  {
   "cell_type": "code",
   "execution_count": 4,
   "metadata": {},
   "outputs": [
    {
     "data": {
      "text/html": [
       "<div>\n",
       "<style scoped>\n",
       "    .dataframe tbody tr th:only-of-type {\n",
       "        vertical-align: middle;\n",
       "    }\n",
       "\n",
       "    .dataframe tbody tr th {\n",
       "        vertical-align: top;\n",
       "    }\n",
       "\n",
       "    .dataframe thead th {\n",
       "        text-align: right;\n",
       "    }\n",
       "</style>\n",
       "<table border=\"1\" class=\"dataframe\">\n",
       "  <thead>\n",
       "    <tr style=\"text-align: right;\">\n",
       "      <th></th>\n",
       "      <th>company</th>\n",
       "      <th>drug</th>\n",
       "      <th>indication</th>\n",
       "      <th>stage</th>\n",
       "      <th>therapeutic_area</th>\n",
       "    </tr>\n",
       "  </thead>\n",
       "  <tbody>\n",
       "    <tr>\n",
       "      <th>1</th>\n",
       "      <td>Acurastem</td>\n",
       "      <td>AS - 1</td>\n",
       "      <td>Amyotrophic lateral sclerosis and frontotempor...</td>\n",
       "      <td>Phase 3</td>\n",
       "      <td>Neurology</td>\n",
       "    </tr>\n",
       "    <tr>\n",
       "      <th>2</th>\n",
       "      <td>Pharnext</td>\n",
       "      <td>PXT3003</td>\n",
       "      <td>Charcot-Marie-Tooth disease type 1A adults</td>\n",
       "      <td>Phase 3</td>\n",
       "      <td>Neurology</td>\n",
       "    </tr>\n",
       "    <tr>\n",
       "      <th>3</th>\n",
       "      <td>Sunovion</td>\n",
       "      <td>SEP-363856</td>\n",
       "      <td>Schizophrenia</td>\n",
       "      <td>Phase 3</td>\n",
       "      <td>Neurology</td>\n",
       "    </tr>\n",
       "    <tr>\n",
       "      <th>4</th>\n",
       "      <td>AI Therapeutics</td>\n",
       "      <td>LAM–002</td>\n",
       "      <td>B-cell non-Hodgkin lymphoma (atezolizumab comb...</td>\n",
       "      <td>Phase 2</td>\n",
       "      <td>Oncology</td>\n",
       "    </tr>\n",
       "    <tr>\n",
       "      <th>5</th>\n",
       "      <td>AI Therapeutics</td>\n",
       "      <td>LAM–002</td>\n",
       "      <td>B-cell non-Hodgkin lymphoma (rituximab combina...</td>\n",
       "      <td>Phase 2</td>\n",
       "      <td>Oncology</td>\n",
       "    </tr>\n",
       "  </tbody>\n",
       "</table>\n",
       "</div>"
      ],
      "text/plain": [
       "           company        drug  \\\n",
       "1        Acurastem      AS - 1   \n",
       "2         Pharnext     PXT3003   \n",
       "3         Sunovion  SEP-363856   \n",
       "4  AI Therapeutics     LAM–002   \n",
       "5  AI Therapeutics     LAM–002   \n",
       "\n",
       "                                          indication    stage therapeutic_area  \n",
       "1  Amyotrophic lateral sclerosis and frontotempor...  Phase 3        Neurology  \n",
       "2         Charcot-Marie-Tooth disease type 1A adults  Phase 3        Neurology  \n",
       "3                                      Schizophrenia  Phase 3        Neurology  \n",
       "4  B-cell non-Hodgkin lymphoma (atezolizumab comb...  Phase 2         Oncology  \n",
       "5  B-cell non-Hodgkin lymphoma (rituximab combina...  Phase 2         Oncology  "
      ]
     },
     "execution_count": 4,
     "metadata": {},
     "output_type": "execute_result"
    }
   ],
   "source": [
    "aidd_df2 = aidd_df.drop(aidd_df.index[[0]])\n",
    "aidd_df2.head()"
   ]
  },
  {
   "cell_type": "code",
   "execution_count": 5,
   "metadata": {},
   "outputs": [
    {
     "data": {
      "text/plain": [
       "<matplotlib.axes._subplots.AxesSubplot at 0x11b2bf5d0>"
      ]
     },
     "execution_count": 5,
     "metadata": {},
     "output_type": "execute_result"
    },
    {
     "data": {
      "image/png": "[encoded data removed]",
      "text/plain": [
       "<Figure size 432x288 with 1 Axes>"
      ]
     },
     "metadata": {},
     "output_type": "display_data"
    }
   ],
   "source": [
    "# ais_dfig = ais_df.groupby('Country').filter(lambda x: x.shape[0] > 5)\n",
    "# ais_dfig['Country'].value_counts().plot(kind='bar',y='count', color='b')\n",
    "\n",
    "ind_fig = aidd_df2.groupby('indication').filter(lambda x: x.shape[0] > 2)\n",
    "ind_fig['indication'].value_counts().plot(kind='bar',y='count', color='b')"
   ]
  },
  {
   "cell_type": "code",
   "execution_count": 6,
   "metadata": {},
   "outputs": [
    {
     "data": {
      "text/html": [
       "<div>\n",
       "<style scoped>\n",
       "    .dataframe tbody tr th:only-of-type {\n",
       "        vertical-align: middle;\n",
       "    }\n",
       "\n",
       "    .dataframe tbody tr th {\n",
       "        vertical-align: top;\n",
       "    }\n",
       "\n",
       "    .dataframe thead th {\n",
       "        text-align: right;\n",
       "    }\n",
       "</style>\n",
       "<table border=\"1\" class=\"dataframe\">\n",
       "  <thead>\n",
       "    <tr style=\"text-align: right;\">\n",
       "      <th></th>\n",
       "      <th>company</th>\n",
       "      <th>founded</th>\n",
       "      <th>headquarters</th>\n",
       "      <th>purpose</th>\n",
       "      <th>use</th>\n",
       "    </tr>\n",
       "  </thead>\n",
       "  <tbody>\n",
       "    <tr>\n",
       "      <th>0</th>\n",
       "      <td>3BIGS</td>\n",
       "      <td>2017</td>\n",
       "      <td>Suwon, Ch'ungch'ong-namdo, South Korea</td>\n",
       "      <td>Repurpose drugs for new indications</td>\n",
       "      <td>Discover relationships between diseases, targe...</td>\n",
       "    </tr>\n",
       "    <tr>\n",
       "      <th>1</th>\n",
       "      <td>Amplion</td>\n",
       "      <td>2013</td>\n",
       "      <td>Bend, Oregon, United States</td>\n",
       "      <td>Ensure an effective mix of biomarkers, establi...</td>\n",
       "      <td>Synthesize biomedical knowledge and biomarker ...</td>\n",
       "    </tr>\n",
       "    <tr>\n",
       "      <th>2</th>\n",
       "      <td>BioSymetrics</td>\n",
       "      <td>2015</td>\n",
       "      <td>New York, New York, United States</td>\n",
       "      <td>Integrate rapid analytics and machine learning...</td>\n",
       "      <td>Process raw phenotypic, imaging, drug, and gen...</td>\n",
       "    </tr>\n",
       "    <tr>\n",
       "      <th>3</th>\n",
       "      <td>Biorelate</td>\n",
       "      <td>2014</td>\n",
       "      <td>Oldham, Oldham, United Kingdom</td>\n",
       "      <td>Extract structured biological knowledge to pow...</td>\n",
       "      <td>Create curated databases from the analysis of ...</td>\n",
       "    </tr>\n",
       "    <tr>\n",
       "      <th>4</th>\n",
       "      <td>Causaly</td>\n",
       "      <td>2017</td>\n",
       "      <td>London, England, United Kingdom</td>\n",
       "      <td>Search for cause and effect relationships and ...</td>\n",
       "      <td>Read scientific articles and extract causal as...</td>\n",
       "    </tr>\n",
       "  </tbody>\n",
       "</table>\n",
       "</div>"
      ],
      "text/plain": [
       "        company  founded                            headquarters  \\\n",
       "0         3BIGS     2017  Suwon, Ch'ungch'ong-namdo, South Korea   \n",
       "1       Amplion     2013             Bend, Oregon, United States   \n",
       "2  BioSymetrics     2015       New York, New York, United States   \n",
       "3     Biorelate     2014          Oldham, Oldham, United Kingdom   \n",
       "4       Causaly     2017         London, England, United Kingdom   \n",
       "\n",
       "                                             purpose  \\\n",
       "0                Repurpose drugs for new indications   \n",
       "1  Ensure an effective mix of biomarkers, establi...   \n",
       "2  Integrate rapid analytics and machine learning...   \n",
       "3  Extract structured biological knowledge to pow...   \n",
       "4  Search for cause and effect relationships and ...   \n",
       "\n",
       "                                                 use  \n",
       "0  Discover relationships between diseases, targe...  \n",
       "1  Synthesize biomedical knowledge and biomarker ...  \n",
       "2  Process raw phenotypic, imaging, drug, and gen...  \n",
       "3  Create curated databases from the analysis of ...  \n",
       "4  Read scientific articles and extract causal as...  "
      ]
     },
     "execution_count": 6,
     "metadata": {},
     "output_type": "execute_result"
    }
   ],
   "source": [
    "ais_df = pd.read_csv('aistartups.csv')\n",
    "ais_df.head()"
   ]
  },
  {
   "cell_type": "code",
   "execution_count": 7,
   "metadata": {},
   "outputs": [
    {
     "data": {
      "text/plain": [
       "['company', 'founded', 'headquarters', 'purpose', 'use']"
      ]
     },
     "execution_count": 7,
     "metadata": {},
     "output_type": "execute_result"
    }
   ],
   "source": [
    "ais_df.columns.tolist()"
   ]
  },
  {
   "cell_type": "code",
   "execution_count": 8,
   "metadata": {},
   "outputs": [
    {
     "data": {
      "text/plain": [
       "['company', 'drug', 'indication', 'stage', 'therapeutic_area']"
      ]
     },
     "execution_count": 8,
     "metadata": {},
     "output_type": "execute_result"
    }
   ],
   "source": [
    "aidd_df2.columns.tolist()"
   ]
  },
  {
   "cell_type": "code",
   "execution_count": 9,
   "metadata": {},
   "outputs": [
    {
     "data": {
      "text/plain": [
       "(230, 5)"
      ]
     },
     "execution_count": 9,
     "metadata": {},
     "output_type": "execute_result"
    }
   ],
   "source": [
    "ais_df.shape"
   ]
  },
  {
   "cell_type": "code",
   "execution_count": 10,
   "metadata": {},
   "outputs": [
    {
     "data": {
      "text/plain": [
       "(262, 5)"
      ]
     },
     "execution_count": 10,
     "metadata": {},
     "output_type": "execute_result"
    }
   ],
   "source": [
    "aidd_df2.shape"
   ]
  },
  {
   "cell_type": "code",
   "execution_count": 11,
   "metadata": {},
   "outputs": [
    {
     "data": {
      "text/plain": [
       "2017    37\n",
       "2016    32\n",
       "2015    32\n",
       "2018    25\n",
       "2014    19\n",
       "2012    16\n",
       "2019    13\n",
       "2013    12\n",
       "2011    11\n",
       "2009     6\n",
       "2010     5\n",
       "2008     4\n",
       "2007     3\n",
       "2001     2\n",
       "2006     2\n",
       "1999     2\n",
       "2003     2\n",
       "2002     2\n",
       "2000     1\n",
       "2020     1\n",
       "2004     1\n",
       "2005     1\n",
       "1990     1\n",
       "Name: founded, dtype: int64"
      ]
     },
     "execution_count": 11,
     "metadata": {},
     "output_type": "execute_result"
    }
   ],
   "source": [
    "ais_df['founded'].value_counts()"
   ]
  },
  {
   "cell_type": "code",
   "execution_count": 12,
   "metadata": {},
   "outputs": [
    {
     "data": {
      "text/plain": [
       "San Francisco, California, United States          19\n",
       "Cambridge, Massachusetts, United States           14\n",
       "New York, New York, United States                 14\n",
       "London, England, United Kingdom                   13\n",
       "Toronto, Ontario, Canada                          10\n",
       "Paris, Ile-de-France, France                       8\n",
       "Palo Alto, California, United States               6\n",
       "San Diego, California, United States               6\n",
       "Boston, Massachusetts, United States               5\n",
       "Cambridge, Cambridgeshire, United Kingdom          5\n",
       "Montréal, Quebec, Canada                           4\n",
       "Seattle, Washington, United States                 3\n",
       "South San Francisco, California, United States     3\n",
       "Singapore, Central Region, Singapore               3\n",
       "Mountain View, California, United States           3\n",
       "Durham, North Carolina, United States              3\n",
       "Barcelona, Catalonia, Spain                        3\n",
       "Dublin, Dublin, Ireland                            2\n",
       "Seoul, Seoul-t'ukpyolsi, South Korea               2\n",
       "Shanghai, Shanghai, China                          2\n",
       "Richmond, California, United States                2\n",
       "Sunnyvale, California, United States               2\n",
       "Budapest, Budapest, Hungary                        2\n",
       "Oxford, Oxfordshire, United Kingdom                2\n",
       "Shenzhen, Guangdong, China                         2\n",
       "Berlin, Berlin, Germany                            2\n",
       "Waltham, Massachusetts, United States              2\n",
       "Guilford, Connecticut, United States               2\n",
       "Los Altos, California, United States               2\n",
       "Emeryville, California, United States              2\n",
       "Vancouver, British Columbia, Canada                2\n",
       "Vienna, Wien, Austria                              2\n",
       "Menlo Park, California, United States              2\n",
       "Tel Aviv, Tel Aviv, Israel                         2\n",
       "Headington, Oxfordshire, United Kingdom            1\n",
       "Vero Beach, Florida, United States                 1\n",
       "Berkeley, California, United States                1\n",
       "Adelaide, South Australia, Australia               1\n",
       "Monrovia, California, United States                1\n",
       "Foster City, California, United States             1\n",
       "Issy-les-moulineaux, Ile-de-France, France         1\n",
       "Glasgow, Glasgow City, United Kingdom              1\n",
       "Eschborn, Hessen, Germany                          1\n",
       "Hanborough, Oxfordshire, United Kingdom            1\n",
       "Haidian, Beijing, China                            1\n",
       "San Bruno, California, United States               1\n",
       "Los Angeles, California, United States             1\n",
       "Nouzilly, Centre, France                           1\n",
       "San Carlos, California, United States              1\n",
       "Atlanta, Georgia, United States                    1\n",
       "                                                  ..\n",
       "St Louis, Missouri, United States                  1\n",
       "Padova, Veneto, Italy                              1\n",
       "Pasadena, California, United States                1\n",
       "Kidlington, Oxfordshire, United Kingdom            1\n",
       "Utrecht, Utrecht, The Netherlands                  1\n",
       "Sofia, Grad Sofiya, Bulgaria                       1\n",
       "Warsaw, Mazowieckie, Poland                        1\n",
       "Santa Cruz, California, United States              1\n",
       "Branford, Connecticut, United States               1\n",
       "Broomfield, Colorado, United States                1\n",
       "Dallas, Texas, United States                       1\n",
       "Jerusalem, Yerushalayim, Israel                    1\n",
       "Bend, Oregon, United States                        1\n",
       "Charlottesville, Virginia, United States           1\n",
       "Framingham, Massachusetts, United States           1\n",
       "Busan, Pusan-jikhalsi, South Korea                 1\n",
       "Cardiff, Cardiff, United Kingdom                   1\n",
       "Heidelberg, Baden-Wurttemberg, Germany             1\n",
       "Mapo, Seoul-t'ukpyolsi, South Korea                1\n",
       "Rouen, Haute-Normandie, France                     1\n",
       "Copenhagen, Hovedstaden, Denmark                   1\n",
       "Hyderabad, Andhra Pradesh, India                   1\n",
       "Goulier, Midi-Pyrenees, France                     1\n",
       "Évry, Ile-de-France, France                        1\n",
       "El Segundo, California, United States              1\n",
       "Lyon, Rhone-Alpes, France                          1\n",
       "Jersey City, New Jersey, United States             1\n",
       "Oldham, Oldham, United Kingdom                     1\n",
       "Toulouse, Midi-Pyrenees, France                    1\n",
       "Wilmington, Delaware, United States                1\n",
       "Salt Lake City, Utah, United States                1\n",
       "Boyds, Maryland, United States                     1\n",
       "Kirkland, Washington, United States                1\n",
       "Suwon, Ch'ungch'ong-namdo, South Korea             1\n",
       "San Mateo, California, United States               1\n",
       "Wangjing, Beijing, China                           1\n",
       "Oslo, Oslo, Norway                                 1\n",
       "Sursee, Luzern, Switzerland                        1\n",
       "Anyang, Kyonggi-do, South Korea                    1\n",
       "Wollongong, New South Wales, Australia             1\n",
       "Hong Kong, Hong Kong Island, Hong Kong             1\n",
       "Scottsdale, Arizona, United States                 1\n",
       "Houston, Texas, United States                      1\n",
       "Newburyport, Massachusetts, United States          1\n",
       "Chicago, Illinois, United States                   1\n",
       "Middleton, Wisconsin, United States                1\n",
       "Santa Barbara, California, United States           1\n",
       "Suzhou, Jiangsu, China                             1\n",
       "Columbus, Ohio, United States                      1\n",
       "Helsinki, Southern Finland, Finland                1\n",
       "Name: headquarters, Length: 108, dtype: int64"
      ]
     },
     "execution_count": 12,
     "metadata": {},
     "output_type": "execute_result"
    }
   ],
   "source": [
    "ais_df['headquarters'].value_counts()"
   ]
  },
  {
   "cell_type": "code",
   "execution_count": 13,
   "metadata": {},
   "outputs": [
    {
     "data": {
      "text/plain": [
       "Preclinical    114\n",
       "Discovery      107\n",
       "Phase 1         20\n",
       "Phase 2         18\n",
       "Phase 3          3\n",
       "Name: stage, dtype: int64"
      ]
     },
     "execution_count": 13,
     "metadata": {},
     "output_type": "execute_result"
    }
   ],
   "source": [
    "aidd_df2['stage'].value_counts()"
   ]
  },
  {
   "cell_type": "code",
   "execution_count": 14,
   "metadata": {},
   "outputs": [
    {
     "data": {
      "text/plain": [
       "Oncology                       108\n",
       "Neurology                       43\n",
       "Infectious disease              27\n",
       "Rare disease                    19\n",
       "Undisclosed                     15\n",
       "Metabolic disease               14\n",
       "Inflammation and immunology     11\n",
       "Cardiology                       7\n",
       "Fibrosis                         6\n",
       "Dermatology                      5\n",
       "Gastroenterology                 2\n",
       "Ophthalmology                    2\n",
       "Hematology                       1\n",
       "Biogerontology                   1\n",
       "Respiratory                      1\n",
       "Name: therapeutic_area, dtype: int64"
      ]
     },
     "execution_count": 14,
     "metadata": {},
     "output_type": "execute_result"
    }
   ],
   "source": [
    "aidd_df2['therapeutic_area'].value_counts()"
   ]
  },
  {
   "cell_type": "code",
   "execution_count": 15,
   "metadata": {
    "scrolled": true
   },
   "outputs": [
    {
     "data": {
      "text/html": [
       "<div>\n",
       "<style scoped>\n",
       "    .dataframe tbody tr th:only-of-type {\n",
       "        vertical-align: middle;\n",
       "    }\n",
       "\n",
       "    .dataframe tbody tr th {\n",
       "        vertical-align: top;\n",
       "    }\n",
       "\n",
       "    .dataframe thead th {\n",
       "        text-align: right;\n",
       "    }\n",
       "</style>\n",
       "<table border=\"1\" class=\"dataframe\">\n",
       "  <thead>\n",
       "    <tr style=\"text-align: right;\">\n",
       "      <th></th>\n",
       "      <th>company</th>\n",
       "      <th>founded</th>\n",
       "      <th>headquarters</th>\n",
       "      <th>purpose</th>\n",
       "      <th>use</th>\n",
       "    </tr>\n",
       "  </thead>\n",
       "  <tbody>\n",
       "    <tr>\n",
       "      <th>0</th>\n",
       "      <td>3BIGS</td>\n",
       "      <td>2017</td>\n",
       "      <td>Suwon, Ch'ungch'ong-namdo, South Korea</td>\n",
       "      <td>Repurpose drugs for new indications</td>\n",
       "      <td>Discover relationships between diseases, targe...</td>\n",
       "    </tr>\n",
       "    <tr>\n",
       "      <th>1</th>\n",
       "      <td>Amplion</td>\n",
       "      <td>2013</td>\n",
       "      <td>Bend, Oregon, United States</td>\n",
       "      <td>Ensure an effective mix of biomarkers, establi...</td>\n",
       "      <td>Synthesize biomedical knowledge and biomarker ...</td>\n",
       "    </tr>\n",
       "    <tr>\n",
       "      <th>2</th>\n",
       "      <td>BioSymetrics</td>\n",
       "      <td>2015</td>\n",
       "      <td>New York, New York, United States</td>\n",
       "      <td>Integrate rapid analytics and machine learning...</td>\n",
       "      <td>Process raw phenotypic, imaging, drug, and gen...</td>\n",
       "    </tr>\n",
       "    <tr>\n",
       "      <th>3</th>\n",
       "      <td>Biorelate</td>\n",
       "      <td>2014</td>\n",
       "      <td>Oldham, Oldham, United Kingdom</td>\n",
       "      <td>Extract structured biological knowledge to pow...</td>\n",
       "      <td>Create curated databases from the analysis of ...</td>\n",
       "    </tr>\n",
       "    <tr>\n",
       "      <th>4</th>\n",
       "      <td>Causaly</td>\n",
       "      <td>2017</td>\n",
       "      <td>London, England, United Kingdom</td>\n",
       "      <td>Search for cause and effect relationships and ...</td>\n",
       "      <td>Read scientific articles and extract causal as...</td>\n",
       "    </tr>\n",
       "  </tbody>\n",
       "</table>\n",
       "</div>"
      ],
      "text/plain": [
       "        company  founded                            headquarters  \\\n",
       "0         3BIGS     2017  Suwon, Ch'ungch'ong-namdo, South Korea   \n",
       "1       Amplion     2013             Bend, Oregon, United States   \n",
       "2  BioSymetrics     2015       New York, New York, United States   \n",
       "3     Biorelate     2014          Oldham, Oldham, United Kingdom   \n",
       "4       Causaly     2017         London, England, United Kingdom   \n",
       "\n",
       "                                             purpose  \\\n",
       "0                Repurpose drugs for new indications   \n",
       "1  Ensure an effective mix of biomarkers, establi...   \n",
       "2  Integrate rapid analytics and machine learning...   \n",
       "3  Extract structured biological knowledge to pow...   \n",
       "4  Search for cause and effect relationships and ...   \n",
       "\n",
       "                                                 use  \n",
       "0  Discover relationships between diseases, targe...  \n",
       "1  Synthesize biomedical knowledge and biomarker ...  \n",
       "2  Process raw phenotypic, imaging, drug, and gen...  \n",
       "3  Create curated databases from the analysis of ...  \n",
       "4  Read scientific articles and extract causal as...  "
      ]
     },
     "execution_count": 15,
     "metadata": {},
     "output_type": "execute_result"
    }
   ],
   "source": [
    "ais_df.head()"
   ]
  },
  {
   "cell_type": "code",
   "execution_count": 16,
   "metadata": {},
   "outputs": [
    {
     "data": {
      "text/plain": [
       "str"
      ]
     },
     "execution_count": 16,
     "metadata": {},
     "output_type": "execute_result"
    }
   ],
   "source": [
    "type(ais_df.head()['headquarters'][0])"
   ]
  },
  {
   "cell_type": "code",
   "execution_count": 17,
   "metadata": {},
   "outputs": [
    {
     "data": {
      "text/plain": [
       "\"Suwon, Ch'ungch'ong-namdo, South Korea\""
      ]
     },
     "execution_count": 17,
     "metadata": {},
     "output_type": "execute_result"
    }
   ],
   "source": [
    "ais_df.head()['headquarters'][0]"
   ]
  },
  {
   "cell_type": "code",
   "execution_count": 18,
   "metadata": {},
   "outputs": [
    {
     "data": {
      "text/plain": [
       "pandas.core.frame.DataFrame"
      ]
     },
     "execution_count": 18,
     "metadata": {},
     "output_type": "execute_result"
    }
   ],
   "source": [
    "type(ais_df)"
   ]
  },
  {
   "cell_type": "code",
   "execution_count": 19,
   "metadata": {},
   "outputs": [
    {
     "data": {
      "text/html": [
       "<div>\n",
       "<style scoped>\n",
       "    .dataframe tbody tr th:only-of-type {\n",
       "        vertical-align: middle;\n",
       "    }\n",
       "\n",
       "    .dataframe tbody tr th {\n",
       "        vertical-align: top;\n",
       "    }\n",
       "\n",
       "    .dataframe thead th {\n",
       "        text-align: right;\n",
       "    }\n",
       "</style>\n",
       "<table border=\"1\" class=\"dataframe\">\n",
       "  <thead>\n",
       "    <tr style=\"text-align: right;\">\n",
       "      <th></th>\n",
       "      <th>company</th>\n",
       "      <th>founded</th>\n",
       "      <th>headquarters</th>\n",
       "      <th>purpose</th>\n",
       "      <th>use</th>\n",
       "      <th>City</th>\n",
       "      <th>State</th>\n",
       "      <th>Country</th>\n",
       "    </tr>\n",
       "  </thead>\n",
       "  <tbody>\n",
       "    <tr>\n",
       "      <th>0</th>\n",
       "      <td>3BIGS</td>\n",
       "      <td>2017</td>\n",
       "      <td>Suwon, Ch'ungch'ong-namdo, South Korea</td>\n",
       "      <td>Repurpose drugs for new indications</td>\n",
       "      <td>Discover relationships between diseases, targe...</td>\n",
       "      <td>Suwon</td>\n",
       "      <td>Ch'ungch'ong-namdo</td>\n",
       "      <td>South Korea</td>\n",
       "    </tr>\n",
       "    <tr>\n",
       "      <th>1</th>\n",
       "      <td>Amplion</td>\n",
       "      <td>2013</td>\n",
       "      <td>Bend, Oregon, United States</td>\n",
       "      <td>Ensure an effective mix of biomarkers, establi...</td>\n",
       "      <td>Synthesize biomedical knowledge and biomarker ...</td>\n",
       "      <td>Bend</td>\n",
       "      <td>Oregon</td>\n",
       "      <td>United States</td>\n",
       "    </tr>\n",
       "    <tr>\n",
       "      <th>2</th>\n",
       "      <td>BioSymetrics</td>\n",
       "      <td>2015</td>\n",
       "      <td>New York, New York, United States</td>\n",
       "      <td>Integrate rapid analytics and machine learning...</td>\n",
       "      <td>Process raw phenotypic, imaging, drug, and gen...</td>\n",
       "      <td>New York</td>\n",
       "      <td>New York</td>\n",
       "      <td>United States</td>\n",
       "    </tr>\n",
       "    <tr>\n",
       "      <th>3</th>\n",
       "      <td>Biorelate</td>\n",
       "      <td>2014</td>\n",
       "      <td>Oldham, Oldham, United Kingdom</td>\n",
       "      <td>Extract structured biological knowledge to pow...</td>\n",
       "      <td>Create curated databases from the analysis of ...</td>\n",
       "      <td>Oldham</td>\n",
       "      <td>Oldham</td>\n",
       "      <td>United Kingdom</td>\n",
       "    </tr>\n",
       "    <tr>\n",
       "      <th>4</th>\n",
       "      <td>Causaly</td>\n",
       "      <td>2017</td>\n",
       "      <td>London, England, United Kingdom</td>\n",
       "      <td>Search for cause and effect relationships and ...</td>\n",
       "      <td>Read scientific articles and extract causal as...</td>\n",
       "      <td>London</td>\n",
       "      <td>England</td>\n",
       "      <td>United Kingdom</td>\n",
       "    </tr>\n",
       "  </tbody>\n",
       "</table>\n",
       "</div>"
      ],
      "text/plain": [
       "        company  founded                            headquarters  \\\n",
       "0         3BIGS     2017  Suwon, Ch'ungch'ong-namdo, South Korea   \n",
       "1       Amplion     2013             Bend, Oregon, United States   \n",
       "2  BioSymetrics     2015       New York, New York, United States   \n",
       "3     Biorelate     2014          Oldham, Oldham, United Kingdom   \n",
       "4       Causaly     2017         London, England, United Kingdom   \n",
       "\n",
       "                                             purpose  \\\n",
       "0                Repurpose drugs for new indications   \n",
       "1  Ensure an effective mix of biomarkers, establi...   \n",
       "2  Integrate rapid analytics and machine learning...   \n",
       "3  Extract structured biological knowledge to pow...   \n",
       "4  Search for cause and effect relationships and ...   \n",
       "\n",
       "                                                 use      City  \\\n",
       "0  Discover relationships between diseases, targe...     Suwon   \n",
       "1  Synthesize biomedical knowledge and biomarker ...      Bend   \n",
       "2  Process raw phenotypic, imaging, drug, and gen...  New York   \n",
       "3  Create curated databases from the analysis of ...    Oldham   \n",
       "4  Read scientific articles and extract causal as...    London   \n",
       "\n",
       "                State         Country  \n",
       "0  Ch'ungch'ong-namdo     South Korea  \n",
       "1              Oregon   United States  \n",
       "2            New York   United States  \n",
       "3              Oldham  United Kingdom  \n",
       "4             England  United Kingdom  "
      ]
     },
     "execution_count": 19,
     "metadata": {},
     "output_type": "execute_result"
    }
   ],
   "source": [
    "ais_df[['City',\"State\",'Country']] = ais_df['headquarters'].str.split(\", \",expand=True) \n",
    "\n",
    "ais_df.head()"
   ]
  },
  {
   "cell_type": "code",
   "execution_count": 20,
   "metadata": {},
   "outputs": [
    {
     "data": {
      "text/html": [
       "<div>\n",
       "<style scoped>\n",
       "    .dataframe tbody tr th:only-of-type {\n",
       "        vertical-align: middle;\n",
       "    }\n",
       "\n",
       "    .dataframe tbody tr th {\n",
       "        vertical-align: top;\n",
       "    }\n",
       "\n",
       "    .dataframe thead th {\n",
       "        text-align: right;\n",
       "    }\n",
       "</style>\n",
       "<table border=\"1\" class=\"dataframe\">\n",
       "  <thead>\n",
       "    <tr style=\"text-align: right;\">\n",
       "      <th></th>\n",
       "      <th>company</th>\n",
       "      <th>drug</th>\n",
       "      <th>indication</th>\n",
       "      <th>stage</th>\n",
       "      <th>therapeutic_area</th>\n",
       "    </tr>\n",
       "  </thead>\n",
       "  <tbody>\n",
       "    <tr>\n",
       "      <th>1</th>\n",
       "      <td>Acurastem</td>\n",
       "      <td>AS - 1</td>\n",
       "      <td>Amyotrophic lateral sclerosis and frontotempor...</td>\n",
       "      <td>Phase 3</td>\n",
       "      <td>Neurology</td>\n",
       "    </tr>\n",
       "    <tr>\n",
       "      <th>2</th>\n",
       "      <td>Pharnext</td>\n",
       "      <td>PXT3003</td>\n",
       "      <td>Charcot-Marie-Tooth disease type 1A adults</td>\n",
       "      <td>Phase 3</td>\n",
       "      <td>Neurology</td>\n",
       "    </tr>\n",
       "    <tr>\n",
       "      <th>3</th>\n",
       "      <td>Sunovion</td>\n",
       "      <td>SEP-363856</td>\n",
       "      <td>Schizophrenia</td>\n",
       "      <td>Phase 3</td>\n",
       "      <td>Neurology</td>\n",
       "    </tr>\n",
       "    <tr>\n",
       "      <th>4</th>\n",
       "      <td>AI Therapeutics</td>\n",
       "      <td>LAM–002</td>\n",
       "      <td>B-cell non-Hodgkin lymphoma (atezolizumab comb...</td>\n",
       "      <td>Phase 2</td>\n",
       "      <td>Oncology</td>\n",
       "    </tr>\n",
       "    <tr>\n",
       "      <th>5</th>\n",
       "      <td>AI Therapeutics</td>\n",
       "      <td>LAM–002</td>\n",
       "      <td>B-cell non-Hodgkin lymphoma (rituximab combina...</td>\n",
       "      <td>Phase 2</td>\n",
       "      <td>Oncology</td>\n",
       "    </tr>\n",
       "  </tbody>\n",
       "</table>\n",
       "</div>"
      ],
      "text/plain": [
       "           company        drug  \\\n",
       "1        Acurastem      AS - 1   \n",
       "2         Pharnext     PXT3003   \n",
       "3         Sunovion  SEP-363856   \n",
       "4  AI Therapeutics     LAM–002   \n",
       "5  AI Therapeutics     LAM–002   \n",
       "\n",
       "                                          indication    stage therapeutic_area  \n",
       "1  Amyotrophic lateral sclerosis and frontotempor...  Phase 3        Neurology  \n",
       "2         Charcot-Marie-Tooth disease type 1A adults  Phase 3        Neurology  \n",
       "3                                      Schizophrenia  Phase 3        Neurology  \n",
       "4  B-cell non-Hodgkin lymphoma (atezolizumab comb...  Phase 2         Oncology  \n",
       "5  B-cell non-Hodgkin lymphoma (rituximab combina...  Phase 2         Oncology  "
      ]
     },
     "execution_count": 20,
     "metadata": {},
     "output_type": "execute_result"
    }
   ],
   "source": [
    "aidd_df2.head()"
   ]
  },
  {
   "cell_type": "code",
   "execution_count": 21,
   "metadata": {},
   "outputs": [
    {
     "data": {
      "text/plain": [
       "261"
      ]
     },
     "execution_count": 21,
     "metadata": {},
     "output_type": "execute_result"
    }
   ],
   "source": [
    "test = pd.merge(ais_df, aidd_df2, on = 'company')\n",
    "test.shape[0]"
   ]
  },
  {
   "cell_type": "code",
   "execution_count": 22,
   "metadata": {},
   "outputs": [
    {
     "data": {
      "text/plain": [
       "256    Schrödinger\n",
       "257    Schrödinger\n",
       "258    Schrödinger\n",
       "259    Schrödinger\n",
       "260    Schrödinger\n",
       "Name: company, dtype: object"
      ]
     },
     "execution_count": 22,
     "metadata": {},
     "output_type": "execute_result"
    }
   ],
   "source": [
    "test.tail()['company']"
   ]
  },
  {
   "cell_type": "code",
   "execution_count": 23,
   "metadata": {},
   "outputs": [
    {
     "data": {
      "text/plain": [
       "0"
      ]
     },
     "execution_count": 23,
     "metadata": {},
     "output_type": "execute_result"
    }
   ],
   "source": [
    "test['City'].isnull().values.sum()"
   ]
  },
  {
   "cell_type": "code",
   "execution_count": 24,
   "metadata": {},
   "outputs": [
    {
     "data": {
      "text/plain": [
       "0                      Acurastem\n",
       "1                      Acurastem\n",
       "2                      Acurastem\n",
       "3                      Acurastem\n",
       "4                      Acurastem\n",
       "5                      Acurastem\n",
       "6           BioXcel Therapeutics\n",
       "7           BioXcel Therapeutics\n",
       "8           BioXcel Therapeutics\n",
       "9           BioXcel Therapeutics\n",
       "10          BioXcel Therapeutics\n",
       "11          BioXcel Therapeutics\n",
       "12          BioXcel Therapeutics\n",
       "13                      Biovista\n",
       "14                      Biovista\n",
       "15                      Biovista\n",
       "16                      Biovista\n",
       "17                      Biovista\n",
       "18                      Biovista\n",
       "19                      Biovista\n",
       "20                      Biovista\n",
       "21                         Healx\n",
       "22                         Healx\n",
       "23                         Healx\n",
       "24                         Healx\n",
       "25                         Healx\n",
       "26                         Healx\n",
       "27                         Healx\n",
       "28                         Healx\n",
       "29                         Healx\n",
       "30                Lantern Pharma\n",
       "31                Lantern Pharma\n",
       "32                Lantern Pharma\n",
       "33                      Pharnext\n",
       "34                      Pharnext\n",
       "35                      Pharnext\n",
       "36                      Pharnext\n",
       "37     Recursion Pharmaceuticals\n",
       "38     Recursion Pharmaceuticals\n",
       "39     Recursion Pharmaceuticals\n",
       "40     Recursion Pharmaceuticals\n",
       "41     Recursion Pharmaceuticals\n",
       "42     Recursion Pharmaceuticals\n",
       "43     Recursion Pharmaceuticals\n",
       "44     Recursion Pharmaceuticals\n",
       "45     Recursion Pharmaceuticals\n",
       "46     Recursion Pharmaceuticals\n",
       "47     Recursion Pharmaceuticals\n",
       "48     Recursion Pharmaceuticals\n",
       "49     Recursion Pharmaceuticals\n",
       "                 ...            \n",
       "211                     Standigm\n",
       "212                     Standigm\n",
       "213                     Standigm\n",
       "214                     Standigm\n",
       "215                     Standigm\n",
       "216                     Standigm\n",
       "217                     Standigm\n",
       "218                     Standigm\n",
       "219                     Standigm\n",
       "220                     Standigm\n",
       "221                     Standigm\n",
       "222                     Standigm\n",
       "223                       TwoXAR\n",
       "224                       TwoXAR\n",
       "225                       TwoXAR\n",
       "226                       TwoXAR\n",
       "227                       TwoXAR\n",
       "228                       TwoXAR\n",
       "229                       TwoXAR\n",
       "230                       TwoXAR\n",
       "231                       TwoXAR\n",
       "232                       TwoXAR\n",
       "233                       TwoXAR\n",
       "234                       TwoXAR\n",
       "235                       TwoXAR\n",
       "236                       TwoXAR\n",
       "237                       TwoXAR\n",
       "238                       TwoXAR\n",
       "239                       TwoXAR\n",
       "240                       TwoXAR\n",
       "241                       TwoXAR\n",
       "242                       Vaxine\n",
       "243                         X-37\n",
       "244                         X-37\n",
       "245                         X-37\n",
       "246                         X-37\n",
       "247                         X-37\n",
       "248               Coral Genomics\n",
       "249               Coral Genomics\n",
       "250               Coral Genomics\n",
       "251               Coral Genomics\n",
       "252               Coral Genomics\n",
       "253                 Reverie Labs\n",
       "254                 Reverie Labs\n",
       "255                 Reverie Labs\n",
       "256                  Schrödinger\n",
       "257                  Schrödinger\n",
       "258                  Schrödinger\n",
       "259                  Schrödinger\n",
       "260                  Schrödinger\n",
       "Name: company, Length: 261, dtype: object"
      ]
     },
     "execution_count": 24,
     "metadata": {},
     "output_type": "execute_result"
    }
   ],
   "source": [
    "test['company']"
   ]
  },
  {
   "cell_type": "code",
   "execution_count": 25,
   "metadata": {},
   "outputs": [
    {
     "data": {
      "text/plain": [
       "230"
      ]
     },
     "execution_count": 25,
     "metadata": {},
     "output_type": "execute_result"
    }
   ],
   "source": [
    "len(ais_df.company.unique())\n",
    "# unique, counts = np.unique(ais_df, return_counts=True)\n",
    "# dict(zip(unique, counts))\n",
    "# ais_df.company.unique()"
   ]
  },
  {
   "cell_type": "code",
   "execution_count": 26,
   "metadata": {},
   "outputs": [
    {
     "data": {
      "text/plain": [
       "35"
      ]
     },
     "execution_count": 26,
     "metadata": {},
     "output_type": "execute_result"
    }
   ],
   "source": [
    "len(aidd_df2.company.unique())"
   ]
  },
  {
   "cell_type": "code",
   "execution_count": 27,
   "metadata": {},
   "outputs": [
    {
     "data": {
      "text/plain": [
       "117"
      ]
     },
     "execution_count": 27,
     "metadata": {},
     "output_type": "execute_result"
    }
   ],
   "source": [
    "len(aidd_df2.drug.unique())"
   ]
  },
  {
   "cell_type": "code",
   "execution_count": 28,
   "metadata": {},
   "outputs": [
    {
     "data": {
      "text/plain": [
       "array(['Acurastem', 'Pharnext', 'Sunovion', 'AI Therapeutics', 'Berg',\n",
       "       'BioXcel Therapeutics', 'BlackThorn Therapeutics', 'Globavir',\n",
       "       'Lantern Pharma', 'SOM Biotech', 'Adagene',\n",
       "       'Cotinga Pharmaceuticals', 'Evaxion Biotech', 'Exscientia',\n",
       "       'Gritstone Oncology', 'Pharos iBT', 'Recursion Pharmaceuticals',\n",
       "       'Vaxine', 'Alphanosos', 'Auransa', 'Biovista', 'CaroCure',\n",
       "       'Cloud Pharmaceuticals', 'Collaborations Pharma', 'Coral Genomics',\n",
       "       'Deep Genomics', 'Healx', 'Neon Therapeutics', 'Reverie Labs',\n",
       "       'Standigm', 'TwoXAR', 'A2A Pharmaceuticals', 'Schrödinger',\n",
       "       'Sirenas', 'X-37'], dtype=object)"
      ]
     },
     "execution_count": 28,
     "metadata": {},
     "output_type": "execute_result"
    }
   ],
   "source": [
    "aidd_df2.company.unique()"
   ]
  },
  {
   "cell_type": "code",
   "execution_count": 29,
   "metadata": {},
   "outputs": [
    {
     "data": {
      "text/plain": [
       "array(['Acurastem', 'BioXcel Therapeutics', 'Biovista', 'Healx',\n",
       "       'Lantern Pharma', 'Pharnext', 'Recursion Pharmaceuticals',\n",
       "       'A2A Pharmaceuticals', 'AI Therapeutics', 'Adagene', 'Alphanosos',\n",
       "       'Auransa', 'Berg', 'BlackThorn Therapeutics', 'CaroCure',\n",
       "       'Cloud Pharmaceuticals', 'Collaborations Pharma',\n",
       "       'Cotinga Pharmaceuticals', 'Deep Genomics', 'Evaxion Biotech',\n",
       "       'Exscientia', 'Globavir', 'Gritstone Oncology',\n",
       "       'Neon Therapeutics', 'Pharos iBT', 'SOM Biotech', 'Sirenas',\n",
       "       'Standigm', 'TwoXAR', 'Vaxine', 'X-37', 'Coral Genomics',\n",
       "       'Reverie Labs', 'Schrödinger'], dtype=object)"
      ]
     },
     "execution_count": 29,
     "metadata": {},
     "output_type": "execute_result"
    }
   ],
   "source": [
    "test.company.unique()"
   ]
  },
  {
   "cell_type": "code",
   "execution_count": 30,
   "metadata": {},
   "outputs": [
    {
     "data": {
      "text/plain": [
       "34"
      ]
     },
     "execution_count": 30,
     "metadata": {},
     "output_type": "execute_result"
    }
   ],
   "source": [
    "len(test.company.unique())"
   ]
  },
  {
   "cell_type": "code",
   "execution_count": 31,
   "metadata": {},
   "outputs": [
    {
     "data": {
      "text/plain": [
       "1    Neurology\n",
       "2    Neurology\n",
       "3    Neurology\n",
       "4     Oncology\n",
       "5     Oncology\n",
       "Name: therapeutic_area, dtype: object"
      ]
     },
     "execution_count": 31,
     "metadata": {},
     "output_type": "execute_result"
    }
   ],
   "source": [
    "aidd_df2.head()['therapeutic_area']"
   ]
  },
  {
   "cell_type": "code",
   "execution_count": 32,
   "metadata": {},
   "outputs": [
    {
     "data": {
      "text/plain": [
       "['company', 'drug', 'indication', 'stage', 'therapeutic_area']"
      ]
     },
     "execution_count": 32,
     "metadata": {},
     "output_type": "execute_result"
    }
   ],
   "source": [
    "aidd_df2.columns.tolist()"
   ]
  },
  {
   "cell_type": "code",
   "execution_count": 33,
   "metadata": {},
   "outputs": [
    {
     "data": {
      "text/plain": [
       "['company',\n",
       " 'founded',\n",
       " 'headquarters',\n",
       " 'purpose',\n",
       " 'use',\n",
       " 'City',\n",
       " 'State',\n",
       " 'Country']"
      ]
     },
     "execution_count": 33,
     "metadata": {},
     "output_type": "execute_result"
    }
   ],
   "source": [
    "ais_df.columns.tolist()"
   ]
  },
  {
   "cell_type": "code",
   "execution_count": 34,
   "metadata": {},
   "outputs": [
    {
     "data": {
      "text/plain": [
       "['company',\n",
       " 'founded',\n",
       " 'headquarters',\n",
       " 'purpose',\n",
       " 'use',\n",
       " 'City',\n",
       " 'State',\n",
       " 'Country',\n",
       " 'drug',\n",
       " 'indication',\n",
       " 'stage',\n",
       " 'therapeutic_area']"
      ]
     },
     "execution_count": 34,
     "metadata": {},
     "output_type": "execute_result"
    }
   ],
   "source": [
    "test.columns.tolist()"
   ]
  },
  {
   "cell_type": "code",
   "execution_count": 35,
   "metadata": {},
   "outputs": [
    {
     "data": {
      "text/plain": [
       "'Amyotrophic lateral sclerosis and frontotemporal degeneration'"
      ]
     },
     "execution_count": 35,
     "metadata": {},
     "output_type": "execute_result"
    }
   ],
   "source": [
    "aidd_df2.head()['indication'][1]"
   ]
  },
  {
   "cell_type": "code",
   "execution_count": 36,
   "metadata": {},
   "outputs": [
    {
     "data": {
      "text/plain": [
       "'Ensure an effective mix of biomarkers, establish differentiation, recruit the right patients, and identify the best companion diagnostic opportunities'"
      ]
     },
     "execution_count": 36,
     "metadata": {},
     "output_type": "execute_result"
    }
   ],
   "source": [
    "ais_df.head()['purpose'][1]"
   ]
  },
  {
   "cell_type": "code",
   "execution_count": 37,
   "metadata": {},
   "outputs": [
    {
     "data": {
      "text/plain": [
       "Preclinical    114\n",
       "Discovery      107\n",
       "Phase 1         20\n",
       "Phase 2         18\n",
       "Phase 3          3\n",
       "Name: stage, dtype: int64"
      ]
     },
     "execution_count": 37,
     "metadata": {},
     "output_type": "execute_result"
    }
   ],
   "source": [
    "aidd_df2['stage'].value_counts()"
   ]
  },
  {
   "cell_type": "code",
   "execution_count": 38,
   "metadata": {},
   "outputs": [
    {
     "data": {
      "text/plain": [
       "<matplotlib.axes._subplots.AxesSubplot at 0x11bb5ef90>"
      ]
     },
     "execution_count": 38,
     "metadata": {},
     "output_type": "execute_result"
    },
    {
     "data": {
      "image/png": "[encoded data removed]",
      "text/plain": [
       "<Figure size 432x288 with 1 Axes>"
      ]
     },
     "metadata": {},
     "output_type": "display_data"
    }
   ],
   "source": [
    "aidd_df2['therapeutic_area'].value_counts().plot(kind='bar',y='count', color='b')"
   ]
  },
  {
   "cell_type": "code",
   "execution_count": 39,
   "metadata": {},
   "outputs": [
    {
     "data": {
      "text/plain": [
       "<matplotlib.axes._subplots.AxesSubplot at 0x11be2fe50>"
      ]
     },
     "execution_count": 39,
     "metadata": {},
     "output_type": "execute_result"
    },
    {
     "data": {
      "image/png": "[encoded data removed]",
      "text/plain": [
       "<Figure size 432x288 with 1 Axes>"
      ]
     },
     "metadata": {},
     "output_type": "display_data"
    }
   ],
   "source": [
    "aidd_df2['stage'].value_counts().plot(kind='bar',y='count', color='b')"
   ]
  },
  {
   "cell_type": "code",
   "execution_count": 40,
   "metadata": {},
   "outputs": [
    {
     "data": {
      "text/plain": [
       "<matplotlib.axes._subplots.AxesSubplot at 0x11befc8d0>"
      ]
     },
     "execution_count": 40,
     "metadata": {},
     "output_type": "execute_result"
    },
    {
     "data": {
      "image/png": "[encoded data removed]",
      "text/plain": [
       "<Figure size 432x288 with 1 Axes>"
      ]
     },
     "metadata": {},
     "output_type": "display_data"
    }
   ],
   "source": [
    "ais_dfig = ais_df.groupby('Country').filter(lambda x: x.shape[0] > 5)\n",
    "ais_dfig['Country'].value_counts().plot(kind='bar',y='count', color='b')"
   ]
  },
  {
   "cell_type": "code",
   "execution_count": 41,
   "metadata": {},
   "outputs": [
    {
     "data": {
      "text/plain": [
       "<matplotlib.axes._subplots.AxesSubplot at 0x11bf953d0>"
      ]
     },
     "execution_count": 41,
     "metadata": {},
     "output_type": "execute_result"
    },
    {
     "data": {
      "image/png": "[encoded data removed]",
      "text/plain": [
       "<Figure size 432x288 with 1 Axes>"
      ]
     },
     "metadata": {},
     "output_type": "display_data"
    }
   ],
   "source": [
    "ais_df['founded'].value_counts().plot(kind='bar',y='count', color='b')"
   ]
  },
  {
   "cell_type": "code",
   "execution_count": 42,
   "metadata": {},
   "outputs": [
    {
     "ename": "TypeError",
     "evalue": "filter() missing 1 required positional argument: 'func'",
     "output_type": "error",
     "traceback": [
      "\u001b[0;31m---------------------------------------------------------------------------\u001b[0m",
      "\u001b[0;31mTypeError\u001b[0m                                 Traceback (most recent call last)",
      "\u001b[0;32m<ipython-input-42-627727d1ddc6>\u001b[0m in \u001b[0;36m<module>\u001b[0;34m\u001b[0m\n\u001b[0;32m----> 1\u001b[0;31m \u001b[0mais_df\u001b[0m\u001b[0;34m.\u001b[0m\u001b[0mgroupby\u001b[0m\u001b[0;34m(\u001b[0m\u001b[0;34m'Country'\u001b[0m\u001b[0;34m)\u001b[0m\u001b[0;34m.\u001b[0m\u001b[0mfilter\u001b[0m\u001b[0;34m(\u001b[0m\u001b[0mlike\u001b[0m \u001b[0;34m=\u001b[0m \u001b[0;34m'United States'\u001b[0m\u001b[0;34m,\u001b[0m \u001b[0maxis\u001b[0m\u001b[0;34m=\u001b[0m\u001b[0;36m0\u001b[0m\u001b[0;34m)\u001b[0m\u001b[0;34m\u001b[0m\u001b[0;34m\u001b[0m\u001b[0m\n\u001b[0m",
      "\u001b[0;31mTypeError\u001b[0m: filter() missing 1 required positional argument: 'func'"
     ]
    }
   ],
   "source": [
    "ais_df.groupby('Country').filter(like = 'United States', axis=0)"
   ]
  },
  {
   "cell_type": "code",
   "execution_count": null,
   "metadata": {},
   "outputs": [],
   "source": [
    "ais_df.filter?"
   ]
  },
  {
   "cell_type": "code",
   "execution_count": null,
   "metadata": {},
   "outputs": [],
   "source": [
    "import seaborn as sns"
   ]
  },
  {
   "cell_type": "code",
   "execution_count": 107,
   "metadata": {
    "scrolled": false
   },
   "outputs": [
    {
     "ename": "TypeError",
     "evalue": "string indices must be integers",
     "output_type": "error",
     "traceback": [
      "\u001b[0;31m---------------------------------------------------------------------------\u001b[0m",
      "\u001b[0;31mTypeError\u001b[0m                                 Traceback (most recent call last)",
      "\u001b[0;32m<ipython-input-107-2bf44f0e57ee>\u001b[0m in \u001b[0;36m<module>\u001b[0;34m\u001b[0m\n\u001b[0;32m----> 1\u001b[0;31m \u001b[0mcf\u001b[0m \u001b[0;34m=\u001b[0m \u001b[0mpd\u001b[0m\u001b[0;34m.\u001b[0m\u001b[0mDataFrame\u001b[0m\u001b[0;34m(\u001b[0m\u001b[0mais_dfig\u001b[0m\u001b[0;34m.\u001b[0m\u001b[0mgroupby\u001b[0m\u001b[0;34m(\u001b[0m\u001b[0;34m'Country'\u001b[0m\u001b[0;34m[\u001b[0m\u001b[0;34m'United States'\u001b[0m\u001b[0;34m]\u001b[0m\u001b[0;34m)\u001b[0m\u001b[0;34m[\u001b[0m\u001b[0;34m'founded'\u001b[0m\u001b[0;34m]\u001b[0m\u001b[0;34m.\u001b[0m\u001b[0mvalue_counts\u001b[0m\u001b[0;34m(\u001b[0m\u001b[0;34m)\u001b[0m\u001b[0;34m)\u001b[0m\u001b[0;34m\u001b[0m\u001b[0;34m\u001b[0m\u001b[0m\n\u001b[0m\u001b[1;32m      2\u001b[0m \u001b[0mcf\u001b[0m\u001b[0;34m\u001b[0m\u001b[0;34m\u001b[0m\u001b[0m\n",
      "\u001b[0;31mTypeError\u001b[0m: string indices must be integers"
     ]
    }
   ],
   "source": [
    "cf = pd.DataFrame(ais_dfig.groupby('Country')['founded'].value_counts())\n",
    "cf"
   ]
  },
  {
   "cell_type": "code",
   "execution_count": 114,
   "metadata": {},
   "outputs": [
    {
     "ename": "TypeError",
     "evalue": "'Series' object is not callable",
     "output_type": "error",
     "traceback": [
      "\u001b[0;31m---------------------------------------------------------------------------\u001b[0m",
      "\u001b[0;31mTypeError\u001b[0m                                 Traceback (most recent call last)",
      "\u001b[0;32m<ipython-input-114-45182d5be554>\u001b[0m in \u001b[0;36m<module>\u001b[0;34m\u001b[0m\n\u001b[0;32m----> 1\u001b[0;31m \u001b[0mais_dfig\u001b[0m\u001b[0;34m[\u001b[0m\u001b[0;34m'Country'\u001b[0m\u001b[0;34m]\u001b[0m\u001b[0;34m(\u001b[0m\u001b[0;34m'United States'\u001b[0m\u001b[0;34m)\u001b[0m\u001b[0;34m\u001b[0m\u001b[0;34m\u001b[0m\u001b[0m\n\u001b[0m",
      "\u001b[0;31mTypeError\u001b[0m: 'Series' object is not callable"
     ]
    }
   ],
   "source": [
    "ais_dfig['Country']('United States')"
   ]
  },
  {
   "cell_type": "markdown",
   "metadata": {},
   "source": [
    "### Creating a graph of startups founded by year separated in each top 6 country\n",
    "- testing seaborn"
   ]
  },
  {
   "cell_type": "code",
   "execution_count": 99,
   "metadata": {},
   "outputs": [
    {
     "data": {
      "text/html": [
       "<div>\n",
       "<style scoped>\n",
       "    .dataframe tbody tr th:only-of-type {\n",
       "        vertical-align: middle;\n",
       "    }\n",
       "\n",
       "    .dataframe tbody tr th {\n",
       "        vertical-align: top;\n",
       "    }\n",
       "\n",
       "    .dataframe thead th {\n",
       "        text-align: right;\n",
       "    }\n",
       "</style>\n",
       "<table border=\"1\" class=\"dataframe\">\n",
       "  <thead>\n",
       "    <tr style=\"text-align: right;\">\n",
       "      <th></th>\n",
       "      <th>Country</th>\n",
       "      <th>Year Founded</th>\n",
       "      <th>Count</th>\n",
       "    </tr>\n",
       "  </thead>\n",
       "  <tbody>\n",
       "    <tr>\n",
       "      <th>0</th>\n",
       "      <td>South Korea</td>\n",
       "      <td>2017</td>\n",
       "      <td>1</td>\n",
       "    </tr>\n",
       "    <tr>\n",
       "      <th>1</th>\n",
       "      <td>United States</td>\n",
       "      <td>2013</td>\n",
       "      <td>1</td>\n",
       "    </tr>\n",
       "    <tr>\n",
       "      <th>2</th>\n",
       "      <td>United States</td>\n",
       "      <td>2015</td>\n",
       "      <td>1</td>\n",
       "    </tr>\n",
       "    <tr>\n",
       "      <th>3</th>\n",
       "      <td>United Kingdom</td>\n",
       "      <td>2014</td>\n",
       "      <td>1</td>\n",
       "    </tr>\n",
       "    <tr>\n",
       "      <th>4</th>\n",
       "      <td>United Kingdom</td>\n",
       "      <td>2017</td>\n",
       "      <td>1</td>\n",
       "    </tr>\n",
       "    <tr>\n",
       "      <th>5</th>\n",
       "      <td>United States</td>\n",
       "      <td>2012</td>\n",
       "      <td>1</td>\n",
       "    </tr>\n",
       "    <tr>\n",
       "      <th>6</th>\n",
       "      <td>United States</td>\n",
       "      <td>2013</td>\n",
       "      <td>1</td>\n",
       "    </tr>\n",
       "    <tr>\n",
       "      <th>7</th>\n",
       "      <td>France</td>\n",
       "      <td>2014</td>\n",
       "      <td>1</td>\n",
       "    </tr>\n",
       "    <tr>\n",
       "      <th>9</th>\n",
       "      <td>United States</td>\n",
       "      <td>2017</td>\n",
       "      <td>1</td>\n",
       "    </tr>\n",
       "    <tr>\n",
       "      <th>10</th>\n",
       "      <td>United States</td>\n",
       "      <td>2015</td>\n",
       "      <td>1</td>\n",
       "    </tr>\n",
       "    <tr>\n",
       "      <th>11</th>\n",
       "      <td>United States</td>\n",
       "      <td>2017</td>\n",
       "      <td>1</td>\n",
       "    </tr>\n",
       "    <tr>\n",
       "      <th>13</th>\n",
       "      <td>United Kingdom</td>\n",
       "      <td>2017</td>\n",
       "      <td>1</td>\n",
       "    </tr>\n",
       "    <tr>\n",
       "      <th>14</th>\n",
       "      <td>United States</td>\n",
       "      <td>2017</td>\n",
       "      <td>1</td>\n",
       "    </tr>\n",
       "    <tr>\n",
       "      <th>16</th>\n",
       "      <td>United States</td>\n",
       "      <td>2014</td>\n",
       "      <td>1</td>\n",
       "    </tr>\n",
       "    <tr>\n",
       "      <th>18</th>\n",
       "      <td>United States</td>\n",
       "      <td>2018</td>\n",
       "      <td>1</td>\n",
       "    </tr>\n",
       "    <tr>\n",
       "      <th>19</th>\n",
       "      <td>United Kingdom</td>\n",
       "      <td>2001</td>\n",
       "      <td>1</td>\n",
       "    </tr>\n",
       "    <tr>\n",
       "      <th>20</th>\n",
       "      <td>Canada</td>\n",
       "      <td>2010</td>\n",
       "      <td>1</td>\n",
       "    </tr>\n",
       "    <tr>\n",
       "      <th>22</th>\n",
       "      <td>China</td>\n",
       "      <td>2016</td>\n",
       "      <td>1</td>\n",
       "    </tr>\n",
       "    <tr>\n",
       "      <th>23</th>\n",
       "      <td>France</td>\n",
       "      <td>2013</td>\n",
       "      <td>1</td>\n",
       "    </tr>\n",
       "    <tr>\n",
       "      <th>24</th>\n",
       "      <td>United States</td>\n",
       "      <td>2018</td>\n",
       "      <td>1</td>\n",
       "    </tr>\n",
       "    <tr>\n",
       "      <th>25</th>\n",
       "      <td>United States</td>\n",
       "      <td>2016</td>\n",
       "      <td>1</td>\n",
       "    </tr>\n",
       "    <tr>\n",
       "      <th>27</th>\n",
       "      <td>United States</td>\n",
       "      <td>2019</td>\n",
       "      <td>1</td>\n",
       "    </tr>\n",
       "    <tr>\n",
       "      <th>28</th>\n",
       "      <td>United States</td>\n",
       "      <td>2017</td>\n",
       "      <td>1</td>\n",
       "    </tr>\n",
       "    <tr>\n",
       "      <th>29</th>\n",
       "      <td>United States</td>\n",
       "      <td>2008</td>\n",
       "      <td>1</td>\n",
       "    </tr>\n",
       "    <tr>\n",
       "      <th>30</th>\n",
       "      <td>United States</td>\n",
       "      <td>2016</td>\n",
       "      <td>1</td>\n",
       "    </tr>\n",
       "    <tr>\n",
       "      <th>31</th>\n",
       "      <td>United Kingdom</td>\n",
       "      <td>2012</td>\n",
       "      <td>1</td>\n",
       "    </tr>\n",
       "    <tr>\n",
       "      <th>32</th>\n",
       "      <td>China</td>\n",
       "      <td>2018</td>\n",
       "      <td>1</td>\n",
       "    </tr>\n",
       "    <tr>\n",
       "      <th>33</th>\n",
       "      <td>United States</td>\n",
       "      <td>2012</td>\n",
       "      <td>1</td>\n",
       "    </tr>\n",
       "    <tr>\n",
       "      <th>34</th>\n",
       "      <td>United States</td>\n",
       "      <td>2016</td>\n",
       "      <td>1</td>\n",
       "    </tr>\n",
       "    <tr>\n",
       "      <th>35</th>\n",
       "      <td>United States</td>\n",
       "      <td>2013</td>\n",
       "      <td>1</td>\n",
       "    </tr>\n",
       "    <tr>\n",
       "      <th>37</th>\n",
       "      <td>United Kingdom</td>\n",
       "      <td>2016</td>\n",
       "      <td>1</td>\n",
       "    </tr>\n",
       "    <tr>\n",
       "      <th>39</th>\n",
       "      <td>United States</td>\n",
       "      <td>2009</td>\n",
       "      <td>1</td>\n",
       "    </tr>\n",
       "    <tr>\n",
       "      <th>42</th>\n",
       "      <td>United States</td>\n",
       "      <td>2011</td>\n",
       "      <td>1</td>\n",
       "    </tr>\n",
       "    <tr>\n",
       "      <th>43</th>\n",
       "      <td>United States</td>\n",
       "      <td>2015</td>\n",
       "      <td>1</td>\n",
       "    </tr>\n",
       "    <tr>\n",
       "      <th>44</th>\n",
       "      <td>Canada</td>\n",
       "      <td>2017</td>\n",
       "      <td>1</td>\n",
       "    </tr>\n",
       "    <tr>\n",
       "      <th>45</th>\n",
       "      <td>United Kingdom</td>\n",
       "      <td>2018</td>\n",
       "      <td>1</td>\n",
       "    </tr>\n",
       "    <tr>\n",
       "      <th>46</th>\n",
       "      <td>United States</td>\n",
       "      <td>2016</td>\n",
       "      <td>1</td>\n",
       "    </tr>\n",
       "    <tr>\n",
       "      <th>47</th>\n",
       "      <td>United Kingdom</td>\n",
       "      <td>2018</td>\n",
       "      <td>1</td>\n",
       "    </tr>\n",
       "    <tr>\n",
       "      <th>48</th>\n",
       "      <td>United Kingdom</td>\n",
       "      <td>2018</td>\n",
       "      <td>1</td>\n",
       "    </tr>\n",
       "    <tr>\n",
       "      <th>49</th>\n",
       "      <td>Canada</td>\n",
       "      <td>2016</td>\n",
       "      <td>1</td>\n",
       "    </tr>\n",
       "    <tr>\n",
       "      <th>50</th>\n",
       "      <td>United States</td>\n",
       "      <td>2019</td>\n",
       "      <td>1</td>\n",
       "    </tr>\n",
       "    <tr>\n",
       "      <th>51</th>\n",
       "      <td>France</td>\n",
       "      <td>2003</td>\n",
       "      <td>1</td>\n",
       "    </tr>\n",
       "    <tr>\n",
       "      <th>52</th>\n",
       "      <td>United States</td>\n",
       "      <td>2005</td>\n",
       "      <td>1</td>\n",
       "    </tr>\n",
       "    <tr>\n",
       "      <th>53</th>\n",
       "      <td>United States</td>\n",
       "      <td>2017</td>\n",
       "      <td>1</td>\n",
       "    </tr>\n",
       "    <tr>\n",
       "      <th>55</th>\n",
       "      <td>United States</td>\n",
       "      <td>2016</td>\n",
       "      <td>1</td>\n",
       "    </tr>\n",
       "    <tr>\n",
       "      <th>56</th>\n",
       "      <td>United States</td>\n",
       "      <td>2009</td>\n",
       "      <td>1</td>\n",
       "    </tr>\n",
       "    <tr>\n",
       "      <th>58</th>\n",
       "      <td>United States</td>\n",
       "      <td>2015</td>\n",
       "      <td>1</td>\n",
       "    </tr>\n",
       "    <tr>\n",
       "      <th>60</th>\n",
       "      <td>United States</td>\n",
       "      <td>2018</td>\n",
       "      <td>1</td>\n",
       "    </tr>\n",
       "    <tr>\n",
       "      <th>62</th>\n",
       "      <td>United States</td>\n",
       "      <td>2009</td>\n",
       "      <td>1</td>\n",
       "    </tr>\n",
       "    <tr>\n",
       "      <th>63</th>\n",
       "      <td>United States</td>\n",
       "      <td>2002</td>\n",
       "      <td>1</td>\n",
       "    </tr>\n",
       "    <tr>\n",
       "      <th>...</th>\n",
       "      <td>...</td>\n",
       "      <td>...</td>\n",
       "      <td>...</td>\n",
       "    </tr>\n",
       "    <tr>\n",
       "      <th>174</th>\n",
       "      <td>Canada</td>\n",
       "      <td>2019</td>\n",
       "      <td>1</td>\n",
       "    </tr>\n",
       "    <tr>\n",
       "      <th>175</th>\n",
       "      <td>France</td>\n",
       "      <td>2017</td>\n",
       "      <td>1</td>\n",
       "    </tr>\n",
       "    <tr>\n",
       "      <th>178</th>\n",
       "      <td>United States</td>\n",
       "      <td>2007</td>\n",
       "      <td>1</td>\n",
       "    </tr>\n",
       "    <tr>\n",
       "      <th>181</th>\n",
       "      <td>United Kingdom</td>\n",
       "      <td>2016</td>\n",
       "      <td>1</td>\n",
       "    </tr>\n",
       "    <tr>\n",
       "      <th>182</th>\n",
       "      <td>South Korea</td>\n",
       "      <td>2019</td>\n",
       "      <td>1</td>\n",
       "    </tr>\n",
       "    <tr>\n",
       "      <th>183</th>\n",
       "      <td>Canada</td>\n",
       "      <td>2017</td>\n",
       "      <td>1</td>\n",
       "    </tr>\n",
       "    <tr>\n",
       "      <th>184</th>\n",
       "      <td>United States</td>\n",
       "      <td>1990</td>\n",
       "      <td>1</td>\n",
       "    </tr>\n",
       "    <tr>\n",
       "      <th>185</th>\n",
       "      <td>United States</td>\n",
       "      <td>2011</td>\n",
       "      <td>1</td>\n",
       "    </tr>\n",
       "    <tr>\n",
       "      <th>186</th>\n",
       "      <td>United States</td>\n",
       "      <td>2015</td>\n",
       "      <td>1</td>\n",
       "    </tr>\n",
       "    <tr>\n",
       "      <th>187</th>\n",
       "      <td>Canada</td>\n",
       "      <td>2015</td>\n",
       "      <td>1</td>\n",
       "    </tr>\n",
       "    <tr>\n",
       "      <th>188</th>\n",
       "      <td>United Kingdom</td>\n",
       "      <td>2012</td>\n",
       "      <td>1</td>\n",
       "    </tr>\n",
       "    <tr>\n",
       "      <th>189</th>\n",
       "      <td>United Kingdom</td>\n",
       "      <td>2016</td>\n",
       "      <td>1</td>\n",
       "    </tr>\n",
       "    <tr>\n",
       "      <th>190</th>\n",
       "      <td>United States</td>\n",
       "      <td>2011</td>\n",
       "      <td>1</td>\n",
       "    </tr>\n",
       "    <tr>\n",
       "      <th>191</th>\n",
       "      <td>United States</td>\n",
       "      <td>2010</td>\n",
       "      <td>1</td>\n",
       "    </tr>\n",
       "    <tr>\n",
       "      <th>192</th>\n",
       "      <td>United States</td>\n",
       "      <td>2012</td>\n",
       "      <td>1</td>\n",
       "    </tr>\n",
       "    <tr>\n",
       "      <th>193</th>\n",
       "      <td>United Kingdom</td>\n",
       "      <td>2011</td>\n",
       "      <td>1</td>\n",
       "    </tr>\n",
       "    <tr>\n",
       "      <th>194</th>\n",
       "      <td>United States</td>\n",
       "      <td>2017</td>\n",
       "      <td>1</td>\n",
       "    </tr>\n",
       "    <tr>\n",
       "      <th>195</th>\n",
       "      <td>United States</td>\n",
       "      <td>2000</td>\n",
       "      <td>1</td>\n",
       "    </tr>\n",
       "    <tr>\n",
       "      <th>196</th>\n",
       "      <td>United States</td>\n",
       "      <td>2017</td>\n",
       "      <td>1</td>\n",
       "    </tr>\n",
       "    <tr>\n",
       "      <th>197</th>\n",
       "      <td>France</td>\n",
       "      <td>2015</td>\n",
       "      <td>1</td>\n",
       "    </tr>\n",
       "    <tr>\n",
       "      <th>199</th>\n",
       "      <td>United States</td>\n",
       "      <td>2016</td>\n",
       "      <td>1</td>\n",
       "    </tr>\n",
       "    <tr>\n",
       "      <th>200</th>\n",
       "      <td>Canada</td>\n",
       "      <td>2018</td>\n",
       "      <td>1</td>\n",
       "    </tr>\n",
       "    <tr>\n",
       "      <th>201</th>\n",
       "      <td>United States</td>\n",
       "      <td>2012</td>\n",
       "      <td>1</td>\n",
       "    </tr>\n",
       "    <tr>\n",
       "      <th>202</th>\n",
       "      <td>United States</td>\n",
       "      <td>2016</td>\n",
       "      <td>1</td>\n",
       "    </tr>\n",
       "    <tr>\n",
       "      <th>203</th>\n",
       "      <td>United Kingdom</td>\n",
       "      <td>2010</td>\n",
       "      <td>1</td>\n",
       "    </tr>\n",
       "    <tr>\n",
       "      <th>204</th>\n",
       "      <td>United Kingdom</td>\n",
       "      <td>2009</td>\n",
       "      <td>1</td>\n",
       "    </tr>\n",
       "    <tr>\n",
       "      <th>205</th>\n",
       "      <td>United States</td>\n",
       "      <td>2015</td>\n",
       "      <td>1</td>\n",
       "    </tr>\n",
       "    <tr>\n",
       "      <th>206</th>\n",
       "      <td>United States</td>\n",
       "      <td>2017</td>\n",
       "      <td>1</td>\n",
       "    </tr>\n",
       "    <tr>\n",
       "      <th>207</th>\n",
       "      <td>France</td>\n",
       "      <td>2016</td>\n",
       "      <td>1</td>\n",
       "    </tr>\n",
       "    <tr>\n",
       "      <th>208</th>\n",
       "      <td>United States</td>\n",
       "      <td>2014</td>\n",
       "      <td>1</td>\n",
       "    </tr>\n",
       "    <tr>\n",
       "      <th>209</th>\n",
       "      <td>United States</td>\n",
       "      <td>2016</td>\n",
       "      <td>1</td>\n",
       "    </tr>\n",
       "    <tr>\n",
       "      <th>210</th>\n",
       "      <td>United States</td>\n",
       "      <td>2014</td>\n",
       "      <td>1</td>\n",
       "    </tr>\n",
       "    <tr>\n",
       "      <th>211</th>\n",
       "      <td>United States</td>\n",
       "      <td>2015</td>\n",
       "      <td>1</td>\n",
       "    </tr>\n",
       "    <tr>\n",
       "      <th>212</th>\n",
       "      <td>United States</td>\n",
       "      <td>2009</td>\n",
       "      <td>1</td>\n",
       "    </tr>\n",
       "    <tr>\n",
       "      <th>213</th>\n",
       "      <td>United States</td>\n",
       "      <td>2016</td>\n",
       "      <td>1</td>\n",
       "    </tr>\n",
       "    <tr>\n",
       "      <th>214</th>\n",
       "      <td>United States</td>\n",
       "      <td>2015</td>\n",
       "      <td>1</td>\n",
       "    </tr>\n",
       "    <tr>\n",
       "      <th>215</th>\n",
       "      <td>United States</td>\n",
       "      <td>2015</td>\n",
       "      <td>1</td>\n",
       "    </tr>\n",
       "    <tr>\n",
       "      <th>216</th>\n",
       "      <td>United States</td>\n",
       "      <td>2016</td>\n",
       "      <td>1</td>\n",
       "    </tr>\n",
       "    <tr>\n",
       "      <th>217</th>\n",
       "      <td>Canada</td>\n",
       "      <td>2015</td>\n",
       "      <td>1</td>\n",
       "    </tr>\n",
       "    <tr>\n",
       "      <th>218</th>\n",
       "      <td>United States</td>\n",
       "      <td>2012</td>\n",
       "      <td>1</td>\n",
       "    </tr>\n",
       "    <tr>\n",
       "      <th>219</th>\n",
       "      <td>France</td>\n",
       "      <td>2010</td>\n",
       "      <td>1</td>\n",
       "    </tr>\n",
       "    <tr>\n",
       "      <th>221</th>\n",
       "      <td>France</td>\n",
       "      <td>2015</td>\n",
       "      <td>1</td>\n",
       "    </tr>\n",
       "    <tr>\n",
       "      <th>222</th>\n",
       "      <td>United States</td>\n",
       "      <td>2017</td>\n",
       "      <td>1</td>\n",
       "    </tr>\n",
       "    <tr>\n",
       "      <th>223</th>\n",
       "      <td>Canada</td>\n",
       "      <td>2015</td>\n",
       "      <td>1</td>\n",
       "    </tr>\n",
       "    <tr>\n",
       "      <th>224</th>\n",
       "      <td>United States</td>\n",
       "      <td>2018</td>\n",
       "      <td>1</td>\n",
       "    </tr>\n",
       "    <tr>\n",
       "      <th>225</th>\n",
       "      <td>United States</td>\n",
       "      <td>2016</td>\n",
       "      <td>1</td>\n",
       "    </tr>\n",
       "    <tr>\n",
       "      <th>226</th>\n",
       "      <td>China</td>\n",
       "      <td>2017</td>\n",
       "      <td>1</td>\n",
       "    </tr>\n",
       "    <tr>\n",
       "      <th>227</th>\n",
       "      <td>United States</td>\n",
       "      <td>2014</td>\n",
       "      <td>1</td>\n",
       "    </tr>\n",
       "    <tr>\n",
       "      <th>228</th>\n",
       "      <td>United States</td>\n",
       "      <td>2013</td>\n",
       "      <td>1</td>\n",
       "    </tr>\n",
       "    <tr>\n",
       "      <th>229</th>\n",
       "      <td>United States</td>\n",
       "      <td>2017</td>\n",
       "      <td>1</td>\n",
       "    </tr>\n",
       "  </tbody>\n",
       "</table>\n",
       "<p>196 rows × 3 columns</p>\n",
       "</div>"
      ],
      "text/plain": [
       "            Country  Year Founded  Count\n",
       "0       South Korea          2017      1\n",
       "1     United States          2013      1\n",
       "2     United States          2015      1\n",
       "3    United Kingdom          2014      1\n",
       "4    United Kingdom          2017      1\n",
       "5     United States          2012      1\n",
       "6     United States          2013      1\n",
       "7            France          2014      1\n",
       "9     United States          2017      1\n",
       "10    United States          2015      1\n",
       "11    United States          2017      1\n",
       "13   United Kingdom          2017      1\n",
       "14    United States          2017      1\n",
       "16    United States          2014      1\n",
       "18    United States          2018      1\n",
       "19   United Kingdom          2001      1\n",
       "20           Canada          2010      1\n",
       "22            China          2016      1\n",
       "23           France          2013      1\n",
       "24    United States          2018      1\n",
       "25    United States          2016      1\n",
       "27    United States          2019      1\n",
       "28    United States          2017      1\n",
       "29    United States          2008      1\n",
       "30    United States          2016      1\n",
       "31   United Kingdom          2012      1\n",
       "32            China          2018      1\n",
       "33    United States          2012      1\n",
       "34    United States          2016      1\n",
       "35    United States          2013      1\n",
       "37   United Kingdom          2016      1\n",
       "39    United States          2009      1\n",
       "42    United States          2011      1\n",
       "43    United States          2015      1\n",
       "44           Canada          2017      1\n",
       "45   United Kingdom          2018      1\n",
       "46    United States          2016      1\n",
       "47   United Kingdom          2018      1\n",
       "48   United Kingdom          2018      1\n",
       "49           Canada          2016      1\n",
       "50    United States          2019      1\n",
       "51           France          2003      1\n",
       "52    United States          2005      1\n",
       "53    United States          2017      1\n",
       "55    United States          2016      1\n",
       "56    United States          2009      1\n",
       "58    United States          2015      1\n",
       "60    United States          2018      1\n",
       "62    United States          2009      1\n",
       "63    United States          2002      1\n",
       "..              ...           ...    ...\n",
       "174          Canada          2019      1\n",
       "175          France          2017      1\n",
       "178   United States          2007      1\n",
       "181  United Kingdom          2016      1\n",
       "182     South Korea          2019      1\n",
       "183          Canada          2017      1\n",
       "184   United States          1990      1\n",
       "185   United States          2011      1\n",
       "186   United States          2015      1\n",
       "187          Canada          2015      1\n",
       "188  United Kingdom          2012      1\n",
       "189  United Kingdom          2016      1\n",
       "190   United States          2011      1\n",
       "191   United States          2010      1\n",
       "192   United States          2012      1\n",
       "193  United Kingdom          2011      1\n",
       "194   United States          2017      1\n",
       "195   United States          2000      1\n",
       "196   United States          2017      1\n",
       "197          France          2015      1\n",
       "199   United States          2016      1\n",
       "200          Canada          2018      1\n",
       "201   United States          2012      1\n",
       "202   United States          2016      1\n",
       "203  United Kingdom          2010      1\n",
       "204  United Kingdom          2009      1\n",
       "205   United States          2015      1\n",
       "206   United States          2017      1\n",
       "207          France          2016      1\n",
       "208   United States          2014      1\n",
       "209   United States          2016      1\n",
       "210   United States          2014      1\n",
       "211   United States          2015      1\n",
       "212   United States          2009      1\n",
       "213   United States          2016      1\n",
       "214   United States          2015      1\n",
       "215   United States          2015      1\n",
       "216   United States          2016      1\n",
       "217          Canada          2015      1\n",
       "218   United States          2012      1\n",
       "219          France          2010      1\n",
       "221          France          2015      1\n",
       "222   United States          2017      1\n",
       "223          Canada          2015      1\n",
       "224   United States          2018      1\n",
       "225   United States          2016      1\n",
       "226           China          2017      1\n",
       "227   United States          2014      1\n",
       "228   United States          2013      1\n",
       "229   United States          2017      1\n",
       "\n",
       "[196 rows x 3 columns]"
      ]
     },
     "execution_count": 99,
     "metadata": {},
     "output_type": "execute_result"
    }
   ],
   "source": [
    "cf2 = pd.DataFrame({'Country' : ais_dfig['Country'], 'Year Founded' : ais_dfig['founded']})\n",
    "cf2[\"Count\"] = 1\n",
    "cf2"
   ]
  },
  {
   "cell_type": "code",
   "execution_count": 80,
   "metadata": {},
   "outputs": [],
   "source": [
    "import seaborn as sns"
   ]
  },
  {
   "cell_type": "code",
   "execution_count": 95,
   "metadata": {},
   "outputs": [
    {
     "data": {
      "text/plain": [
       "<seaborn.axisgrid.FacetGrid at 0x11d5969d0>"
      ]
     },
     "execution_count": 95,
     "metadata": {},
     "output_type": "execute_result"
    },
    {
     "data": {
      "image/png": "[encoded data removed]",
      "text/plain": [
       "<Figure size 476.25x360 with 1 Axes>"
      ]
     },
     "metadata": {},
     "output_type": "display_data"
    }
   ],
   "source": [
    "sns.lmplot(\"Year Founded\", \"Count\", cf2, hue=\"Country\")"
   ]
  },
  {
   "cell_type": "markdown",
   "metadata": {},
   "source": [
    "Question: How many startsup where founded in each top 5 countries each year \n",
    "- step 1: filter df by values of column "
   ]
  },
  {
   "cell_type": "code",
   "execution_count": 131,
   "metadata": {
    "scrolled": false
   },
   "outputs": [
    {
     "data": {
      "text/html": [
       "<div>\n",
       "<style scoped>\n",
       "    .dataframe tbody tr th:only-of-type {\n",
       "        vertical-align: middle;\n",
       "    }\n",
       "\n",
       "    .dataframe tbody tr th {\n",
       "        vertical-align: top;\n",
       "    }\n",
       "\n",
       "    .dataframe thead th {\n",
       "        text-align: right;\n",
       "    }\n",
       "</style>\n",
       "<table border=\"1\" class=\"dataframe\">\n",
       "  <thead>\n",
       "    <tr style=\"text-align: right;\">\n",
       "      <th></th>\n",
       "      <th>0</th>\n",
       "      <th>1</th>\n",
       "    </tr>\n",
       "  </thead>\n",
       "  <tbody>\n",
       "    <tr>\n",
       "      <th>0</th>\n",
       "      <td>1990</td>\n",
       "      <td>184    United States\n",
       "Name: Country, dtype: object</td>\n",
       "    </tr>\n",
       "    <tr>\n",
       "      <th>1</th>\n",
       "      <td>1999</td>\n",
       "      <td>67      United States\n",
       "101    United Kingdom\n",
       "Na...</td>\n",
       "    </tr>\n",
       "    <tr>\n",
       "      <th>2</th>\n",
       "      <td>2000</td>\n",
       "      <td>195    United States\n",
       "Name: Country, dtype: object</td>\n",
       "    </tr>\n",
       "    <tr>\n",
       "      <th>3</th>\n",
       "      <td>2001</td>\n",
       "      <td>19    United Kingdom\n",
       "Name: Country, dtype: object</td>\n",
       "    </tr>\n",
       "    <tr>\n",
       "      <th>4</th>\n",
       "      <td>2002</td>\n",
       "      <td>63    United States\n",
       "Name: Country, dtype: object</td>\n",
       "    </tr>\n",
       "    <tr>\n",
       "      <th>5</th>\n",
       "      <td>2003</td>\n",
       "      <td>51             France\n",
       "155    United Kingdom\n",
       "Na...</td>\n",
       "    </tr>\n",
       "    <tr>\n",
       "      <th>6</th>\n",
       "      <td>2005</td>\n",
       "      <td>52    United States\n",
       "Name: Country, dtype: object</td>\n",
       "    </tr>\n",
       "    <tr>\n",
       "      <th>7</th>\n",
       "      <td>2006</td>\n",
       "      <td>90      United States\n",
       "158    United Kingdom\n",
       "Na...</td>\n",
       "    </tr>\n",
       "    <tr>\n",
       "      <th>8</th>\n",
       "      <td>2007</td>\n",
       "      <td>73            France\n",
       "178    United States\n",
       "Name...</td>\n",
       "    </tr>\n",
       "    <tr>\n",
       "      <th>9</th>\n",
       "      <td>2008</td>\n",
       "      <td>29     United States\n",
       "86     United States\n",
       "133 ...</td>\n",
       "    </tr>\n",
       "    <tr>\n",
       "      <th>10</th>\n",
       "      <td>2009</td>\n",
       "      <td>39      United States\n",
       "56      United States\n",
       "62...</td>\n",
       "    </tr>\n",
       "    <tr>\n",
       "      <th>11</th>\n",
       "      <td>2010</td>\n",
       "      <td>20             Canada\n",
       "191     United States\n",
       "20...</td>\n",
       "    </tr>\n",
       "    <tr>\n",
       "      <th>12</th>\n",
       "      <td>2011</td>\n",
       "      <td>42      United States\n",
       "80              China\n",
       "11...</td>\n",
       "    </tr>\n",
       "    <tr>\n",
       "      <th>13</th>\n",
       "      <td>2012</td>\n",
       "      <td>5       United States\n",
       "31     United Kingdom\n",
       "33...</td>\n",
       "    </tr>\n",
       "    <tr>\n",
       "      <th>14</th>\n",
       "      <td>2013</td>\n",
       "      <td>1       United States\n",
       "6       United States\n",
       "23...</td>\n",
       "    </tr>\n",
       "    <tr>\n",
       "      <th>15</th>\n",
       "      <td>2014</td>\n",
       "      <td>3      United Kingdom\n",
       "7              France\n",
       "16...</td>\n",
       "    </tr>\n",
       "    <tr>\n",
       "      <th>16</th>\n",
       "      <td>2015</td>\n",
       "      <td>2       United States\n",
       "10      United States\n",
       "43...</td>\n",
       "    </tr>\n",
       "    <tr>\n",
       "      <th>17</th>\n",
       "      <td>2016</td>\n",
       "      <td>22              China\n",
       "25      United States\n",
       "30...</td>\n",
       "    </tr>\n",
       "    <tr>\n",
       "      <th>18</th>\n",
       "      <td>2017</td>\n",
       "      <td>0         South Korea\n",
       "4      United Kingdom\n",
       "9 ...</td>\n",
       "    </tr>\n",
       "    <tr>\n",
       "      <th>19</th>\n",
       "      <td>2018</td>\n",
       "      <td>18      United States\n",
       "24      United States\n",
       "32...</td>\n",
       "    </tr>\n",
       "    <tr>\n",
       "      <th>20</th>\n",
       "      <td>2019</td>\n",
       "      <td>27     United States\n",
       "50     United States\n",
       "70  ...</td>\n",
       "    </tr>\n",
       "    <tr>\n",
       "      <th>21</th>\n",
       "      <td>2020</td>\n",
       "      <td>136    United States\n",
       "Name: Country, dtype: object</td>\n",
       "    </tr>\n",
       "  </tbody>\n",
       "</table>\n",
       "</div>"
      ],
      "text/plain": [
       "       0                                                  1\n",
       "0   1990  184    United States\n",
       "Name: Country, dtype: object\n",
       "1   1999  67      United States\n",
       "101    United Kingdom\n",
       "Na...\n",
       "2   2000  195    United States\n",
       "Name: Country, dtype: object\n",
       "3   2001  19    United Kingdom\n",
       "Name: Country, dtype: object\n",
       "4   2002   63    United States\n",
       "Name: Country, dtype: object\n",
       "5   2003  51             France\n",
       "155    United Kingdom\n",
       "Na...\n",
       "6   2005   52    United States\n",
       "Name: Country, dtype: object\n",
       "7   2006  90      United States\n",
       "158    United Kingdom\n",
       "Na...\n",
       "8   2007  73            France\n",
       "178    United States\n",
       "Name...\n",
       "9   2008  29     United States\n",
       "86     United States\n",
       "133 ...\n",
       "10  2009  39      United States\n",
       "56      United States\n",
       "62...\n",
       "11  2010  20             Canada\n",
       "191     United States\n",
       "20...\n",
       "12  2011  42      United States\n",
       "80              China\n",
       "11...\n",
       "13  2012  5       United States\n",
       "31     United Kingdom\n",
       "33...\n",
       "14  2013  1       United States\n",
       "6       United States\n",
       "23...\n",
       "15  2014  3      United Kingdom\n",
       "7              France\n",
       "16...\n",
       "16  2015  2       United States\n",
       "10      United States\n",
       "43...\n",
       "17  2016  22              China\n",
       "25      United States\n",
       "30...\n",
       "18  2017  0         South Korea\n",
       "4      United Kingdom\n",
       "9 ...\n",
       "19  2018  18      United States\n",
       "24      United States\n",
       "32...\n",
       "20  2019  27     United States\n",
       "50     United States\n",
       "70  ...\n",
       "21  2020  136    United States\n",
       "Name: Country, dtype: object"
      ]
     },
     "execution_count": 131,
     "metadata": {},
     "output_type": "execute_result"
    }
   ],
   "source": [
    "cf2.columns.tolist()\n",
    "pd.DataFrame(cf2.groupby('Year Founded')['Country'])"
   ]
  },
  {
   "cell_type": "code",
   "execution_count": 159,
   "metadata": {},
   "outputs": [
    {
     "name": "stdout",
     "output_type": "stream",
     "text": [
      "(126, 8)\n"
     ]
    },
    {
     "data": {
      "text/plain": [
       "<matplotlib.axes._subplots.AxesSubplot at 0x1a22a98190>"
      ]
     },
     "execution_count": 159,
     "metadata": {},
     "output_type": "execute_result"
    },
    {
     "data": {
      "image/png": "[encoded data removed]",
      "text/plain": [
       "<Figure size 432x288 with 1 Axes>"
      ]
     },
     "metadata": {},
     "output_type": "display_data"
    }
   ],
   "source": [
    "is_USA = ais_df['Country']=='United States'\n",
    "ais_us = ais_df[is_USA]\n",
    "print(ais_us.shape)\n",
    "ais_us.head()\n",
    "ais_us.founded.value_counts().sort_values(ascending=True).plot(kind='bar', color='b')"
   ]
  },
  {
   "cell_type": "code",
   "execution_count": 157,
   "metadata": {},
   "outputs": [
    {
     "name": "stdout",
     "output_type": "stream",
     "text": [
      "(15, 8)\n"
     ]
    },
    {
     "data": {
      "text/plain": [
       "<matplotlib.axes._subplots.AxesSubplot at 0x1a2285f910>"
      ]
     },
     "execution_count": 157,
     "metadata": {},
     "output_type": "execute_result"
    },
    {
     "data": {
      "image/png": "[encoded data removed]",
      "text/plain": [
       "<Figure size 432x288 with 1 Axes>"
      ]
     },
     "metadata": {},
     "output_type": "display_data"
    }
   ],
   "source": [
    "is_FR = ais_df['Country']=='France'\n",
    "ais_FR = ais_df[is_FR]\n",
    "print(ais_FR.shape)\n",
    "ais_FR.head()\n",
    "ais_FR.founded.value_counts().sort_values(ascending=True).plot(kind='bar', color='b')"
   ]
  },
  {
   "cell_type": "code",
   "execution_count": 134,
   "metadata": {},
   "outputs": [
    {
     "ename": "TypeError",
     "evalue": "'method' object is not subscriptable",
     "output_type": "error",
     "traceback": [
      "\u001b[0;31m---------------------------------------------------------------------------\u001b[0m",
      "\u001b[0;31mTypeError\u001b[0m                                 Traceback (most recent call last)",
      "\u001b[0;32m<ipython-input-134-f2220f76c58b>\u001b[0m in \u001b[0;36m<module>\u001b[0;34m\u001b[0m\n\u001b[0;32m----> 1\u001b[0;31m \u001b[0mpd\u001b[0m\u001b[0;34m.\u001b[0m\u001b[0mDataFrame\u001b[0m\u001b[0;34m(\u001b[0m\u001b[0mcf2\u001b[0m\u001b[0;34m.\u001b[0m\u001b[0mgroupby\u001b[0m\u001b[0;34m[\u001b[0m\u001b[0;34m'Country'\u001b[0m\u001b[0;34m]\u001b[0m\u001b[0;34m[\u001b[0m\u001b[0mais_df\u001b[0m\u001b[0;34m.\u001b[0m\u001b[0mfounded\u001b[0m\u001b[0;34m.\u001b[0m\u001b[0mvalue_counts\u001b[0m\u001b[0;34m(\u001b[0m\u001b[0;34m)\u001b[0m\u001b[0;34m]\u001b[0m\u001b[0;34m)\u001b[0m\u001b[0;34m\u001b[0m\u001b[0;34m\u001b[0m\u001b[0m\n\u001b[0m",
      "\u001b[0;31mTypeError\u001b[0m: 'method' object is not subscriptable"
     ]
    }
   ],
   "source": [
    "pd.DataFrame(cf2.groupby['Country'][ais_df.founded.value_counts()])"
   ]
  },
  {
   "cell_type": "code",
   "execution_count": null,
   "metadata": {},
   "outputs": [],
   "source": [
    "sns.lmplot('founded', 'ais_df.founded.value_counts()', hue=\"Country\", palette=\"Set1\")"
   ]
  },
  {
   "cell_type": "code",
   "execution_count": null,
   "metadata": {},
   "outputs": [],
   "source": [
    "test.columns.tolist()"
   ]
  },
  {
   "cell_type": "code",
   "execution_count": null,
   "metadata": {},
   "outputs": [],
   "source": [
    "test_fig = test.groupby('Country').filter(lambda x: x.shape[0] > 8)\n",
    "test_fig.groupby('Country')['therapeutic_area'].value_counts().sort_values(ascending=False).plot.bar()"
   ]
  },
  {
   "cell_type": "code",
   "execution_count": null,
   "metadata": {},
   "outputs": [],
   "source": [
    "test_fig.groupby('therapeutic_area')['therapeutic_area'].value_counts().sort_values(ascending=False).plot.bar()"
   ]
  },
  {
   "cell_type": "code",
   "execution_count": null,
   "metadata": {},
   "outputs": [],
   "source": []
  }
 ],
 "metadata": {
  "kernelspec": {
   "display_name": "Python 3",
   "language": "python",
   "name": "python3"
  },
  "language_info": {
   "codemirror_mode": {
    "name": "ipython",
    "version": 3
   },
   "file_extension": ".py",
   "mimetype": "text/x-python",
   "name": "python",
   "nbconvert_exporter": "python",
   "pygments_lexer": "ipython3",
   "version": "3.7.6"
  }
 },
 "nbformat": 4,
 "nbformat_minor": 4
}
