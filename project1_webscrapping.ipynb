{
 "cells": [
  {
   "cell_type": "markdown",
   "metadata": {},
   "source": [
    "# Project One - Webscrapping \n",
    "## AI Startups in Biotech\n",
    "\n",
    "- In what therapeutic area are they mostly in? \n",
    "- Have more AI startups been founded in recent years/has it peaked already? \n",
    "- What indication are they treating? \n",
    "- What stage are they in?"
   ]
  },
  {
   "cell_type": "code",
   "execution_count": 22,
   "metadata": {},
   "outputs": [],
   "source": [
    "#importing packages\n",
    "import pandas as pd\n",
    "import numpy as np\n",
    "from matplotlib import pyplot as plt\n",
    "plt.style.use('ggplot')"
   ]
  },
  {
   "cell_type": "code",
   "execution_count": 100,
   "metadata": {},
   "outputs": [],
   "source": [
    "pd.set_option('display.max_columns',None)\n",
    "pd.set_option('display.min_rows',0)\n",
    "pd.set_option('display.max_rows',100)"
   ]
  },
  {
   "cell_type": "code",
   "execution_count": 29,
   "metadata": {
    "scrolled": true
   },
   "outputs": [
    {
     "data": {
      "text/html": [
       "<div>\n",
       "<style scoped>\n",
       "    .dataframe tbody tr th:only-of-type {\n",
       "        vertical-align: middle;\n",
       "    }\n",
       "\n",
       "    .dataframe tbody tr th {\n",
       "        vertical-align: top;\n",
       "    }\n",
       "\n",
       "    .dataframe thead th {\n",
       "        text-align: right;\n",
       "    }\n",
       "</style>\n",
       "<table border=\"1\" class=\"dataframe\">\n",
       "  <thead>\n",
       "    <tr style=\"text-align: right;\">\n",
       "      <th></th>\n",
       "      <th>company</th>\n",
       "      <th>drug</th>\n",
       "      <th>indication</th>\n",
       "      <th>stage</th>\n",
       "      <th>therapeutic_area</th>\n",
       "    </tr>\n",
       "  </thead>\n",
       "  <tbody>\n",
       "    <tr>\n",
       "      <th>0</th>\n",
       "      <td>Company</td>\n",
       "      <td>Drug</td>\n",
       "      <td>Indication</td>\n",
       "      <td>NaN</td>\n",
       "      <td>Therapeutic area</td>\n",
       "    </tr>\n",
       "    <tr>\n",
       "      <th>1</th>\n",
       "      <td>Acurastem</td>\n",
       "      <td>AS - 1</td>\n",
       "      <td>Amyotrophic lateral sclerosis and frontotempor...</td>\n",
       "      <td>Phase 3</td>\n",
       "      <td>Neurology</td>\n",
       "    </tr>\n",
       "    <tr>\n",
       "      <th>2</th>\n",
       "      <td>Pharnext</td>\n",
       "      <td>PXT3003</td>\n",
       "      <td>Charcot-Marie-Tooth disease type 1A adults</td>\n",
       "      <td>Phase 3</td>\n",
       "      <td>Neurology</td>\n",
       "    </tr>\n",
       "    <tr>\n",
       "      <th>3</th>\n",
       "      <td>Sunovion</td>\n",
       "      <td>SEP-363856</td>\n",
       "      <td>Schizophrenia</td>\n",
       "      <td>Phase 3</td>\n",
       "      <td>Neurology</td>\n",
       "    </tr>\n",
       "    <tr>\n",
       "      <th>4</th>\n",
       "      <td>AI Therapeutics</td>\n",
       "      <td>LAM–002</td>\n",
       "      <td>B-cell non-Hodgkin lymphoma (atezolizumab comb...</td>\n",
       "      <td>Phase 2</td>\n",
       "      <td>Oncology</td>\n",
       "    </tr>\n",
       "  </tbody>\n",
       "</table>\n",
       "</div>"
      ],
      "text/plain": [
       "           company        drug  \\\n",
       "0          Company        Drug   \n",
       "1        Acurastem      AS - 1   \n",
       "2         Pharnext     PXT3003   \n",
       "3         Sunovion  SEP-363856   \n",
       "4  AI Therapeutics     LAM–002   \n",
       "\n",
       "                                          indication    stage  \\\n",
       "0                                         Indication      NaN   \n",
       "1  Amyotrophic lateral sclerosis and frontotempor...  Phase 3   \n",
       "2         Charcot-Marie-Tooth disease type 1A adults  Phase 3   \n",
       "3                                      Schizophrenia  Phase 3   \n",
       "4  B-cell non-Hodgkin lymphoma (atezolizumab comb...  Phase 2   \n",
       "\n",
       "   therapeutic_area  \n",
       "0  Therapeutic area  \n",
       "1         Neurology  \n",
       "2         Neurology  \n",
       "3         Neurology  \n",
       "4          Oncology  "
      ]
     },
     "execution_count": 29,
     "metadata": {},
     "output_type": "execute_result"
    }
   ],
   "source": [
    "aidd_df=pd.read_csv('aidd.csv')\n",
    "aidd_df.head()"
   ]
  },
  {
   "cell_type": "markdown",
   "metadata": {},
   "source": [
    "- Needed to drop first index since it was duplicated in the CVS file\n",
    "- Drop function is nonmutating so I assigned it to a new DataFrame"
   ]
  },
  {
   "cell_type": "code",
   "execution_count": 96,
   "metadata": {},
   "outputs": [
    {
     "data": {
      "text/html": [
       "<div>\n",
       "<style scoped>\n",
       "    .dataframe tbody tr th:only-of-type {\n",
       "        vertical-align: middle;\n",
       "    }\n",
       "\n",
       "    .dataframe tbody tr th {\n",
       "        vertical-align: top;\n",
       "    }\n",
       "\n",
       "    .dataframe thead th {\n",
       "        text-align: right;\n",
       "    }\n",
       "</style>\n",
       "<table border=\"1\" class=\"dataframe\">\n",
       "  <thead>\n",
       "    <tr style=\"text-align: right;\">\n",
       "      <th></th>\n",
       "      <th>company</th>\n",
       "      <th>drug</th>\n",
       "      <th>indication</th>\n",
       "      <th>stage</th>\n",
       "      <th>therapeutic_area</th>\n",
       "    </tr>\n",
       "  </thead>\n",
       "  <tbody>\n",
       "    <tr>\n",
       "      <th>1</th>\n",
       "      <td>Acurastem</td>\n",
       "      <td>AS - 1</td>\n",
       "      <td>Amyotrophic lateral sclerosis and frontotempor...</td>\n",
       "      <td>Phase 3</td>\n",
       "      <td>Neurology</td>\n",
       "    </tr>\n",
       "    <tr>\n",
       "      <th>2</th>\n",
       "      <td>Pharnext</td>\n",
       "      <td>PXT3003</td>\n",
       "      <td>Charcot-Marie-Tooth disease type 1A adults</td>\n",
       "      <td>Phase 3</td>\n",
       "      <td>Neurology</td>\n",
       "    </tr>\n",
       "    <tr>\n",
       "      <th>3</th>\n",
       "      <td>Sunovion</td>\n",
       "      <td>SEP-363856</td>\n",
       "      <td>Schizophrenia</td>\n",
       "      <td>Phase 3</td>\n",
       "      <td>Neurology</td>\n",
       "    </tr>\n",
       "    <tr>\n",
       "      <th>4</th>\n",
       "      <td>AI Therapeutics</td>\n",
       "      <td>LAM–002</td>\n",
       "      <td>B-cell non-Hodgkin lymphoma (atezolizumab comb...</td>\n",
       "      <td>Phase 2</td>\n",
       "      <td>Oncology</td>\n",
       "    </tr>\n",
       "    <tr>\n",
       "      <th>5</th>\n",
       "      <td>AI Therapeutics</td>\n",
       "      <td>LAM–002</td>\n",
       "      <td>B-cell non-Hodgkin lymphoma (rituximab combina...</td>\n",
       "      <td>Phase 2</td>\n",
       "      <td>Oncology</td>\n",
       "    </tr>\n",
       "  </tbody>\n",
       "</table>\n",
       "</div>"
      ],
      "text/plain": [
       "           company        drug  \\\n",
       "1        Acurastem      AS - 1   \n",
       "2         Pharnext     PXT3003   \n",
       "3         Sunovion  SEP-363856   \n",
       "4  AI Therapeutics     LAM–002   \n",
       "5  AI Therapeutics     LAM–002   \n",
       "\n",
       "                                          indication    stage therapeutic_area  \n",
       "1  Amyotrophic lateral sclerosis and frontotempor...  Phase 3        Neurology  \n",
       "2         Charcot-Marie-Tooth disease type 1A adults  Phase 3        Neurology  \n",
       "3                                      Schizophrenia  Phase 3        Neurology  \n",
       "4  B-cell non-Hodgkin lymphoma (atezolizumab comb...  Phase 2         Oncology  \n",
       "5  B-cell non-Hodgkin lymphoma (rituximab combina...  Phase 2         Oncology  "
      ]
     },
     "execution_count": 96,
     "metadata": {},
     "output_type": "execute_result"
    }
   ],
   "source": [
    "aidd_df2 = aidd_df.drop(aidd_df.index[[0]])\n",
    "aidd_df2.head()"
   ]
  },
  {
   "cell_type": "code",
   "execution_count": 112,
   "metadata": {},
   "outputs": [
    {
     "data": {
      "text/plain": [
       "<matplotlib.axes._subplots.AxesSubplot at 0x1a2906bfd0>"
      ]
     },
     "execution_count": 112,
     "metadata": {},
     "output_type": "execute_result"
    },
    {
     "data": {
      "image/png": "[encoded data removed]",
      "text/plain": [
       "<Figure size 432x288 with 1 Axes>"
      ]
     },
     "metadata": {},
     "output_type": "display_data"
    }
   ],
   "source": [
    "# ais_dfig = ais_df.groupby('Country').filter(lambda x: x.shape[0] > 5)\n",
    "# ais_dfig['Country'].value_counts().plot(kind='bar',y='count', color='b')\n",
    "\n",
    "ind_fig = aidd_df2.groupby('indication').filter(lambda x: x.shape[0] > 2)\n",
    "ind_fig['indication'].value_counts().plot(kind='bar',y='count', color='b')"
   ]
  },
  {
   "cell_type": "code",
   "execution_count": 7,
   "metadata": {},
   "outputs": [
    {
     "data": {
      "text/html": [
       "<div>\n",
       "<style scoped>\n",
       "    .dataframe tbody tr th:only-of-type {\n",
       "        vertical-align: middle;\n",
       "    }\n",
       "\n",
       "    .dataframe tbody tr th {\n",
       "        vertical-align: top;\n",
       "    }\n",
       "\n",
       "    .dataframe thead th {\n",
       "        text-align: right;\n",
       "    }\n",
       "</style>\n",
       "<table border=\"1\" class=\"dataframe\">\n",
       "  <thead>\n",
       "    <tr style=\"text-align: right;\">\n",
       "      <th></th>\n",
       "      <th>company</th>\n",
       "      <th>founded</th>\n",
       "      <th>headquarters</th>\n",
       "      <th>purpose</th>\n",
       "      <th>use</th>\n",
       "    </tr>\n",
       "  </thead>\n",
       "  <tbody>\n",
       "    <tr>\n",
       "      <th>0</th>\n",
       "      <td>3BIGS</td>\n",
       "      <td>2017</td>\n",
       "      <td>Suwon, Ch'ungch'ong-namdo, South Korea</td>\n",
       "      <td>Repurpose drugs for new indications</td>\n",
       "      <td>Discover relationships between diseases, targe...</td>\n",
       "    </tr>\n",
       "    <tr>\n",
       "      <th>1</th>\n",
       "      <td>Amplion</td>\n",
       "      <td>2013</td>\n",
       "      <td>Bend, Oregon, United States</td>\n",
       "      <td>Ensure an effective mix of biomarkers, establi...</td>\n",
       "      <td>Synthesize biomedical knowledge and biomarker ...</td>\n",
       "    </tr>\n",
       "    <tr>\n",
       "      <th>2</th>\n",
       "      <td>BioSymetrics</td>\n",
       "      <td>2015</td>\n",
       "      <td>New York, New York, United States</td>\n",
       "      <td>Integrate rapid analytics and machine learning...</td>\n",
       "      <td>Process raw phenotypic, imaging, drug, and gen...</td>\n",
       "    </tr>\n",
       "    <tr>\n",
       "      <th>3</th>\n",
       "      <td>Biorelate</td>\n",
       "      <td>2014</td>\n",
       "      <td>Oldham, Oldham, United Kingdom</td>\n",
       "      <td>Extract structured biological knowledge to pow...</td>\n",
       "      <td>Create curated databases from the analysis of ...</td>\n",
       "    </tr>\n",
       "    <tr>\n",
       "      <th>4</th>\n",
       "      <td>Causaly</td>\n",
       "      <td>2017</td>\n",
       "      <td>London, England, United Kingdom</td>\n",
       "      <td>Search for cause and effect relationships and ...</td>\n",
       "      <td>Read scientific articles and extract causal as...</td>\n",
       "    </tr>\n",
       "  </tbody>\n",
       "</table>\n",
       "</div>"
      ],
      "text/plain": [
       "        company  founded                            headquarters  \\\n",
       "0         3BIGS     2017  Suwon, Ch'ungch'ong-namdo, South Korea   \n",
       "1       Amplion     2013             Bend, Oregon, United States   \n",
       "2  BioSymetrics     2015       New York, New York, United States   \n",
       "3     Biorelate     2014          Oldham, Oldham, United Kingdom   \n",
       "4       Causaly     2017         London, England, United Kingdom   \n",
       "\n",
       "                                             purpose  \\\n",
       "0                Repurpose drugs for new indications   \n",
       "1  Ensure an effective mix of biomarkers, establi...   \n",
       "2  Integrate rapid analytics and machine learning...   \n",
       "3  Extract structured biological knowledge to pow...   \n",
       "4  Search for cause and effect relationships and ...   \n",
       "\n",
       "                                                 use  \n",
       "0  Discover relationships between diseases, targe...  \n",
       "1  Synthesize biomedical knowledge and biomarker ...  \n",
       "2  Process raw phenotypic, imaging, drug, and gen...  \n",
       "3  Create curated databases from the analysis of ...  \n",
       "4  Read scientific articles and extract causal as...  "
      ]
     },
     "execution_count": 7,
     "metadata": {},
     "output_type": "execute_result"
    }
   ],
   "source": [
    "ais_df = pd.read_csv('aistartups.csv')\n",
    "ais_df.head()"
   ]
  },
  {
   "cell_type": "code",
   "execution_count": 17,
   "metadata": {},
   "outputs": [
    {
     "data": {
      "text/plain": [
       "['company', 'founded', 'headquarters', 'purpose', 'use']"
      ]
     },
     "execution_count": 17,
     "metadata": {},
     "output_type": "execute_result"
    }
   ],
   "source": [
    "ais_df.columns.tolist()"
   ]
  },
  {
   "cell_type": "code",
   "execution_count": 24,
   "metadata": {},
   "outputs": [
    {
     "data": {
      "text/plain": [
       "['company', 'drug', 'indication', 'stage', 'therapeutic_area']"
      ]
     },
     "execution_count": 24,
     "metadata": {},
     "output_type": "execute_result"
    }
   ],
   "source": [
    "aidd_df2.columns.tolist()"
   ]
  },
  {
   "cell_type": "code",
   "execution_count": 18,
   "metadata": {},
   "outputs": [
    {
     "data": {
      "text/plain": [
       "(230, 5)"
      ]
     },
     "execution_count": 18,
     "metadata": {},
     "output_type": "execute_result"
    }
   ],
   "source": [
    "ais_df.shape"
   ]
  },
  {
   "cell_type": "code",
   "execution_count": 20,
   "metadata": {},
   "outputs": [
    {
     "data": {
      "text/plain": [
       "(262, 5)"
      ]
     },
     "execution_count": 20,
     "metadata": {},
     "output_type": "execute_result"
    }
   ],
   "source": [
    "aidd_df2.shape"
   ]
  },
  {
   "cell_type": "code",
   "execution_count": 21,
   "metadata": {},
   "outputs": [
    {
     "data": {
      "text/plain": [
       "2017    37\n",
       "2016    32\n",
       "2015    32\n",
       "2018    25\n",
       "2014    19\n",
       "2012    16\n",
       "2019    13\n",
       "2013    12\n",
       "2011    11\n",
       "2009     6\n",
       "2010     5\n",
       "2008     4\n",
       "2007     3\n",
       "2001     2\n",
       "2006     2\n",
       "1999     2\n",
       "2003     2\n",
       "2002     2\n",
       "2000     1\n",
       "2020     1\n",
       "2004     1\n",
       "2005     1\n",
       "1990     1\n",
       "Name: founded, dtype: int64"
      ]
     },
     "execution_count": 21,
     "metadata": {},
     "output_type": "execute_result"
    }
   ],
   "source": [
    "ais_df['founded'].value_counts()"
   ]
  },
  {
   "cell_type": "code",
   "execution_count": 107,
   "metadata": {},
   "outputs": [
    {
     "data": {
      "text/plain": [
       "0       [Suwon,  Ch'ungch'ong-namdo,  South Korea]\\n1                  [Bend,  Oregon,  United States]\\n2            [New York,  New York,  United States]\\n3               [Oldham,  Oldham,  United Kingdom]\\n4              [London,  England,  United Kingdom]\\n                          ...                     \\n225    [Cambridge,  Massachusetts,  United States]\\n226                   [Wangjing,  Beijing,  China]\\n227        [Middleton,  Wisconsin,  United States]\\n228          [New York,  New York,  United States]\\n229       [Boston,  Massachusetts,  United States]\\nName: headquarters, Length: 230, dtype: object    230\n",
       "Name: headquarters, dtype: int64"
      ]
     },
     "execution_count": 107,
     "metadata": {},
     "output_type": "execute_result"
    }
   ],
   "source": [
    "ais_df['headquarters'].value_counts()"
   ]
  },
  {
   "cell_type": "code",
   "execution_count": 23,
   "metadata": {},
   "outputs": [
    {
     "data": {
      "text/plain": [
       "Preclinical    114\n",
       "Discovery      107\n",
       "Phase 1         20\n",
       "Phase 2         18\n",
       "Phase 3          3\n",
       "Name: stage, dtype: int64"
      ]
     },
     "execution_count": 23,
     "metadata": {},
     "output_type": "execute_result"
    }
   ],
   "source": [
    "aidd_df2['stage'].value_counts()"
   ]
  },
  {
   "cell_type": "code",
   "execution_count": 31,
   "metadata": {},
   "outputs": [
    {
     "data": {
      "text/plain": [
       "Oncology                       108\n",
       "Neurology                       43\n",
       "Infectious disease              27\n",
       "Rare disease                    19\n",
       "Undisclosed                     15\n",
       "Metabolic disease               14\n",
       "Inflammation and immunology     11\n",
       "Cardiology                       7\n",
       "Fibrosis                         6\n",
       "Dermatology                      5\n",
       "Ophthalmology                    2\n",
       "Gastroenterology                 2\n",
       "Biogerontology                   1\n",
       "Respiratory                      1\n",
       "Hematology                       1\n",
       "Name: therapeutic_area, dtype: int64"
      ]
     },
     "execution_count": 31,
     "metadata": {},
     "output_type": "execute_result"
    }
   ],
   "source": [
    "aidd_df2['therapeutic_area'].value_counts()"
   ]
  },
  {
   "cell_type": "code",
   "execution_count": 116,
   "metadata": {
    "scrolled": true
   },
   "outputs": [
    {
     "data": {
      "text/html": [
       "<div>\n",
       "<style scoped>\n",
       "    .dataframe tbody tr th:only-of-type {\n",
       "        vertical-align: middle;\n",
       "    }\n",
       "\n",
       "    .dataframe tbody tr th {\n",
       "        vertical-align: top;\n",
       "    }\n",
       "\n",
       "    .dataframe thead th {\n",
       "        text-align: right;\n",
       "    }\n",
       "</style>\n",
       "<table border=\"1\" class=\"dataframe\">\n",
       "  <thead>\n",
       "    <tr style=\"text-align: right;\">\n",
       "      <th></th>\n",
       "      <th>company</th>\n",
       "      <th>founded</th>\n",
       "      <th>headquarters</th>\n",
       "      <th>purpose</th>\n",
       "      <th>use</th>\n",
       "    </tr>\n",
       "  </thead>\n",
       "  <tbody>\n",
       "    <tr>\n",
       "      <th>0</th>\n",
       "      <td>3BIGS</td>\n",
       "      <td>2017</td>\n",
       "      <td>Suwon, Ch'ungch'ong-namdo, South Korea</td>\n",
       "      <td>Repurpose drugs for new indications</td>\n",
       "      <td>Discover relationships between diseases, targe...</td>\n",
       "    </tr>\n",
       "    <tr>\n",
       "      <th>1</th>\n",
       "      <td>Amplion</td>\n",
       "      <td>2013</td>\n",
       "      <td>Bend, Oregon, United States</td>\n",
       "      <td>Ensure an effective mix of biomarkers, establi...</td>\n",
       "      <td>Synthesize biomedical knowledge and biomarker ...</td>\n",
       "    </tr>\n",
       "    <tr>\n",
       "      <th>2</th>\n",
       "      <td>BioSymetrics</td>\n",
       "      <td>2015</td>\n",
       "      <td>New York, New York, United States</td>\n",
       "      <td>Integrate rapid analytics and machine learning...</td>\n",
       "      <td>Process raw phenotypic, imaging, drug, and gen...</td>\n",
       "    </tr>\n",
       "    <tr>\n",
       "      <th>3</th>\n",
       "      <td>Biorelate</td>\n",
       "      <td>2014</td>\n",
       "      <td>Oldham, Oldham, United Kingdom</td>\n",
       "      <td>Extract structured biological knowledge to pow...</td>\n",
       "      <td>Create curated databases from the analysis of ...</td>\n",
       "    </tr>\n",
       "    <tr>\n",
       "      <th>4</th>\n",
       "      <td>Causaly</td>\n",
       "      <td>2017</td>\n",
       "      <td>London, England, United Kingdom</td>\n",
       "      <td>Search for cause and effect relationships and ...</td>\n",
       "      <td>Read scientific articles and extract causal as...</td>\n",
       "    </tr>\n",
       "  </tbody>\n",
       "</table>\n",
       "</div>"
      ],
      "text/plain": [
       "        company  founded                            headquarters  \\\n",
       "0         3BIGS     2017  Suwon, Ch'ungch'ong-namdo, South Korea   \n",
       "1       Amplion     2013             Bend, Oregon, United States   \n",
       "2  BioSymetrics     2015       New York, New York, United States   \n",
       "3     Biorelate     2014          Oldham, Oldham, United Kingdom   \n",
       "4       Causaly     2017         London, England, United Kingdom   \n",
       "\n",
       "                                             purpose  \\\n",
       "0                Repurpose drugs for new indications   \n",
       "1  Ensure an effective mix of biomarkers, establi...   \n",
       "2  Integrate rapid analytics and machine learning...   \n",
       "3  Extract structured biological knowledge to pow...   \n",
       "4  Search for cause and effect relationships and ...   \n",
       "\n",
       "                                                 use  \n",
       "0  Discover relationships between diseases, targe...  \n",
       "1  Synthesize biomedical knowledge and biomarker ...  \n",
       "2  Process raw phenotypic, imaging, drug, and gen...  \n",
       "3  Create curated databases from the analysis of ...  \n",
       "4  Read scientific articles and extract causal as...  "
      ]
     },
     "execution_count": 116,
     "metadata": {},
     "output_type": "execute_result"
    }
   ],
   "source": [
    "ais_df.head()"
   ]
  },
  {
   "cell_type": "code",
   "execution_count": 114,
   "metadata": {},
   "outputs": [
    {
     "data": {
      "text/plain": [
       "str"
      ]
     },
     "execution_count": 114,
     "metadata": {},
     "output_type": "execute_result"
    }
   ],
   "source": [
    "type(ais_df.head()['headquarters'][0])"
   ]
  },
  {
   "cell_type": "code",
   "execution_count": 117,
   "metadata": {},
   "outputs": [
    {
     "data": {
      "text/plain": [
       "\"Suwon, Ch'ungch'ong-namdo, South Korea\""
      ]
     },
     "execution_count": 117,
     "metadata": {},
     "output_type": "execute_result"
    }
   ],
   "source": [
    "ais_df.head()['headquarters'][0]"
   ]
  },
  {
   "cell_type": "code",
   "execution_count": 99,
   "metadata": {},
   "outputs": [
    {
     "data": {
      "text/plain": [
       "pandas.core.frame.DataFrame"
      ]
     },
     "execution_count": 99,
     "metadata": {},
     "output_type": "execute_result"
    }
   ],
   "source": [
    "type(ais_df)"
   ]
  },
  {
   "cell_type": "code",
   "execution_count": 36,
   "metadata": {},
   "outputs": [
    {
     "data": {
      "text/html": [
       "<div>\n",
       "<style scoped>\n",
       "    .dataframe tbody tr th:only-of-type {\n",
       "        vertical-align: middle;\n",
       "    }\n",
       "\n",
       "    .dataframe tbody tr th {\n",
       "        vertical-align: top;\n",
       "    }\n",
       "\n",
       "    .dataframe thead th {\n",
       "        text-align: right;\n",
       "    }\n",
       "</style>\n",
       "<table border=\"1\" class=\"dataframe\">\n",
       "  <thead>\n",
       "    <tr style=\"text-align: right;\">\n",
       "      <th></th>\n",
       "      <th>company</th>\n",
       "      <th>founded</th>\n",
       "      <th>headquarters</th>\n",
       "      <th>purpose</th>\n",
       "      <th>use</th>\n",
       "      <th>City</th>\n",
       "      <th>State</th>\n",
       "      <th>Country</th>\n",
       "    </tr>\n",
       "  </thead>\n",
       "  <tbody>\n",
       "    <tr>\n",
       "      <th>0</th>\n",
       "      <td>3BIGS</td>\n",
       "      <td>2017</td>\n",
       "      <td>Suwon, Ch'ungch'ong-namdo, South Korea</td>\n",
       "      <td>Repurpose drugs for new indications</td>\n",
       "      <td>Discover relationships between diseases, targe...</td>\n",
       "      <td>Suwon</td>\n",
       "      <td>Ch'ungch'ong-namdo</td>\n",
       "      <td>South Korea</td>\n",
       "    </tr>\n",
       "    <tr>\n",
       "      <th>1</th>\n",
       "      <td>Amplion</td>\n",
       "      <td>2013</td>\n",
       "      <td>Bend, Oregon, United States</td>\n",
       "      <td>Ensure an effective mix of biomarkers, establi...</td>\n",
       "      <td>Synthesize biomedical knowledge and biomarker ...</td>\n",
       "      <td>Bend</td>\n",
       "      <td>Oregon</td>\n",
       "      <td>United States</td>\n",
       "    </tr>\n",
       "    <tr>\n",
       "      <th>2</th>\n",
       "      <td>BioSymetrics</td>\n",
       "      <td>2015</td>\n",
       "      <td>New York, New York, United States</td>\n",
       "      <td>Integrate rapid analytics and machine learning...</td>\n",
       "      <td>Process raw phenotypic, imaging, drug, and gen...</td>\n",
       "      <td>New York</td>\n",
       "      <td>New York</td>\n",
       "      <td>United States</td>\n",
       "    </tr>\n",
       "    <tr>\n",
       "      <th>3</th>\n",
       "      <td>Biorelate</td>\n",
       "      <td>2014</td>\n",
       "      <td>Oldham, Oldham, United Kingdom</td>\n",
       "      <td>Extract structured biological knowledge to pow...</td>\n",
       "      <td>Create curated databases from the analysis of ...</td>\n",
       "      <td>Oldham</td>\n",
       "      <td>Oldham</td>\n",
       "      <td>United Kingdom</td>\n",
       "    </tr>\n",
       "    <tr>\n",
       "      <th>4</th>\n",
       "      <td>Causaly</td>\n",
       "      <td>2017</td>\n",
       "      <td>London, England, United Kingdom</td>\n",
       "      <td>Search for cause and effect relationships and ...</td>\n",
       "      <td>Read scientific articles and extract causal as...</td>\n",
       "      <td>London</td>\n",
       "      <td>England</td>\n",
       "      <td>United Kingdom</td>\n",
       "    </tr>\n",
       "  </tbody>\n",
       "</table>\n",
       "</div>"
      ],
      "text/plain": [
       "        company  founded                            headquarters  \\\n",
       "0         3BIGS     2017  Suwon, Ch'ungch'ong-namdo, South Korea   \n",
       "1       Amplion     2013             Bend, Oregon, United States   \n",
       "2  BioSymetrics     2015       New York, New York, United States   \n",
       "3     Biorelate     2014          Oldham, Oldham, United Kingdom   \n",
       "4       Causaly     2017         London, England, United Kingdom   \n",
       "\n",
       "                                             purpose  \\\n",
       "0                Repurpose drugs for new indications   \n",
       "1  Ensure an effective mix of biomarkers, establi...   \n",
       "2  Integrate rapid analytics and machine learning...   \n",
       "3  Extract structured biological knowledge to pow...   \n",
       "4  Search for cause and effect relationships and ...   \n",
       "\n",
       "                                                 use      City  \\\n",
       "0  Discover relationships between diseases, targe...     Suwon   \n",
       "1  Synthesize biomedical knowledge and biomarker ...      Bend   \n",
       "2  Process raw phenotypic, imaging, drug, and gen...  New York   \n",
       "3  Create curated databases from the analysis of ...    Oldham   \n",
       "4  Read scientific articles and extract causal as...    London   \n",
       "\n",
       "                State         Country  \n",
       "0  Ch'ungch'ong-namdo     South Korea  \n",
       "1              Oregon   United States  \n",
       "2            New York   United States  \n",
       "3              Oldham  United Kingdom  \n",
       "4             England  United Kingdom  "
      ]
     },
     "execution_count": 36,
     "metadata": {},
     "output_type": "execute_result"
    }
   ],
   "source": [
    "ais_df[['City',\"State\",'Country']] = ais_df['headquarters'].str.split(\", \",expand=True) \n",
    "\n",
    "ais_df.head()"
   ]
  },
  {
   "cell_type": "code",
   "execution_count": 122,
   "metadata": {},
   "outputs": [
    {
     "data": {
      "text/html": [
       "<div>\n",
       "<style scoped>\n",
       "    .dataframe tbody tr th:only-of-type {\n",
       "        vertical-align: middle;\n",
       "    }\n",
       "\n",
       "    .dataframe tbody tr th {\n",
       "        vertical-align: top;\n",
       "    }\n",
       "\n",
       "    .dataframe thead th {\n",
       "        text-align: right;\n",
       "    }\n",
       "</style>\n",
       "<table border=\"1\" class=\"dataframe\">\n",
       "  <thead>\n",
       "    <tr style=\"text-align: right;\">\n",
       "      <th></th>\n",
       "      <th>company</th>\n",
       "      <th>drug</th>\n",
       "      <th>indication</th>\n",
       "      <th>stage</th>\n",
       "      <th>therapeutic_area</th>\n",
       "    </tr>\n",
       "  </thead>\n",
       "  <tbody>\n",
       "    <tr>\n",
       "      <th>1</th>\n",
       "      <td>Acurastem</td>\n",
       "      <td>AS - 1</td>\n",
       "      <td>Amyotrophic lateral sclerosis and frontotempor...</td>\n",
       "      <td>Phase 3</td>\n",
       "      <td>Neurology</td>\n",
       "    </tr>\n",
       "    <tr>\n",
       "      <th>2</th>\n",
       "      <td>Pharnext</td>\n",
       "      <td>PXT3003</td>\n",
       "      <td>Charcot-Marie-Tooth disease type 1A adults</td>\n",
       "      <td>Phase 3</td>\n",
       "      <td>Neurology</td>\n",
       "    </tr>\n",
       "    <tr>\n",
       "      <th>3</th>\n",
       "      <td>Sunovion</td>\n",
       "      <td>SEP-363856</td>\n",
       "      <td>Schizophrenia</td>\n",
       "      <td>Phase 3</td>\n",
       "      <td>Neurology</td>\n",
       "    </tr>\n",
       "    <tr>\n",
       "      <th>4</th>\n",
       "      <td>AI Therapeutics</td>\n",
       "      <td>LAM–002</td>\n",
       "      <td>B-cell non-Hodgkin lymphoma (atezolizumab comb...</td>\n",
       "      <td>Phase 2</td>\n",
       "      <td>Oncology</td>\n",
       "    </tr>\n",
       "    <tr>\n",
       "      <th>5</th>\n",
       "      <td>AI Therapeutics</td>\n",
       "      <td>LAM–002</td>\n",
       "      <td>B-cell non-Hodgkin lymphoma (rituximab combina...</td>\n",
       "      <td>Phase 2</td>\n",
       "      <td>Oncology</td>\n",
       "    </tr>\n",
       "  </tbody>\n",
       "</table>\n",
       "</div>"
      ],
      "text/plain": [
       "           company        drug  \\\n",
       "1        Acurastem      AS - 1   \n",
       "2         Pharnext     PXT3003   \n",
       "3         Sunovion  SEP-363856   \n",
       "4  AI Therapeutics     LAM–002   \n",
       "5  AI Therapeutics     LAM–002   \n",
       "\n",
       "                                          indication    stage therapeutic_area  \n",
       "1  Amyotrophic lateral sclerosis and frontotempor...  Phase 3        Neurology  \n",
       "2         Charcot-Marie-Tooth disease type 1A adults  Phase 3        Neurology  \n",
       "3                                      Schizophrenia  Phase 3        Neurology  \n",
       "4  B-cell non-Hodgkin lymphoma (atezolizumab comb...  Phase 2         Oncology  \n",
       "5  B-cell non-Hodgkin lymphoma (rituximab combina...  Phase 2         Oncology  "
      ]
     },
     "execution_count": 122,
     "metadata": {},
     "output_type": "execute_result"
    }
   ],
   "source": [
    "aidd_df2.head()"
   ]
  },
  {
   "cell_type": "code",
   "execution_count": 37,
   "metadata": {},
   "outputs": [
    {
     "data": {
      "text/plain": [
       "261"
      ]
     },
     "execution_count": 37,
     "metadata": {},
     "output_type": "execute_result"
    }
   ],
   "source": [
    "test = pd.merge(ais_df, aidd_df2, on = 'company')\n",
    "test.shape[0]"
   ]
  },
  {
   "cell_type": "code",
   "execution_count": 34,
   "metadata": {},
   "outputs": [
    {
     "data": {
      "text/plain": [
       "256    Schrödinger\n",
       "257    Schrödinger\n",
       "258    Schrödinger\n",
       "259    Schrödinger\n",
       "260    Schrödinger\n",
       "Name: company, dtype: object"
      ]
     },
     "execution_count": 34,
     "metadata": {},
     "output_type": "execute_result"
    }
   ],
   "source": [
    "test.tail()['company']"
   ]
  },
  {
   "cell_type": "code",
   "execution_count": 38,
   "metadata": {},
   "outputs": [
    {
     "data": {
      "text/plain": [
       "0"
      ]
     },
     "execution_count": 38,
     "metadata": {},
     "output_type": "execute_result"
    }
   ],
   "source": [
    "test['City'].isnull().values.sum()"
   ]
  },
  {
   "cell_type": "code",
   "execution_count": 39,
   "metadata": {},
   "outputs": [
    {
     "data": {
      "text/plain": [
       "0        Acurastem\n",
       "1        Acurastem\n",
       "2        Acurastem\n",
       "3        Acurastem\n",
       "4        Acurastem\n",
       "          ...     \n",
       "256    Schrödinger\n",
       "257    Schrödinger\n",
       "258    Schrödinger\n",
       "259    Schrödinger\n",
       "260    Schrödinger\n",
       "Name: company, Length: 261, dtype: object"
      ]
     },
     "execution_count": 39,
     "metadata": {},
     "output_type": "execute_result"
    }
   ],
   "source": [
    "test['company']"
   ]
  },
  {
   "cell_type": "code",
   "execution_count": 40,
   "metadata": {},
   "outputs": [
    {
     "data": {
      "text/plain": [
       "230"
      ]
     },
     "execution_count": 40,
     "metadata": {},
     "output_type": "execute_result"
    }
   ],
   "source": [
    "len(ais_df.company.unique())\n",
    "# unique, counts = np.unique(ais_df, return_counts=True)\n",
    "# dict(zip(unique, counts))\n",
    "# ais_df.company.unique()"
   ]
  },
  {
   "cell_type": "code",
   "execution_count": 9,
   "metadata": {},
   "outputs": [
    {
     "data": {
      "text/plain": [
       "35"
      ]
     },
     "execution_count": 9,
     "metadata": {},
     "output_type": "execute_result"
    }
   ],
   "source": [
    "len(aidd_df2.company.unique())"
   ]
  },
  {
   "cell_type": "code",
   "execution_count": 10,
   "metadata": {},
   "outputs": [
    {
     "data": {
      "text/plain": [
       "117"
      ]
     },
     "execution_count": 10,
     "metadata": {},
     "output_type": "execute_result"
    }
   ],
   "source": [
    "len(aidd_df2.drug.unique())"
   ]
  },
  {
   "cell_type": "code",
   "execution_count": 153,
   "metadata": {},
   "outputs": [
    {
     "data": {
      "text/plain": [
       "array(['Acurastem', 'Pharnext', 'Sunovion', 'AI Therapeutics', 'Berg',\n",
       "       'BioXcel Therapeutics', 'BlackThorn Therapeutics', 'Globavir',\n",
       "       'Lantern Pharma', 'SOM Biotech', 'Adagene',\n",
       "       'Cotinga Pharmaceuticals', 'Evaxion Biotech', 'Exscientia',\n",
       "       'Gritstone Oncology', 'Pharos iBT', 'Recursion Pharmaceuticals',\n",
       "       'Vaxine', 'Alphanosos', 'Auransa', 'Biovista', 'CaroCure',\n",
       "       'Cloud Pharmaceuticals', 'Collaborations Pharma', 'Coral Genomics',\n",
       "       'Deep Genomics', 'Healx', 'Neon Therapeutics', 'Reverie Labs',\n",
       "       'Standigm', 'TwoXAR', 'A2A Pharmaceuticals', 'Schrödinger',\n",
       "       'Sirenas', 'X-37'], dtype=object)"
      ]
     },
     "execution_count": 153,
     "metadata": {},
     "output_type": "execute_result"
    }
   ],
   "source": [
    "aidd_df2.company.unique()"
   ]
  },
  {
   "cell_type": "code",
   "execution_count": 41,
   "metadata": {},
   "outputs": [
    {
     "data": {
      "text/plain": [
       "array(['Acurastem', 'BioXcel Therapeutics', 'Biovista', 'Healx',\n",
       "       'Lantern Pharma', 'Pharnext', 'Recursion Pharmaceuticals',\n",
       "       'A2A Pharmaceuticals', 'AI Therapeutics', 'Adagene', 'Alphanosos',\n",
       "       'Auransa', 'Berg', 'BlackThorn Therapeutics', 'CaroCure',\n",
       "       'Cloud Pharmaceuticals', 'Collaborations Pharma',\n",
       "       'Cotinga Pharmaceuticals', 'Deep Genomics', 'Evaxion Biotech',\n",
       "       'Exscientia', 'Globavir', 'Gritstone Oncology',\n",
       "       'Neon Therapeutics', 'Pharos iBT', 'SOM Biotech', 'Sirenas',\n",
       "       'Standigm', 'TwoXAR', 'Vaxine', 'X-37', 'Coral Genomics',\n",
       "       'Reverie Labs', 'Schrödinger'], dtype=object)"
      ]
     },
     "execution_count": 41,
     "metadata": {},
     "output_type": "execute_result"
    }
   ],
   "source": [
    "test.company.unique()"
   ]
  },
  {
   "cell_type": "code",
   "execution_count": 42,
   "metadata": {},
   "outputs": [
    {
     "data": {
      "text/plain": [
       "34"
      ]
     },
     "execution_count": 42,
     "metadata": {},
     "output_type": "execute_result"
    }
   ],
   "source": [
    "len(test.company.unique())"
   ]
  },
  {
   "cell_type": "code",
   "execution_count": 11,
   "metadata": {},
   "outputs": [
    {
     "data": {
      "text/plain": [
       "1    Neurology\n",
       "2    Neurology\n",
       "3    Neurology\n",
       "4     Oncology\n",
       "5     Oncology\n",
       "Name: therapeutic_area, dtype: object"
      ]
     },
     "execution_count": 11,
     "metadata": {},
     "output_type": "execute_result"
    }
   ],
   "source": [
    "aidd_df2.head()['therapeutic_area']"
   ]
  },
  {
   "cell_type": "code",
   "execution_count": 163,
   "metadata": {},
   "outputs": [
    {
     "data": {
      "text/plain": [
       "['company', 'drug', 'indication', 'stage', 'therapeutic_area']"
      ]
     },
     "execution_count": 163,
     "metadata": {},
     "output_type": "execute_result"
    }
   ],
   "source": [
    "aidd_df2.columns.tolist()"
   ]
  },
  {
   "cell_type": "code",
   "execution_count": 164,
   "metadata": {},
   "outputs": [
    {
     "data": {
      "text/plain": [
       "['company',\n",
       " 'founded',\n",
       " 'headquarters',\n",
       " 'purpose',\n",
       " 'use',\n",
       " 'City',\n",
       " 'State',\n",
       " 'Country']"
      ]
     },
     "execution_count": 164,
     "metadata": {},
     "output_type": "execute_result"
    }
   ],
   "source": [
    "ais_df.columns.tolist()"
   ]
  },
  {
   "cell_type": "code",
   "execution_count": 165,
   "metadata": {},
   "outputs": [
    {
     "data": {
      "text/plain": [
       "['company',\n",
       " 'founded',\n",
       " 'headquarters',\n",
       " 'purpose',\n",
       " 'use',\n",
       " 'City',\n",
       " 'State',\n",
       " 'Country',\n",
       " 'drug',\n",
       " 'indication',\n",
       " 'stage',\n",
       " 'therapeutic_area']"
      ]
     },
     "execution_count": 165,
     "metadata": {},
     "output_type": "execute_result"
    }
   ],
   "source": [
    "test.columns.tolist()"
   ]
  },
  {
   "cell_type": "code",
   "execution_count": 167,
   "metadata": {},
   "outputs": [
    {
     "data": {
      "text/plain": [
       "'Amyotrophic lateral sclerosis and frontotemporal degeneration'"
      ]
     },
     "execution_count": 167,
     "metadata": {},
     "output_type": "execute_result"
    }
   ],
   "source": [
    "aidd_df2.head()['indication'][1]"
   ]
  },
  {
   "cell_type": "code",
   "execution_count": 170,
   "metadata": {},
   "outputs": [
    {
     "data": {
      "text/plain": [
       "'Ensure an effective mix of biomarkers, establish differentiation, recruit the right patients, and identify the best companion diagnostic opportunities'"
      ]
     },
     "execution_count": 170,
     "metadata": {},
     "output_type": "execute_result"
    }
   ],
   "source": [
    "ais_df.head()['purpose'][1]"
   ]
  },
  {
   "cell_type": "code",
   "execution_count": 12,
   "metadata": {},
   "outputs": [
    {
     "data": {
      "text/plain": [
       "Preclinical    114\n",
       "Discovery      107\n",
       "Phase 1         20\n",
       "Phase 2         18\n",
       "Phase 3          3\n",
       "Name: stage, dtype: int64"
      ]
     },
     "execution_count": 12,
     "metadata": {},
     "output_type": "execute_result"
    }
   ],
   "source": [
    "aidd_df2['stage'].value_counts()"
   ]
  },
  {
   "cell_type": "code",
   "execution_count": 48,
   "metadata": {},
   "outputs": [
    {
     "data": {
      "text/plain": [
       "<matplotlib.axes._subplots.AxesSubplot at 0x1247c4c50>"
      ]
     },
     "execution_count": 48,
     "metadata": {},
     "output_type": "execute_result"
    },
    {
     "data": {
      "image/png": "[encoded data removed]",
      "text/plain": [
       "<Figure size 432x288 with 1 Axes>"
      ]
     },
     "metadata": {},
     "output_type": "display_data"
    }
   ],
   "source": [
    "aidd_df2['therapeutic_area'].value_counts().plot(kind='bar',y='count', color='b')"
   ]
  },
  {
   "cell_type": "code",
   "execution_count": 49,
   "metadata": {},
   "outputs": [
    {
     "data": {
      "text/plain": [
       "<matplotlib.axes._subplots.AxesSubplot at 0x123089410>"
      ]
     },
     "execution_count": 49,
     "metadata": {},
     "output_type": "execute_result"
    },
    {
     "data": {
      "image/png": "[encoded data removed]",
      "text/plain": [
       "<Figure size 432x288 with 1 Axes>"
      ]
     },
     "metadata": {},
     "output_type": "display_data"
    }
   ],
   "source": [
    "aidd_df2['stage'].value_counts().plot(kind='bar',y='count', color='b')"
   ]
  },
  {
   "cell_type": "code",
   "execution_count": 53,
   "metadata": {},
   "outputs": [
    {
     "data": {
      "text/plain": [
       "<matplotlib.axes._subplots.AxesSubplot at 0x1248c8b50>"
      ]
     },
     "execution_count": 53,
     "metadata": {},
     "output_type": "execute_result"
    },
    {
     "data": {
      "image/png": "[encoded data removed]",
      "text/plain": [
       "<Figure size 432x288 with 1 Axes>"
      ]
     },
     "metadata": {},
     "output_type": "display_data"
    }
   ],
   "source": [
    "ais_dfig = ais_df.groupby('Country').filter(lambda x: x.shape[0] > 5)\n",
    "ais_dfig['Country'].value_counts().plot(kind='bar',y='count', color='b')"
   ]
  },
  {
   "cell_type": "code",
   "execution_count": 54,
   "metadata": {},
   "outputs": [
    {
     "data": {
      "text/plain": [
       "<matplotlib.axes._subplots.AxesSubplot at 0x1248b4d10>"
      ]
     },
     "execution_count": 54,
     "metadata": {},
     "output_type": "execute_result"
    },
    {
     "data": {
      "image/png": "[encoded data removed]",
      "text/plain": [
       "<Figure size 432x288 with 1 Axes>"
      ]
     },
     "metadata": {},
     "output_type": "display_data"
    }
   ],
   "source": [
    "ais_df['founded'].value_counts().plot(kind='bar',y='count', color='b')"
   ]
  },
  {
   "cell_type": "code",
   "execution_count": 77,
   "metadata": {},
   "outputs": [
    {
     "ename": "TypeError",
     "evalue": "filter() missing 1 required positional argument: 'func'",
     "output_type": "error",
     "traceback": [
      "\u001b[0;31m---------------------------------------------------------------------------\u001b[0m",
      "\u001b[0;31mTypeError\u001b[0m                                 Traceback (most recent call last)",
      "\u001b[0;32m<ipython-input-77-627727d1ddc6>\u001b[0m in \u001b[0;36m<module>\u001b[0;34m\u001b[0m\n\u001b[0;32m----> 1\u001b[0;31m \u001b[0mais_df\u001b[0m\u001b[0;34m.\u001b[0m\u001b[0mgroupby\u001b[0m\u001b[0;34m(\u001b[0m\u001b[0;34m'Country'\u001b[0m\u001b[0;34m)\u001b[0m\u001b[0;34m.\u001b[0m\u001b[0mfilter\u001b[0m\u001b[0;34m(\u001b[0m\u001b[0mlike\u001b[0m \u001b[0;34m=\u001b[0m \u001b[0;34m'United States'\u001b[0m\u001b[0;34m,\u001b[0m \u001b[0maxis\u001b[0m\u001b[0;34m=\u001b[0m\u001b[0;36m0\u001b[0m\u001b[0;34m)\u001b[0m\u001b[0;34m\u001b[0m\u001b[0;34m\u001b[0m\u001b[0m\n\u001b[0m",
      "\u001b[0;31mTypeError\u001b[0m: filter() missing 1 required positional argument: 'func'"
     ]
    }
   ],
   "source": [
    "ais_df.groupby('Country').filter(like = 'United States', axis=0)"
   ]
  },
  {
   "cell_type": "code",
   "execution_count": 70,
   "metadata": {},
   "outputs": [],
   "source": [
    "ais_df.filter?"
   ]
  },
  {
   "cell_type": "code",
   "execution_count": 85,
   "metadata": {},
   "outputs": [],
   "source": [
    "import seaborn as sns"
   ]
  },
  {
   "cell_type": "code",
   "execution_count": 83,
   "metadata": {},
   "outputs": [
    {
     "data": {
      "text/html": [
       "<div>\n",
       "<style scoped>\n",
       "    .dataframe tbody tr th:only-of-type {\n",
       "        vertical-align: middle;\n",
       "    }\n",
       "\n",
       "    .dataframe tbody tr th {\n",
       "        vertical-align: top;\n",
       "    }\n",
       "\n",
       "    .dataframe thead th {\n",
       "        text-align: right;\n",
       "    }\n",
       "</style>\n",
       "<table border=\"1\" class=\"dataframe\">\n",
       "  <thead>\n",
       "    <tr style=\"text-align: right;\">\n",
       "      <th></th>\n",
       "      <th></th>\n",
       "      <th>founded</th>\n",
       "    </tr>\n",
       "    <tr>\n",
       "      <th>Country</th>\n",
       "      <th>founded</th>\n",
       "      <th></th>\n",
       "    </tr>\n",
       "  </thead>\n",
       "  <tbody>\n",
       "    <tr>\n",
       "      <th rowspan=\"9\" valign=\"top\">Canada</th>\n",
       "      <th>2015</th>\n",
       "      <td>4</td>\n",
       "    </tr>\n",
       "    <tr>\n",
       "      <th>2017</th>\n",
       "      <td>3</td>\n",
       "    </tr>\n",
       "    <tr>\n",
       "      <th>2018</th>\n",
       "      <td>2</td>\n",
       "    </tr>\n",
       "    <tr>\n",
       "      <th>2019</th>\n",
       "      <td>2</td>\n",
       "    </tr>\n",
       "    <tr>\n",
       "      <th>2010</th>\n",
       "      <td>1</td>\n",
       "    </tr>\n",
       "    <tr>\n",
       "      <th>2012</th>\n",
       "      <td>1</td>\n",
       "    </tr>\n",
       "    <tr>\n",
       "      <th>2013</th>\n",
       "      <td>1</td>\n",
       "    </tr>\n",
       "    <tr>\n",
       "      <th>2014</th>\n",
       "      <td>1</td>\n",
       "    </tr>\n",
       "    <tr>\n",
       "      <th>2016</th>\n",
       "      <td>1</td>\n",
       "    </tr>\n",
       "    <tr>\n",
       "      <th rowspan=\"6\" valign=\"top\">China</th>\n",
       "      <th>2017</th>\n",
       "      <td>2</td>\n",
       "    </tr>\n",
       "    <tr>\n",
       "      <th>2011</th>\n",
       "      <td>1</td>\n",
       "    </tr>\n",
       "    <tr>\n",
       "      <th>2015</th>\n",
       "      <td>1</td>\n",
       "    </tr>\n",
       "    <tr>\n",
       "      <th>2016</th>\n",
       "      <td>1</td>\n",
       "    </tr>\n",
       "    <tr>\n",
       "      <th>2018</th>\n",
       "      <td>1</td>\n",
       "    </tr>\n",
       "    <tr>\n",
       "      <th>2019</th>\n",
       "      <td>1</td>\n",
       "    </tr>\n",
       "    <tr>\n",
       "      <th rowspan=\"10\" valign=\"top\">France</th>\n",
       "      <th>2013</th>\n",
       "      <td>2</td>\n",
       "    </tr>\n",
       "    <tr>\n",
       "      <th>2014</th>\n",
       "      <td>2</td>\n",
       "    </tr>\n",
       "    <tr>\n",
       "      <th>2015</th>\n",
       "      <td>2</td>\n",
       "    </tr>\n",
       "    <tr>\n",
       "      <th>2016</th>\n",
       "      <td>2</td>\n",
       "    </tr>\n",
       "    <tr>\n",
       "      <th>2019</th>\n",
       "      <td>2</td>\n",
       "    </tr>\n",
       "    <tr>\n",
       "      <th>2003</th>\n",
       "      <td>1</td>\n",
       "    </tr>\n",
       "    <tr>\n",
       "      <th>2007</th>\n",
       "      <td>1</td>\n",
       "    </tr>\n",
       "    <tr>\n",
       "      <th>2010</th>\n",
       "      <td>1</td>\n",
       "    </tr>\n",
       "    <tr>\n",
       "      <th>2011</th>\n",
       "      <td>1</td>\n",
       "    </tr>\n",
       "    <tr>\n",
       "      <th>2017</th>\n",
       "      <td>1</td>\n",
       "    </tr>\n",
       "    <tr>\n",
       "      <th rowspan=\"5\" valign=\"top\">South Korea</th>\n",
       "      <th>2015</th>\n",
       "      <td>2</td>\n",
       "    </tr>\n",
       "    <tr>\n",
       "      <th>2016</th>\n",
       "      <td>1</td>\n",
       "    </tr>\n",
       "    <tr>\n",
       "      <th>2017</th>\n",
       "      <td>1</td>\n",
       "    </tr>\n",
       "    <tr>\n",
       "      <th>2018</th>\n",
       "      <td>1</td>\n",
       "    </tr>\n",
       "    <tr>\n",
       "      <th>2019</th>\n",
       "      <td>1</td>\n",
       "    </tr>\n",
       "    <tr>\n",
       "      <th rowspan=\"14\" valign=\"top\">United Kingdom</th>\n",
       "      <th>2012</th>\n",
       "      <td>5</td>\n",
       "    </tr>\n",
       "    <tr>\n",
       "      <th>2017</th>\n",
       "      <td>4</td>\n",
       "    </tr>\n",
       "    <tr>\n",
       "      <th>2016</th>\n",
       "      <td>3</td>\n",
       "    </tr>\n",
       "    <tr>\n",
       "      <th>2018</th>\n",
       "      <td>3</td>\n",
       "    </tr>\n",
       "    <tr>\n",
       "      <th>2014</th>\n",
       "      <td>2</td>\n",
       "    </tr>\n",
       "    <tr>\n",
       "      <th>1999</th>\n",
       "      <td>1</td>\n",
       "    </tr>\n",
       "    <tr>\n",
       "      <th>2001</th>\n",
       "      <td>1</td>\n",
       "    </tr>\n",
       "    <tr>\n",
       "      <th>2003</th>\n",
       "      <td>1</td>\n",
       "    </tr>\n",
       "    <tr>\n",
       "      <th>2006</th>\n",
       "      <td>1</td>\n",
       "    </tr>\n",
       "    <tr>\n",
       "      <th>2009</th>\n",
       "      <td>1</td>\n",
       "    </tr>\n",
       "    <tr>\n",
       "      <th>2010</th>\n",
       "      <td>1</td>\n",
       "    </tr>\n",
       "    <tr>\n",
       "      <th>2011</th>\n",
       "      <td>1</td>\n",
       "    </tr>\n",
       "    <tr>\n",
       "      <th>2013</th>\n",
       "      <td>1</td>\n",
       "    </tr>\n",
       "    <tr>\n",
       "      <th>2015</th>\n",
       "      <td>1</td>\n",
       "    </tr>\n",
       "    <tr>\n",
       "      <th rowspan=\"20\" valign=\"top\">United States</th>\n",
       "      <th>2017</th>\n",
       "      <td>21</td>\n",
       "    </tr>\n",
       "    <tr>\n",
       "      <th>2016</th>\n",
       "      <td>20</td>\n",
       "    </tr>\n",
       "    <tr>\n",
       "      <th>2015</th>\n",
       "      <td>17</td>\n",
       "    </tr>\n",
       "    <tr>\n",
       "      <th>2018</th>\n",
       "      <td>13</td>\n",
       "    </tr>\n",
       "    <tr>\n",
       "      <th>2014</th>\n",
       "      <td>12</td>\n",
       "    </tr>\n",
       "    <tr>\n",
       "      <th>2012</th>\n",
       "      <td>8</td>\n",
       "    </tr>\n",
       "    <tr>\n",
       "      <th>2013</th>\n",
       "      <td>7</td>\n",
       "    </tr>\n",
       "    <tr>\n",
       "      <th>2019</th>\n",
       "      <td>7</td>\n",
       "    </tr>\n",
       "    <tr>\n",
       "      <th>2011</th>\n",
       "      <td>5</td>\n",
       "    </tr>\n",
       "    <tr>\n",
       "      <th>2009</th>\n",
       "      <td>4</td>\n",
       "    </tr>\n",
       "    <tr>\n",
       "      <th>2008</th>\n",
       "      <td>3</td>\n",
       "    </tr>\n",
       "    <tr>\n",
       "      <th>1990</th>\n",
       "      <td>1</td>\n",
       "    </tr>\n",
       "    <tr>\n",
       "      <th>1999</th>\n",
       "      <td>1</td>\n",
       "    </tr>\n",
       "    <tr>\n",
       "      <th>2000</th>\n",
       "      <td>1</td>\n",
       "    </tr>\n",
       "    <tr>\n",
       "      <th>2002</th>\n",
       "      <td>1</td>\n",
       "    </tr>\n",
       "    <tr>\n",
       "      <th>2005</th>\n",
       "      <td>1</td>\n",
       "    </tr>\n",
       "    <tr>\n",
       "      <th>2006</th>\n",
       "      <td>1</td>\n",
       "    </tr>\n",
       "    <tr>\n",
       "      <th>2007</th>\n",
       "      <td>1</td>\n",
       "    </tr>\n",
       "    <tr>\n",
       "      <th>2010</th>\n",
       "      <td>1</td>\n",
       "    </tr>\n",
       "    <tr>\n",
       "      <th>2020</th>\n",
       "      <td>1</td>\n",
       "    </tr>\n",
       "  </tbody>\n",
       "</table>\n",
       "</div>"
      ],
      "text/plain": [
       "                        founded\n",
       "Country        founded         \n",
       "Canada         2015           4\n",
       "               2017           3\n",
       "               2018           2\n",
       "               2019           2\n",
       "               2010           1\n",
       "               2012           1\n",
       "               2013           1\n",
       "               2014           1\n",
       "               2016           1\n",
       "China          2017           2\n",
       "               2011           1\n",
       "               2015           1\n",
       "               2016           1\n",
       "               2018           1\n",
       "               2019           1\n",
       "France         2013           2\n",
       "               2014           2\n",
       "               2015           2\n",
       "               2016           2\n",
       "               2019           2\n",
       "               2003           1\n",
       "               2007           1\n",
       "               2010           1\n",
       "               2011           1\n",
       "               2017           1\n",
       "South Korea    2015           2\n",
       "               2016           1\n",
       "               2017           1\n",
       "               2018           1\n",
       "               2019           1\n",
       "United Kingdom 2012           5\n",
       "               2017           4\n",
       "               2016           3\n",
       "               2018           3\n",
       "               2014           2\n",
       "               1999           1\n",
       "               2001           1\n",
       "               2003           1\n",
       "               2006           1\n",
       "               2009           1\n",
       "               2010           1\n",
       "               2011           1\n",
       "               2013           1\n",
       "               2015           1\n",
       "United States  2017          21\n",
       "               2016          20\n",
       "               2015          17\n",
       "               2018          13\n",
       "               2014          12\n",
       "               2012           8\n",
       "               2013           7\n",
       "               2019           7\n",
       "               2011           5\n",
       "               2009           4\n",
       "               2008           3\n",
       "               1990           1\n",
       "               1999           1\n",
       "               2000           1\n",
       "               2002           1\n",
       "               2005           1\n",
       "               2006           1\n",
       "               2007           1\n",
       "               2010           1\n",
       "               2020           1"
      ]
     },
     "execution_count": 83,
     "metadata": {},
     "output_type": "execute_result"
    }
   ],
   "source": [
    "pd.DataFrame(ais_dfig.groupby('Country')['founded'].value_counts())"
   ]
  },
  {
   "cell_type": "code",
   "execution_count": 93,
   "metadata": {},
   "outputs": [
    {
     "data": {
      "text/plain": [
       "2017    37\n",
       "2016    32\n",
       "2015    32\n",
       "2018    25\n",
       "2014    19\n",
       "2012    16\n",
       "2019    13\n",
       "2013    12\n",
       "2011    11\n",
       "2009     6\n",
       "2010     5\n",
       "2008     4\n",
       "2007     3\n",
       "2001     2\n",
       "2006     2\n",
       "1999     2\n",
       "2003     2\n",
       "2002     2\n",
       "2000     1\n",
       "2020     1\n",
       "2004     1\n",
       "2005     1\n",
       "1990     1\n",
       "Name: founded, dtype: int64"
      ]
     },
     "execution_count": 93,
     "metadata": {},
     "output_type": "execute_result"
    }
   ],
   "source": [
    "ais_df.founded.value_counts()"
   ]
  },
  {
   "cell_type": "code",
   "execution_count": 95,
   "metadata": {},
   "outputs": [
    {
     "ename": "TypeError",
     "evalue": "lmplot() missing 1 required positional argument: 'data'",
     "output_type": "error",
     "traceback": [
      "\u001b[0;31m---------------------------------------------------------------------------\u001b[0m",
      "\u001b[0;31mTypeError\u001b[0m                                 Traceback (most recent call last)",
      "\u001b[0;32m<ipython-input-95-659b927beb7e>\u001b[0m in \u001b[0;36m<module>\u001b[0;34m\u001b[0m\n\u001b[0;32m----> 1\u001b[0;31m \u001b[0msns\u001b[0m\u001b[0;34m.\u001b[0m\u001b[0mlmplot\u001b[0m\u001b[0;34m(\u001b[0m\u001b[0;34m'founded'\u001b[0m\u001b[0;34m,\u001b[0m  \u001b[0;34m'ais_df.founded.value_counts()'\u001b[0m\u001b[0;34m,\u001b[0m \u001b[0mhue\u001b[0m\u001b[0;34m=\u001b[0m\u001b[0;34m\"Country\"\u001b[0m\u001b[0;34m,\u001b[0m \u001b[0mpalette\u001b[0m\u001b[0;34m=\u001b[0m\u001b[0;34m\"Set1\"\u001b[0m\u001b[0;34m)\u001b[0m\u001b[0;34m\u001b[0m\u001b[0;34m\u001b[0m\u001b[0m\n\u001b[0m",
      "\u001b[0;31mTypeError\u001b[0m: lmplot() missing 1 required positional argument: 'data'"
     ]
    }
   ],
   "source": [
    "sns.lmplot('founded', 'ais_df.founded.value_counts()', hue=\"Country\", palette=\"Set1\")"
   ]
  },
  {
   "cell_type": "code",
   "execution_count": 114,
   "metadata": {},
   "outputs": [
    {
     "data": {
      "text/plain": [
       "['company',\n",
       " 'founded',\n",
       " 'headquarters',\n",
       " 'purpose',\n",
       " 'use',\n",
       " 'City',\n",
       " 'State',\n",
       " 'Country',\n",
       " 'drug',\n",
       " 'indication',\n",
       " 'stage',\n",
       " 'therapeutic_area']"
      ]
     },
     "execution_count": 114,
     "metadata": {},
     "output_type": "execute_result"
    }
   ],
   "source": [
    "test.columns.tolist()"
   ]
  },
  {
   "cell_type": "code",
   "execution_count": 130,
   "metadata": {},
   "outputs": [
    {
     "data": {
      "text/plain": [
       "<matplotlib.axes._subplots.AxesSubplot at 0x1a298fbb50>"
      ]
     },
     "execution_count": 130,
     "metadata": {},
     "output_type": "execute_result"
    },
    {
     "data": {
      "image/png": "[encoded data removed]",
      "text/plain": [
       "<Figure size 432x288 with 1 Axes>"
      ]
     },
     "metadata": {},
     "output_type": "display_data"
    }
   ],
   "source": [
    "test_fig = test.groupby('Country').filter(lambda x: x.shape[0] > 8)\n",
    "test_fig.groupby('Country')['therapeutic_area'].value_counts().sort_values(ascending=False).plot.bar()"
   ]
  },
  {
   "cell_type": "code",
   "execution_count": 132,
   "metadata": {},
   "outputs": [
    {
     "data": {
      "text/plain": [
       "<matplotlib.axes._subplots.AxesSubplot at 0x1a29c61810>"
      ]
     },
     "execution_count": 132,
     "metadata": {},
     "output_type": "execute_result"
    },
    {
     "data": {
      "image/png": "[encoded data removed]",
      "text/plain": [
       "<Figure size 432x288 with 1 Axes>"
      ]
     },
     "metadata": {},
     "output_type": "display_data"
    }
   ],
   "source": [
    "test_fig.groupby('therapeutic_area')['therapeutic_area'].value_counts().sort_values(ascending=False).plot.bar()"
   ]
  },
  {
   "cell_type": "code",
   "execution_count": null,
   "metadata": {},
   "outputs": [],
   "source": []
  }
 ],
 "metadata": {
  "kernelspec": {
   "display_name": "Python 3",
   "language": "python",
   "name": "python3"
  },
  "language_info": {
   "codemirror_mode": {
    "name": "ipython",
    "version": 3
   },
   "file_extension": ".py",
   "mimetype": "text/x-python",
   "name": "python",
   "nbconvert_exporter": "python",
   "pygments_lexer": "ipython3",
   "version": "3.7.6"
  }
 },
 "nbformat": 4,
 "nbformat_minor": 4
}
